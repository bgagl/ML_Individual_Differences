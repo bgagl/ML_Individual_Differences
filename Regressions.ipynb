{
 "cells": [
  {
   "cell_type": "markdown",
   "id": "40029b54",
   "metadata": {},
   "source": [
    "# Regressions"
   ]
  },
  {
   "cell_type": "markdown",
   "id": "c83ce13f",
   "metadata": {},
   "source": [
    "Regressions, in contrast to classification methods, allow the prediction of a point estimate and not only the prediction of a category. Going back to the eyesight example, one would not predict if an individual needs glasses or not but rather the thickness of the glasses. \n",
    "Regression analysis is a statistical method used in machine learning to predict a continuous outcome variable based on one or more predictor variables. Regression analysis aims to find the relationship between the predictor and outcome variables and use that relationship to make predictions. The essence of regression analysis is to find a mathematical equation that describes the relationship between the predictor and outcome variables and use that equation to make predictions. It is one of the most widely used techniques in machine learning and statistics, as it can be applied to many problems and easily interpreted.\n",
    "\n",
    "Here we will work with a dataset that was part of a recent publication.\n",
    "\n",
    "![alt text](./images/nhb_ds.jpg \"Title\")\n",
    "\n",
    "The dataset includes data from German-native and -non-native readers. \n",
    "- `vp_code` ... Participant identifier\n",
    "- `eyemovement_rate` ... Eye-movement rate in silent reading\n",
    "- `speech_rate` ... Speed of speech\n",
    "- `reading_speed` ... Reading speed measure from a screening\n",
    "- `group` ... Native or Non-native German speaker\n",
    "\n",
    "The goal of this example here is not to predict reading speed (`reading_speed`) from the other three measures. \n",
    "\n",
    "First, load the libraries, functions, and data we need for this example. "
   ]
  },
  {
   "cell_type": "code",
   "execution_count": 1,
   "id": "4f533c41",
   "metadata": {},
   "outputs": [],
   "source": [
    "import matplotlib.pyplot as plt\n",
    "import pandas as pd\n",
    "import numpy as np\n",
    "from scipy.optimize import curve_fit\n",
    "from sklearn.linear_model import LinearRegression, Ridge\n",
    "from sklearn.model_selection import train_test_split, cross_val_score\n",
    "from sklearn.metrics import mean_squared_error\n",
    "from sklearn.feature_selection import RFECV"
   ]
  },
  {
   "cell_type": "code",
   "execution_count": null,
   "id": "82d0a2cf",
   "metadata": {},
   "outputs": [],
   "source": [
    "# Works only on COLAB #\n",
    "def read_csv_from_github(url):\n",
    "    import requests\n",
    "    from io import StringIO\n",
    "    response = requests.get(url)\n",
    "    data = response.text\n",
    "    return pd.read_csv(StringIO(data))\n",
    "\n",
    "url = 'https://github.com/bgagl/ML_Individual_Differences/raw/5b70d36362172bb50d5be984e8c97526dda26bd2/datasets/data_eye_speech.csv'\n",
    "df = read_csv_from_github(url=url)\n",
    "df.head()\n"
   ]
  },
  {
   "cell_type": "code",
   "execution_count": 2,
   "id": "6174e406",
   "metadata": {},
   "outputs": [
    {
     "data": {
      "text/html": [
       "<div>\n",
       "<style scoped>\n",
       "    .dataframe tbody tr th:only-of-type {\n",
       "        vertical-align: middle;\n",
       "    }\n",
       "\n",
       "    .dataframe tbody tr th {\n",
       "        vertical-align: top;\n",
       "    }\n",
       "\n",
       "    .dataframe thead th {\n",
       "        text-align: right;\n",
       "    }\n",
       "</style>\n",
       "<table border=\"1\" class=\"dataframe\">\n",
       "  <thead>\n",
       "    <tr style=\"text-align: right;\">\n",
       "      <th></th>\n",
       "      <th>vp_code</th>\n",
       "      <th>eyemovement_rate</th>\n",
       "      <th>speech_rate</th>\n",
       "      <th>reading_speed</th>\n",
       "      <th>group</th>\n",
       "    </tr>\n",
       "  </thead>\n",
       "  <tbody>\n",
       "    <tr>\n",
       "      <th>0</th>\n",
       "      <td>001</td>\n",
       "      <td>4.876513</td>\n",
       "      <td>4.929337</td>\n",
       "      <td>45.454545</td>\n",
       "      <td>1</td>\n",
       "    </tr>\n",
       "    <tr>\n",
       "      <th>1</th>\n",
       "      <td>ABAFT17</td>\n",
       "      <td>5.029528</td>\n",
       "      <td>5.039975</td>\n",
       "      <td>83.116883</td>\n",
       "      <td>1</td>\n",
       "    </tr>\n",
       "    <tr>\n",
       "      <th>2</th>\n",
       "      <td>ACNMG09</td>\n",
       "      <td>5.299456</td>\n",
       "      <td>4.870547</td>\n",
       "      <td>57.142857</td>\n",
       "      <td>1</td>\n",
       "    </tr>\n",
       "    <tr>\n",
       "      <th>3</th>\n",
       "      <td>AKAFF09</td>\n",
       "      <td>4.690483</td>\n",
       "      <td>4.440987</td>\n",
       "      <td>64.935065</td>\n",
       "      <td>1</td>\n",
       "    </tr>\n",
       "    <tr>\n",
       "      <th>4</th>\n",
       "      <td>AMAMG16</td>\n",
       "      <td>5.067032</td>\n",
       "      <td>5.375254</td>\n",
       "      <td>63.636364</td>\n",
       "      <td>1</td>\n",
       "    </tr>\n",
       "  </tbody>\n",
       "</table>\n",
       "</div>"
      ],
      "text/plain": [
       "   vp_code  eyemovement_rate  speech_rate  reading_speed  group\n",
       "0      001          4.876513     4.929337      45.454545      1\n",
       "1  ABAFT17          5.029528     5.039975      83.116883      1\n",
       "2  ACNMG09          5.299456     4.870547      57.142857      1\n",
       "3  AKAFF09          4.690483     4.440987      64.935065      1\n",
       "4  AMAMG16          5.067032     5.375254      63.636364      1"
      ]
     },
     "execution_count": 2,
     "metadata": {},
     "output_type": "execute_result"
    }
   ],
   "source": [
    "df = pd.read_csv(\"./datasets/data_eye_speech.csv\")\n",
    "df.head()"
   ]
  },
  {
   "cell_type": "markdown",
   "id": "81b58e38",
   "metadata": {},
   "source": [
    "Next, let's start with a simple version of a regression model that fits a model with only one feature. In this case, we begin with `eyemovement_rate` as a feature for the prediction of `reading_speed`. "
   ]
  },
  {
   "cell_type": "code",
   "execution_count": 3,
   "id": "9566156c",
   "metadata": {
    "scrolled": false
   },
   "outputs": [],
   "source": [
    "X = df[\"eyemovement_rate\"].values.reshape(-1, 1)\n",
    "y = df[\"reading_speed\"]"
   ]
  },
  {
   "cell_type": "markdown",
   "id": "ad008c38",
   "metadata": {},
   "source": [
    "Then we define the regression method, in this case, a linear regression (i.e., `LinearRegression`) and the train-test split of the data. "
   ]
  },
  {
   "cell_type": "code",
   "execution_count": 18,
   "id": "af45dc6f",
   "metadata": {
    "scrolled": false
   },
   "outputs": [],
   "source": [
    "reg = LinearRegression()\n",
    "X_train, X_test, y_train, y_test = train_test_split(X, y, test_size=0.5)"
   ]
  },
  {
   "cell_type": "markdown",
   "id": "fa0c9e6f",
   "metadata": {},
   "source": [
    "Next, we fit the model and predict `reading_speed` based on the model and the training data. \n",
    "\n",
    "Now we have an observed and a predicted reading speed, which we can correlate to determine how similar the prediction is to the observed data. Remember, when the correlation coefficient is 1, they are highly similar. When the value is around 0, no similarity can be identified. Note that a negative correlation coefficient indicates an inverse relationship between two lists. "
   ]
  },
  {
   "cell_type": "code",
   "execution_count": 19,
   "id": "08bf8888",
   "metadata": {
    "scrolled": false
   },
   "outputs": [
    {
     "data": {
      "text/plain": [
       "array([[1.        , 0.34655206],\n",
       "       [0.34655206, 1.        ]])"
      ]
     },
     "execution_count": 19,
     "metadata": {},
     "output_type": "execute_result"
    }
   ],
   "source": [
    "reg.fit(X_train, y_train)\n",
    "np.corrcoef(reg.predict(X_test),y_test)"
   ]
  },
  {
   "cell_type": "markdown",
   "id": "a8c0043e",
   "metadata": {},
   "source": [
    "The correlation is medium in size. Meaning there is similarity, but there is also dissimilarity. \n",
    "\n",
    "We can also look at the mean squared error as a metric for how well the model fits the data. This metric describes the mean over all squared distances between a predicted value and the actual value. E.g., when the model predicts a reading score of 25, but the actual reading score of the person is 29, we have been off by 4 points. We underestimated the actual score in this case, so the difference is -4. When we now square this difference, the result is 16. Squaring this value has the reason to remove the sign. Thus an over or an underestimation of 4 points results in both in the value of 16. "
   ]
  },
  {
   "cell_type": "code",
   "execution_count": 20,
   "id": "d8f939fc",
   "metadata": {},
   "outputs": [
    {
     "name": "stdout",
     "output_type": "stream",
     "text": [
      "Mean squared error for the training set: 613.83\n"
     ]
    }
   ],
   "source": [
    "mse = mean_squared_error(reg.predict(X_train),y_train)\n",
    "print(\"Mean squared error for the training set: {:.2f}\".format(mse))"
   ]
  },
  {
   "cell_type": "markdown",
   "id": "3695f888",
   "metadata": {},
   "source": [
    "Next, we calculate the mean squared error in cross-validation with 5 folds. Note `cross_val_score` only gives back negative mean squared error values. Thus we multiply the scores with `-1`."
   ]
  },
  {
   "cell_type": "code",
   "execution_count": 21,
   "id": "2774c674",
   "metadata": {
    "scrolled": false
   },
   "outputs": [
    {
     "name": "stdout",
     "output_type": "stream",
     "text": [
      "Cross-validation scores: [734.57929928 574.26659226 621.96893834 531.98017476 691.2728835 ]\n",
      "Average score: 630.81\n"
     ]
    }
   ],
   "source": [
    "scores = cross_val_score(reg, X_train, y_train, cv=5, scoring=\"neg_mean_squared_error\")*-1\n",
    "print(\"Cross-validation scores: {}\".format(scores))\n",
    "print(\"Average score: {:.2f}\".format(scores.mean()))"
   ]
  },
  {
   "cell_type": "markdown",
   "id": "c0827890",
   "metadata": {},
   "source": [
    "In the final part, we estimate the quality of the prediction on the test dataset."
   ]
  },
  {
   "cell_type": "code",
   "execution_count": 22,
   "id": "d78d1886",
   "metadata": {
    "scrolled": false
   },
   "outputs": [
    {
     "name": "stdout",
     "output_type": "stream",
     "text": [
      "Mean squared error for the test set: 836.60\n"
     ]
    }
   ],
   "source": [
    "mse_test = mean_squared_error(reg.predict(X_test),y_test)\n",
    "print(\"Mean squared error for the test set: {:.2f}\".format(mse_test))"
   ]
  },
  {
   "cell_type": "markdown",
   "id": "925ebcc1",
   "metadata": {},
   "source": [
    "Based on the same logic learned for evaluating the categorization models, we can now assess the quality of the model based on the three metrics from training-, CV-, and test- data.\n",
    "\n",
    "To get a better picture, we plot a scatterplot for the training and test data with the model represented as a regression line. "
   ]
  },
  {
   "cell_type": "code",
   "execution_count": 23,
   "id": "99db6d10",
   "metadata": {},
   "outputs": [
    {
     "data": {
      "image/png": "[encoded data removed]",
      "text/plain": [
       "<Figure size 640x480 with 1 Axes>"
      ]
     },
     "metadata": {},
     "output_type": "display_data"
    },
    {
     "data": {
      "image/png": "[encoded data removed]",
      "text/plain": [
       "<Figure size 640x480 with 1 Axes>"
      ]
     },
     "metadata": {},
     "output_type": "display_data"
    }
   ],
   "source": [
    "plt.scatter(X_train,y_train, label=\"Data\")\n",
    "plt.plot(X_train, reg.predict(X_train),color=\"r\", label=\"Regression model prediction\")\n",
    "plt.legend()\n",
    "plt.xlabel(\"Eye-movement rate\")\n",
    "plt.ylabel(\"Reading speed\")\n",
    "plt.title(\"Training data\")\n",
    "plt.xlim([2.8, 6])\n",
    "plt.ylim([0, 100])\n",
    "plt.show()\n",
    "\n",
    "plt.scatter(X_test,y_test, label=\"Data\")\n",
    "plt.plot( X_test, reg.predict(X_test),color=\"r\", label=\"Regression model prediction\")\n",
    "plt.legend()\n",
    "plt.xlabel(\"Eye-movement rate\")\n",
    "plt.ylabel(\"Reading speed\")\n",
    "plt.title(\"Test data\")\n",
    "plt.xlim([2.8, 6])\n",
    "plt.ylim([0, 100])\n",
    "plt.show()"
   ]
  },
  {
   "cell_type": "markdown",
   "id": "c733b46d",
   "metadata": {},
   "source": [
    "Overall the fit could be better. \n",
    "\n",
    "\n",
    "**Exercise** Fit a regression model to predict the reading speed based on the `speech_rate` and evaluate the model as above."
   ]
  },
  {
   "cell_type": "code",
   "execution_count": null,
   "id": "8195e164",
   "metadata": {},
   "outputs": [],
   "source": []
  },
  {
   "cell_type": "markdown",
   "id": "82e94f0d",
   "metadata": {},
   "source": [
    "Next, we try to get a better model by adding new features. Here we now use the eye movement rate, speech rate, and group variable as features. \n",
    "\n",
    "To do this, we use the `drop` function from pandas and select the two variables that should not be part of the features. In this case, our target value, the `reading_speed`, and the participant indicator, which makes no sense to use as a feature `vp_code`. Also, categorical values cannot be used in a classical linear regression model. "
   ]
  },
  {
   "cell_type": "code",
   "execution_count": 24,
   "id": "3e2b3f87",
   "metadata": {
    "scrolled": false
   },
   "outputs": [],
   "source": [
    "X = df.drop([\"reading_speed\",\"vp_code\"], axis=1)"
   ]
  },
  {
   "cell_type": "markdown",
   "id": "eef174b8",
   "metadata": {},
   "source": [
    "Next, we again fit and evaluate the model. "
   ]
  },
  {
   "cell_type": "code",
   "execution_count": 37,
   "id": "68be37e3",
   "metadata": {
    "scrolled": false
   },
   "outputs": [
    {
     "data": {
      "text/plain": [
       "array([[1.        , 0.86447313],\n",
       "       [0.86447313, 1.        ]])"
      ]
     },
     "execution_count": 37,
     "metadata": {},
     "output_type": "execute_result"
    }
   ],
   "source": [
    "X_train, X_test, y_train, y_test = train_test_split(X, y, test_size=0.2)\n",
    "\n",
    "reg.fit(X_train, y_train)\n",
    "np.corrcoef(reg.predict(X_test),y_test)"
   ]
  },
  {
   "cell_type": "markdown",
   "id": "04c9f1d4",
   "metadata": {},
   "source": [
    "In contrast to the previous models, the correlation is now very high. This might be the first indication that the model fit is much better. "
   ]
  },
  {
   "cell_type": "code",
   "execution_count": 38,
   "id": "e5c9db03",
   "metadata": {},
   "outputs": [
    {
     "name": "stdout",
     "output_type": "stream",
     "text": [
      "Mean squared error for the training set: 119.01\n",
      "Cross-validation scores: [171.69214968  79.00911004 110.26436428 124.53529573 153.87935298]\n",
      "Average score: 127.88\n",
      "Mean squared error for the test set: 212.36\n"
     ]
    }
   ],
   "source": [
    "mse = mean_squared_error(reg.predict(X_train),y_train)\n",
    "print(\"Mean squared error for the training set: {:.2f}\".format(mse))\n",
    "\n",
    "scores = cross_val_score(reg, X_train, y_train, cv=5, scoring=\"neg_mean_squared_error\")*-1\n",
    "print(\"Cross-validation scores: {}\".format(scores))\n",
    "print(\"Average score: {:.2f}\".format(scores.mean()))\n",
    "\n",
    "mse_test = mean_squared_error(reg.predict(X_test),y_test)\n",
    "print(\"Mean squared error for the test set: {:.2f}\".format(mse_test))"
   ]
  },
  {
   "cell_type": "markdown",
   "id": "306b4e80",
   "metadata": {},
   "source": [
    "As already assumed by the correlation, we also find much lower mean squared error values. \n",
    "\n",
    "**Exercise** Show a figure with a regression line as above. "
   ]
  },
  {
   "cell_type": "code",
   "execution_count": null,
   "id": "011f99b7",
   "metadata": {},
   "outputs": [],
   "source": []
  },
  {
   "cell_type": "markdown",
   "id": "5a9eaaef",
   "metadata": {},
   "source": [
    "**Feature Selection**\n",
    "\n",
    "So taking all features gives us the best model, but is this a good strategy? Clearly no.\n",
    "Here are some reasons why it is essential to keep the number of features at optimal number is critical for several reasons:\n",
    "- Simplicity and interpretability: Having too many features can make the model more complex and easier to interpret.\n",
    "- Overfitting: Too many features can lead to overfitting as the likelihood of fitting a noise component increases.\n",
    "- Computational efficiency\n",
    "Thus keeping the number of features in machine learning at an optimal number is beneficial. \n",
    "\n",
    "Next, we reduce the number of parameters to an optimum. A first indicator could be again the correlations between the features. "
   ]
  },
  {
   "cell_type": "code",
   "execution_count": 11,
   "id": "d4fe5acc",
   "metadata": {},
   "outputs": [
    {
     "data": {
      "text/html": [
       "<div>\n",
       "<style scoped>\n",
       "    .dataframe tbody tr th:only-of-type {\n",
       "        vertical-align: middle;\n",
       "    }\n",
       "\n",
       "    .dataframe tbody tr th {\n",
       "        vertical-align: top;\n",
       "    }\n",
       "\n",
       "    .dataframe thead th {\n",
       "        text-align: right;\n",
       "    }\n",
       "</style>\n",
       "<table border=\"1\" class=\"dataframe\">\n",
       "  <thead>\n",
       "    <tr style=\"text-align: right;\">\n",
       "      <th></th>\n",
       "      <th>eyemovement_rate</th>\n",
       "      <th>speech_rate</th>\n",
       "      <th>reading_speed</th>\n",
       "      <th>group</th>\n",
       "    </tr>\n",
       "  </thead>\n",
       "  <tbody>\n",
       "    <tr>\n",
       "      <th>eyemovement_rate</th>\n",
       "      <td>1.000000</td>\n",
       "      <td>0.306936</td>\n",
       "      <td>0.398437</td>\n",
       "      <td>0.400984</td>\n",
       "    </tr>\n",
       "    <tr>\n",
       "      <th>speech_rate</th>\n",
       "      <td>0.306936</td>\n",
       "      <td>1.000000</td>\n",
       "      <td>0.469060</td>\n",
       "      <td>0.444221</td>\n",
       "    </tr>\n",
       "    <tr>\n",
       "      <th>reading_speed</th>\n",
       "      <td>0.398437</td>\n",
       "      <td>0.469060</td>\n",
       "      <td>1.000000</td>\n",
       "      <td>0.913871</td>\n",
       "    </tr>\n",
       "    <tr>\n",
       "      <th>group</th>\n",
       "      <td>0.400984</td>\n",
       "      <td>0.444221</td>\n",
       "      <td>0.913871</td>\n",
       "      <td>1.000000</td>\n",
       "    </tr>\n",
       "  </tbody>\n",
       "</table>\n",
       "</div>"
      ],
      "text/plain": [
       "                  eyemovement_rate  speech_rate  reading_speed     group\n",
       "eyemovement_rate          1.000000     0.306936       0.398437  0.400984\n",
       "speech_rate               0.306936     1.000000       0.469060  0.444221\n",
       "reading_speed             0.398437     0.469060       1.000000  0.913871\n",
       "group                     0.400984     0.444221       0.913871  1.000000"
      ]
     },
     "execution_count": 11,
     "metadata": {},
     "output_type": "execute_result"
    }
   ],
   "source": [
    "df.corr()"
   ]
  },
  {
   "cell_type": "markdown",
   "id": "d57c7b46",
   "metadata": {},
   "source": [
    "Here we already see that the one feature, i.e., the `group` variable, is highly correlated with our outcome measure `reading_speed`.\n",
    "\n",
    "One can also use methods like `RFE` (i.e., Recursive Feature Elimination) to find the optimal set of features. Here we want to find the optimal set of features for our LinearRegression model. RFE is a feature selection method that recursively removes features and then builds a model using the remaining ones. Model accuracy is used to identify which feature combination contributes to an accurate prediction. \n",
    "\n",
    "Here we use the `RFE` version that already includes cross-validation (`RFECV`)."
   ]
  },
  {
   "cell_type": "code",
   "execution_count": 39,
   "id": "93f94527",
   "metadata": {
    "scrolled": false
   },
   "outputs": [
    {
     "data": {
      "text/html": [
       "<style>#sk-container-id-1 {color: black;background-color: white;}#sk-container-id-1 pre{padding: 0;}#sk-container-id-1 div.sk-toggleable {background-color: white;}#sk-container-id-1 label.sk-toggleable__label {cursor: pointer;display: block;width: 100%;margin-bottom: 0;padding: 0.3em;box-sizing: border-box;text-align: center;}#sk-container-id-1 label.sk-toggleable__label-arrow:before {content: \"▸\";float: left;margin-right: 0.25em;color: #696969;}#sk-container-id-1 label.sk-toggleable__label-arrow:hover:before {color: black;}#sk-container-id-1 div.sk-estimator:hover label.sk-toggleable__label-arrow:before {color: black;}#sk-container-id-1 div.sk-toggleable__content {max-height: 0;max-width: 0;overflow: hidden;text-align: left;background-color: #f0f8ff;}#sk-container-id-1 div.sk-toggleable__content pre {margin: 0.2em;color: black;border-radius: 0.25em;background-color: #f0f8ff;}#sk-container-id-1 input.sk-toggleable__control:checked~div.sk-toggleable__content {max-height: 200px;max-width: 100%;overflow: auto;}#sk-container-id-1 input.sk-toggleable__control:checked~label.sk-toggleable__label-arrow:before {content: \"▾\";}#sk-container-id-1 div.sk-estimator input.sk-toggleable__control:checked~label.sk-toggleable__label {background-color: #d4ebff;}#sk-container-id-1 div.sk-label input.sk-toggleable__control:checked~label.sk-toggleable__label {background-color: #d4ebff;}#sk-container-id-1 input.sk-hidden--visually {border: 0;clip: rect(1px 1px 1px 1px);clip: rect(1px, 1px, 1px, 1px);height: 1px;margin: -1px;overflow: hidden;padding: 0;position: absolute;width: 1px;}#sk-container-id-1 div.sk-estimator {font-family: monospace;background-color: #f0f8ff;border: 1px dotted black;border-radius: 0.25em;box-sizing: border-box;margin-bottom: 0.5em;}#sk-container-id-1 div.sk-estimator:hover {background-color: #d4ebff;}#sk-container-id-1 div.sk-parallel-item::after {content: \"\";width: 100%;border-bottom: 1px solid gray;flex-grow: 1;}#sk-container-id-1 div.sk-label:hover label.sk-toggleable__label {background-color: #d4ebff;}#sk-container-id-1 div.sk-serial::before {content: \"\";position: absolute;border-left: 1px solid gray;box-sizing: border-box;top: 0;bottom: 0;left: 50%;z-index: 0;}#sk-container-id-1 div.sk-serial {display: flex;flex-direction: column;align-items: center;background-color: white;padding-right: 0.2em;padding-left: 0.2em;position: relative;}#sk-container-id-1 div.sk-item {position: relative;z-index: 1;}#sk-container-id-1 div.sk-parallel {display: flex;align-items: stretch;justify-content: center;background-color: white;position: relative;}#sk-container-id-1 div.sk-item::before, #sk-container-id-1 div.sk-parallel-item::before {content: \"\";position: absolute;border-left: 1px solid gray;box-sizing: border-box;top: 0;bottom: 0;left: 50%;z-index: -1;}#sk-container-id-1 div.sk-parallel-item {display: flex;flex-direction: column;z-index: 1;position: relative;background-color: white;}#sk-container-id-1 div.sk-parallel-item:first-child::after {align-self: flex-end;width: 50%;}#sk-container-id-1 div.sk-parallel-item:last-child::after {align-self: flex-start;width: 50%;}#sk-container-id-1 div.sk-parallel-item:only-child::after {width: 0;}#sk-container-id-1 div.sk-dashed-wrapped {border: 1px dashed gray;margin: 0 0.4em 0.5em 0.4em;box-sizing: border-box;padding-bottom: 0.4em;background-color: white;}#sk-container-id-1 div.sk-label label {font-family: monospace;font-weight: bold;display: inline-block;line-height: 1.2em;}#sk-container-id-1 div.sk-label-container {text-align: center;}#sk-container-id-1 div.sk-container {/* jupyter's `normalize.less` sets `[hidden] { display: none; }` but bootstrap.min.css set `[hidden] { display: none !important; }` so we also need the `!important` here to be able to override the default hidden behavior on the sphinx rendered scikit-learn.org. See: https://github.com/scikit-learn/scikit-learn/issues/21755 */display: inline-block !important;position: relative;}#sk-container-id-1 div.sk-text-repr-fallback {display: none;}</style><div id=\"sk-container-id-1\" class=\"sk-top-container\"><div class=\"sk-text-repr-fallback\"><pre>RFECV(cv=5, estimator=LinearRegression())</pre><b>In a Jupyter environment, please rerun this cell to show the HTML representation or trust the notebook. <br />On GitHub, the HTML representation is unable to render, please try loading this page with nbviewer.org.</b></div><div class=\"sk-container\" hidden><div class=\"sk-item sk-dashed-wrapped\"><div class=\"sk-label-container\"><div class=\"sk-label sk-toggleable\"><input class=\"sk-toggleable__control sk-hidden--visually\" id=\"sk-estimator-id-1\" type=\"checkbox\" ><label for=\"sk-estimator-id-1\" class=\"sk-toggleable__label sk-toggleable__label-arrow\">RFECV</label><div class=\"sk-toggleable__content\"><pre>RFECV(cv=5, estimator=LinearRegression())</pre></div></div></div><div class=\"sk-parallel\"><div class=\"sk-parallel-item\"><div class=\"sk-item\"><div class=\"sk-label-container\"><div class=\"sk-label sk-toggleable\"><input class=\"sk-toggleable__control sk-hidden--visually\" id=\"sk-estimator-id-2\" type=\"checkbox\" ><label for=\"sk-estimator-id-2\" class=\"sk-toggleable__label sk-toggleable__label-arrow\">estimator: LinearRegression</label><div class=\"sk-toggleable__content\"><pre>LinearRegression()</pre></div></div></div><div class=\"sk-serial\"><div class=\"sk-item\"><div class=\"sk-estimator sk-toggleable\"><input class=\"sk-toggleable__control sk-hidden--visually\" id=\"sk-estimator-id-3\" type=\"checkbox\" ><label for=\"sk-estimator-id-3\" class=\"sk-toggleable__label sk-toggleable__label-arrow\">LinearRegression</label><div class=\"sk-toggleable__content\"><pre>LinearRegression()</pre></div></div></div></div></div></div></div></div></div></div>"
      ],
      "text/plain": [
       "RFECV(cv=5, estimator=LinearRegression())"
      ]
     },
     "execution_count": 39,
     "metadata": {},
     "output_type": "execute_result"
    }
   ],
   "source": [
    "model = LinearRegression()\n",
    "rfecv = RFECV(model, cv=5)\n",
    "rfecv.fit(X, y)"
   ]
  },
  {
   "cell_type": "markdown",
   "id": "910515c5",
   "metadata": {},
   "source": [
    "After fitting we can now look at the number of features and the name of the features. "
   ]
  },
  {
   "cell_type": "code",
   "execution_count": 40,
   "id": "ebea7457",
   "metadata": {
    "scrolled": false
   },
   "outputs": [
    {
     "name": "stdout",
     "output_type": "stream",
     "text": [
      "Optimal number of features:  1\n",
      "Optimal features:  Index(['group'], dtype='object')\n"
     ]
    }
   ],
   "source": [
    "print(\"Optimal number of features: \", rfecv.n_features_)\n",
    "print(\"Optimal features: \", X.columns[rfecv.support_])"
   ]
  },
  {
   "cell_type": "markdown",
   "id": "aec542b0",
   "metadata": {},
   "source": [
    "As the correlations suggest, the model with only the group features has the optimal number and type of features. \n",
    "\n",
    "**Exercise** Find the optimal set of parameters when we do not include the `group` feature. Use also, instead of a linear regression, the ridge regression method (`Ridge()`)"
   ]
  },
  {
   "cell_type": "code",
   "execution_count": null,
   "id": "3512f6be",
   "metadata": {
    "pycharm": {
     "is_executing": true
    }
   },
   "outputs": [],
   "source": []
  }
 ],
 "metadata": {
  "kernelspec": {
   "display_name": "Python 3 (ipykernel)",
   "language": "python",
   "name": "python3"
  },
  "language_info": {
   "codemirror_mode": {
    "name": "ipython",
    "version": 3
   },
   "file_extension": ".py",
   "mimetype": "text/x-python",
   "name": "python",
   "nbconvert_exporter": "python",
   "pygments_lexer": "ipython3",
   "version": "3.9.12"
  }
 },
 "nbformat": 4,
 "nbformat_minor": 5
}
