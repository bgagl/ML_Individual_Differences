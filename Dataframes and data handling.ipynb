{
 "cells": [
  {
   "cell_type": "markdown",
   "id": "e1c63205",
   "metadata": {},
   "source": [
    "# Dataframes and data handling"
   ]
  },
  {
   "cell_type": "markdown",
   "id": "1593b693",
   "metadata": {},
   "source": [
    "Dataframes are tabular data structures with labeled axes (rows and columns; like in excel). These data structures are commonly used in data science using software libraries such as Pandas and R dataframe (a reminder for those familiar with R).\n",
    "\n",
    "Here we will use [pandas](https://pandas.pydata.org/docs/). Find a cheat sheet [here](http://datacamp-community-prod.s3.amazonaws.com/dbed353d-2757-4617-8206-8767ab379ab3) \n",
    "\n",
    "First we will import two libraries: `pandas` and `random`"
   ]
  },
  {
   "cell_type": "code",
   "execution_count": 36,
   "id": "5731983e",
   "metadata": {},
   "outputs": [],
   "source": [
    "import pandas as pd\n",
    "import random\n",
    "import numpy as np"
   ]
  },
  {
   "cell_type": "markdown",
   "id": "e890f120",
   "metadata": {},
   "source": [
    "First lets define a simple example dataframe with 100 rows and two colums with random variables. "
   ]
  },
  {
   "cell_type": "code",
   "execution_count": 37,
   "id": "7536ce4d",
   "metadata": {},
   "outputs": [],
   "source": [
    "num_rows = 100\n",
    "random_data_integer = [random.randint(0, 100) for i in range(num_rows)]\n",
    "random_data_float = np.random.normal(loc=0, scale=1, size=100)"
   ]
  },
  {
   "cell_type": "markdown",
   "id": "efd6f5e6",
   "metadata": {},
   "source": [
    "Then we create a **dictionary** (datastructure that represents a collection of variables of any type) with the two lists of data."
   ]
  },
  {
   "cell_type": "code",
   "execution_count": 38,
   "id": "1ecb1da4",
   "metadata": {},
   "outputs": [
    {
     "data": {
      "text/plain": [
       "{'Random Integer': [12,\n",
       "  30,\n",
       "  74,\n",
       "  18,\n",
       "  14,\n",
       "  7,\n",
       "  8,\n",
       "  48,\n",
       "  90,\n",
       "  18,\n",
       "  95,\n",
       "  63,\n",
       "  91,\n",
       "  49,\n",
       "  73,\n",
       "  34,\n",
       "  38,\n",
       "  55,\n",
       "  22,\n",
       "  21,\n",
       "  80,\n",
       "  59,\n",
       "  16,\n",
       "  29,\n",
       "  98,\n",
       "  56,\n",
       "  13,\n",
       "  98,\n",
       "  63,\n",
       "  22,\n",
       "  33,\n",
       "  0,\n",
       "  65,\n",
       "  72,\n",
       "  74,\n",
       "  36,\n",
       "  22,\n",
       "  85,\n",
       "  34,\n",
       "  36,\n",
       "  21,\n",
       "  30,\n",
       "  76,\n",
       "  90,\n",
       "  11,\n",
       "  33,\n",
       "  67,\n",
       "  59,\n",
       "  54,\n",
       "  9,\n",
       "  54,\n",
       "  4,\n",
       "  30,\n",
       "  28,\n",
       "  70,\n",
       "  84,\n",
       "  11,\n",
       "  87,\n",
       "  55,\n",
       "  97,\n",
       "  71,\n",
       "  20,\n",
       "  72,\n",
       "  79,\n",
       "  66,\n",
       "  18,\n",
       "  24,\n",
       "  3,\n",
       "  51,\n",
       "  69,\n",
       "  27,\n",
       "  17,\n",
       "  89,\n",
       "  36,\n",
       "  71,\n",
       "  50,\n",
       "  51,\n",
       "  97,\n",
       "  15,\n",
       "  55,\n",
       "  65,\n",
       "  10,\n",
       "  69,\n",
       "  42,\n",
       "  80,\n",
       "  57,\n",
       "  63,\n",
       "  98,\n",
       "  30,\n",
       "  39,\n",
       "  96,\n",
       "  1,\n",
       "  82,\n",
       "  75,\n",
       "  81,\n",
       "  100,\n",
       "  40,\n",
       "  24,\n",
       "  86,\n",
       "  99],\n",
       " 'Random Float': array([ 1.73011685, -1.21550732, -0.21105616, -0.37548494, -0.34645501,\n",
       "        -0.55530602, -0.52664169, -0.08106634,  0.02150589,  0.98968158,\n",
       "        -1.98436589,  0.59126804,  0.56739495,  1.4761076 , -0.60251177,\n",
       "         1.82048021,  1.77069305, -0.18062752,  1.277264  , -0.35035954,\n",
       "         0.27346137, -0.43947682,  0.95346465, -0.75697987, -0.87954282,\n",
       "         0.53894831,  0.16123195, -0.01940373,  1.14915338, -1.1230865 ,\n",
       "         0.36815639,  0.62901074, -0.72235424, -0.65818706, -0.49562847,\n",
       "         0.19386411, -1.86699384, -1.24435782,  1.13106036,  0.41951654,\n",
       "        -0.33450543,  1.98061243,  0.96230777,  1.44670732,  0.49077603,\n",
       "        -0.54776244,  1.00812579,  0.77248097,  0.22662188, -0.31590833,\n",
       "        -1.41475798, -0.46164402, -0.02478616, -1.81468396, -1.19014435,\n",
       "        -0.16389462, -0.18437685, -1.62413536,  0.12163483,  1.53296142,\n",
       "        -1.17852909, -0.96128662,  0.31189677,  1.57732655,  0.87750837,\n",
       "         0.36191661, -0.23491459,  0.02295551,  2.09259852,  0.81815366,\n",
       "         0.31763479,  0.7147193 , -2.33648996,  1.20071717,  1.57847601,\n",
       "         0.23659547,  0.01100859, -0.86855006,  0.91945804,  1.57417533,\n",
       "         2.57713472,  1.00360144, -0.38331859,  1.58331917,  0.75075189,\n",
       "        -0.8258459 ,  1.36437353,  0.21975381,  0.88079104,  0.26560157,\n",
       "         0.63274767, -0.72493547,  0.06678354, -0.02179356, -0.32800392,\n",
       "         0.42735252, -0.22403178, -0.9915798 , -1.15467885, -0.3956771 ])}"
      ]
     },
     "execution_count": 38,
     "metadata": {},
     "output_type": "execute_result"
    }
   ],
   "source": [
    "data = {'Random Integer': random_data_integer, 'Random Float': random_data_float}\n",
    "data"
   ]
  },
  {
   "cell_type": "markdown",
   "id": "706c62ba",
   "metadata": {},
   "source": [
    "In the dictionary we now have two lists of numbers. \n",
    "\n",
    "With the `DataFrame` function from pandas (here integrated with the abbriviation of `pd`) we can convert the dictionary in a dataframe"
   ]
  },
  {
   "cell_type": "code",
   "execution_count": 39,
   "id": "c457c5a9",
   "metadata": {},
   "outputs": [
    {
     "data": {
      "text/html": [
       "<div>\n",
       "<style scoped>\n",
       "    .dataframe tbody tr th:only-of-type {\n",
       "        vertical-align: middle;\n",
       "    }\n",
       "\n",
       "    .dataframe tbody tr th {\n",
       "        vertical-align: top;\n",
       "    }\n",
       "\n",
       "    .dataframe thead th {\n",
       "        text-align: right;\n",
       "    }\n",
       "</style>\n",
       "<table border=\"1\" class=\"dataframe\">\n",
       "  <thead>\n",
       "    <tr style=\"text-align: right;\">\n",
       "      <th></th>\n",
       "      <th>Random Integer</th>\n",
       "      <th>Random Float</th>\n",
       "    </tr>\n",
       "  </thead>\n",
       "  <tbody>\n",
       "    <tr>\n",
       "      <th>0</th>\n",
       "      <td>12</td>\n",
       "      <td>1.730117</td>\n",
       "    </tr>\n",
       "    <tr>\n",
       "      <th>1</th>\n",
       "      <td>30</td>\n",
       "      <td>-1.215507</td>\n",
       "    </tr>\n",
       "    <tr>\n",
       "      <th>2</th>\n",
       "      <td>74</td>\n",
       "      <td>-0.211056</td>\n",
       "    </tr>\n",
       "    <tr>\n",
       "      <th>3</th>\n",
       "      <td>18</td>\n",
       "      <td>-0.375485</td>\n",
       "    </tr>\n",
       "    <tr>\n",
       "      <th>4</th>\n",
       "      <td>14</td>\n",
       "      <td>-0.346455</td>\n",
       "    </tr>\n",
       "    <tr>\n",
       "      <th>...</th>\n",
       "      <td>...</td>\n",
       "      <td>...</td>\n",
       "    </tr>\n",
       "    <tr>\n",
       "      <th>95</th>\n",
       "      <td>100</td>\n",
       "      <td>0.427353</td>\n",
       "    </tr>\n",
       "    <tr>\n",
       "      <th>96</th>\n",
       "      <td>40</td>\n",
       "      <td>-0.224032</td>\n",
       "    </tr>\n",
       "    <tr>\n",
       "      <th>97</th>\n",
       "      <td>24</td>\n",
       "      <td>-0.991580</td>\n",
       "    </tr>\n",
       "    <tr>\n",
       "      <th>98</th>\n",
       "      <td>86</td>\n",
       "      <td>-1.154679</td>\n",
       "    </tr>\n",
       "    <tr>\n",
       "      <th>99</th>\n",
       "      <td>99</td>\n",
       "      <td>-0.395677</td>\n",
       "    </tr>\n",
       "  </tbody>\n",
       "</table>\n",
       "<p>100 rows × 2 columns</p>\n",
       "</div>"
      ],
      "text/plain": [
       "    Random Integer  Random Float\n",
       "0               12      1.730117\n",
       "1               30     -1.215507\n",
       "2               74     -0.211056\n",
       "3               18     -0.375485\n",
       "4               14     -0.346455\n",
       "..             ...           ...\n",
       "95             100      0.427353\n",
       "96              40     -0.224032\n",
       "97              24     -0.991580\n",
       "98              86     -1.154679\n",
       "99              99     -0.395677\n",
       "\n",
       "[100 rows x 2 columns]"
      ]
     },
     "execution_count": 39,
     "metadata": {},
     "output_type": "execute_result"
    }
   ],
   "source": [
    "df = pd.DataFrame(data)\n",
    "df"
   ]
  },
  {
   "cell_type": "markdown",
   "id": "1fdf85fd",
   "metadata": {},
   "source": [
    "In the output here we can now see the tabular structure of the dataframe. \n",
    "\n",
    "In addition, pandas includes multiple functions that can be directly applyed to a dataframe:\n",
    "\n",
    "`info()` returns a quick summary of the values with basic informations that are included in the dataframe. \n",
    "\n",
    "`corr()` returns a correlation matrix that informs about the similarities between variables (i.e., a high correlation r > .8 would indicate that two variables would be highly similar; an r arround zero would indicate low similarity). "
   ]
  },
  {
   "cell_type": "code",
   "execution_count": 40,
   "id": "e31199ad",
   "metadata": {},
   "outputs": [
    {
     "name": "stdout",
     "output_type": "stream",
     "text": [
      "<class 'pandas.core.frame.DataFrame'>\n",
      "RangeIndex: 100 entries, 0 to 99\n",
      "Data columns (total 2 columns):\n",
      " #   Column          Non-Null Count  Dtype  \n",
      "---  ------          --------------  -----  \n",
      " 0   Random Integer  100 non-null    int64  \n",
      " 1   Random Float    100 non-null    float64\n",
      "dtypes: float64(1), int64(1)\n",
      "memory usage: 1.7 KB\n"
     ]
    }
   ],
   "source": [
    "df.info()"
   ]
  },
  {
   "cell_type": "code",
   "execution_count": 41,
   "id": "0f638d3f",
   "metadata": {},
   "outputs": [
    {
     "data": {
      "text/html": [
       "<div>\n",
       "<style scoped>\n",
       "    .dataframe tbody tr th:only-of-type {\n",
       "        vertical-align: middle;\n",
       "    }\n",
       "\n",
       "    .dataframe tbody tr th {\n",
       "        vertical-align: top;\n",
       "    }\n",
       "\n",
       "    .dataframe thead th {\n",
       "        text-align: right;\n",
       "    }\n",
       "</style>\n",
       "<table border=\"1\" class=\"dataframe\">\n",
       "  <thead>\n",
       "    <tr style=\"text-align: right;\">\n",
       "      <th></th>\n",
       "      <th>Random Integer</th>\n",
       "      <th>Random Float</th>\n",
       "    </tr>\n",
       "  </thead>\n",
       "  <tbody>\n",
       "    <tr>\n",
       "      <th>Random Integer</th>\n",
       "      <td>1.000000</td>\n",
       "      <td>-0.062587</td>\n",
       "    </tr>\n",
       "    <tr>\n",
       "      <th>Random Float</th>\n",
       "      <td>-0.062587</td>\n",
       "      <td>1.000000</td>\n",
       "    </tr>\n",
       "  </tbody>\n",
       "</table>\n",
       "</div>"
      ],
      "text/plain": [
       "                Random Integer  Random Float\n",
       "Random Integer        1.000000     -0.062587\n",
       "Random Float         -0.062587      1.000000"
      ]
     },
     "execution_count": 41,
     "metadata": {},
     "output_type": "execute_result"
    }
   ],
   "source": [
    "df.corr()"
   ]
  },
  {
   "cell_type": "markdown",
   "id": "f4f50b75",
   "metadata": {},
   "source": [
    "**Exercise**: Create a dataframe with at least 3 columns. "
   ]
  },
  {
   "cell_type": "code",
   "execution_count": null,
   "id": "bcb579e7",
   "metadata": {},
   "outputs": [],
   "source": []
  },
  {
   "cell_type": "markdown",
   "id": "1f67b2b7",
   "metadata": {},
   "source": [
    "**Data handling**\n",
    "\n",
    "Typically, a dataset is stored in a file. For example, one can export and store a excel sheet in a `.csv` file (CSV: comma seperated file). Similarly, we can store our dataframe `df` in a `.csv` file with the `to_csv` function. "
   ]
  },
  {
   "cell_type": "code",
   "execution_count": 42,
   "id": "73b886e1",
   "metadata": {},
   "outputs": [],
   "source": [
    "df.to_csv(\"./datasets/data.csv\", index=False)"
   ]
  },
  {
   "cell_type": "markdown",
   "id": "c97a47cf",
   "metadata": {},
   "source": [
    "Now a new file (`data.csv`) is stored in the `./dataset/` folder that includes all values from the dataframe. \n",
    "\n",
    "With the `read_csv()` function one can read the file again and store it directly in a dataframe again. "
   ]
  },
  {
   "cell_type": "code",
   "execution_count": 43,
   "id": "082c40be",
   "metadata": {},
   "outputs": [
    {
     "data": {
      "text/html": [
       "<div>\n",
       "<style scoped>\n",
       "    .dataframe tbody tr th:only-of-type {\n",
       "        vertical-align: middle;\n",
       "    }\n",
       "\n",
       "    .dataframe tbody tr th {\n",
       "        vertical-align: top;\n",
       "    }\n",
       "\n",
       "    .dataframe thead th {\n",
       "        text-align: right;\n",
       "    }\n",
       "</style>\n",
       "<table border=\"1\" class=\"dataframe\">\n",
       "  <thead>\n",
       "    <tr style=\"text-align: right;\">\n",
       "      <th></th>\n",
       "      <th>Random Integer</th>\n",
       "      <th>Random Float</th>\n",
       "    </tr>\n",
       "  </thead>\n",
       "  <tbody>\n",
       "    <tr>\n",
       "      <th>0</th>\n",
       "      <td>12</td>\n",
       "      <td>1.730117</td>\n",
       "    </tr>\n",
       "    <tr>\n",
       "      <th>1</th>\n",
       "      <td>30</td>\n",
       "      <td>-1.215507</td>\n",
       "    </tr>\n",
       "    <tr>\n",
       "      <th>2</th>\n",
       "      <td>74</td>\n",
       "      <td>-0.211056</td>\n",
       "    </tr>\n",
       "    <tr>\n",
       "      <th>3</th>\n",
       "      <td>18</td>\n",
       "      <td>-0.375485</td>\n",
       "    </tr>\n",
       "    <tr>\n",
       "      <th>4</th>\n",
       "      <td>14</td>\n",
       "      <td>-0.346455</td>\n",
       "    </tr>\n",
       "    <tr>\n",
       "      <th>...</th>\n",
       "      <td>...</td>\n",
       "      <td>...</td>\n",
       "    </tr>\n",
       "    <tr>\n",
       "      <th>95</th>\n",
       "      <td>100</td>\n",
       "      <td>0.427353</td>\n",
       "    </tr>\n",
       "    <tr>\n",
       "      <th>96</th>\n",
       "      <td>40</td>\n",
       "      <td>-0.224032</td>\n",
       "    </tr>\n",
       "    <tr>\n",
       "      <th>97</th>\n",
       "      <td>24</td>\n",
       "      <td>-0.991580</td>\n",
       "    </tr>\n",
       "    <tr>\n",
       "      <th>98</th>\n",
       "      <td>86</td>\n",
       "      <td>-1.154679</td>\n",
       "    </tr>\n",
       "    <tr>\n",
       "      <th>99</th>\n",
       "      <td>99</td>\n",
       "      <td>-0.395677</td>\n",
       "    </tr>\n",
       "  </tbody>\n",
       "</table>\n",
       "<p>100 rows × 2 columns</p>\n",
       "</div>"
      ],
      "text/plain": [
       "    Random Integer  Random Float\n",
       "0               12      1.730117\n",
       "1               30     -1.215507\n",
       "2               74     -0.211056\n",
       "3               18     -0.375485\n",
       "4               14     -0.346455\n",
       "..             ...           ...\n",
       "95             100      0.427353\n",
       "96              40     -0.224032\n",
       "97              24     -0.991580\n",
       "98              86     -1.154679\n",
       "99              99     -0.395677\n",
       "\n",
       "[100 rows x 2 columns]"
      ]
     },
     "execution_count": 43,
     "metadata": {},
     "output_type": "execute_result"
    }
   ],
   "source": [
    "df_read_from_file = pd.read_csv(\"./datasets/data.csv\")\n",
    "df_read_from_file"
   ]
  },
  {
   "cell_type": "markdown",
   "id": "9c01228f",
   "metadata": {},
   "source": [
    "**Exercise**: Store your new dataframe in the file `new_random_data.csv` and load it again."
   ]
  },
  {
   "cell_type": "code",
   "execution_count": null,
   "id": "1928c628",
   "metadata": {},
   "outputs": [],
   "source": []
  }
 ],
 "metadata": {
  "kernelspec": {
   "display_name": "Python 3 (ipykernel)",
   "language": "python",
   "name": "python3"
  },
  "language_info": {
   "codemirror_mode": {
    "name": "ipython",
    "version": 3
   },
   "file_extension": ".py",
   "mimetype": "text/x-python",
   "name": "python",
   "nbconvert_exporter": "python",
   "pygments_lexer": "ipython3",
   "version": "3.9.12"
  }
 },
 "nbformat": 4,
 "nbformat_minor": 5
}
