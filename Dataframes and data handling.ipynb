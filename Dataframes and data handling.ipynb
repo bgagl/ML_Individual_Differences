{
 "cells": [
  {
   "cell_type": "markdown",
   "id": "33e7234b",
   "metadata": {},
   "source": [
    "# Dataframes and data handling"
   ]
  },
  {
   "cell_type": "markdown",
   "id": "735a51b4",
   "metadata": {},
   "source": [
    "Dataframes are tabular data structures with labeled axes (rows and columns; like in excel). These data structures are commonly used in data science using software libraries such as Pandas and R dataframe (a reminder for those familiar with R).\n",
    "\n",
    "Here we will use [pandas](https://pandas.pydata.org/) \n",
    "\n",
    "First we will import two libraries: `pandas` and `random`"
   ]
  },
  {
   "cell_type": "code",
   "execution_count": 10,
   "id": "4fd48447",
   "metadata": {},
   "outputs": [],
   "source": [
    "import pandas as pd\n",
    "import random"
   ]
  },
  {
   "cell_type": "markdown",
   "id": "6d5e136f",
   "metadata": {},
   "source": [
    "First lets define a simple example dataframe with ten rows and two colums with random variables. "
   ]
  },
  {
   "cell_type": "code",
   "execution_count": 11,
   "id": "bf8d05f6",
   "metadata": {},
   "outputs": [],
   "source": [
    "num_rows = 10\n",
    "random_data_integer = [random.randint(0, 100) for i in range(num_rows)]\n",
    "random_data_float = [random.uniform(0, 100) for i in range(num_rows)]"
   ]
  },
  {
   "cell_type": "markdown",
   "id": "026cacf9",
   "metadata": {},
   "source": [
    "Then we create a **dictionary** (datastructure that represents a collection of variables of any type) with the two lists of data."
   ]
  },
  {
   "cell_type": "code",
   "execution_count": 13,
   "id": "ebb8b3a7",
   "metadata": {},
   "outputs": [
    {
     "data": {
      "text/plain": [
       "{'Random Integer': [77, 44, 10, 77, 13, 20, 35, 51, 39, 98],\n",
       " 'Random Float': [85.74017310921226,\n",
       "  26.0414717930437,\n",
       "  63.436643924041725,\n",
       "  38.07415615253961,\n",
       "  49.2523862521741,\n",
       "  87.95991557716465,\n",
       "  63.21292239203245,\n",
       "  33.440939461088284,\n",
       "  85.39202641040258,\n",
       "  17.01218431241439]}"
      ]
     },
     "execution_count": 13,
     "metadata": {},
     "output_type": "execute_result"
    }
   ],
   "source": [
    "data = {'Random Integer': random_data_integer, 'Random Float': random_data_float}\n",
    "data"
   ]
  },
  {
   "cell_type": "markdown",
   "id": "ee57837e",
   "metadata": {},
   "source": [
    "In the dictionary we now have two lists of numbers. \n",
    "\n",
    "With the `DataFrame` function from pandas (here integrated with the abbriviation of `pd`) we can convert the dictionary in a dataframe"
   ]
  },
  {
   "cell_type": "code",
   "execution_count": 14,
   "id": "23dd19fb",
   "metadata": {},
   "outputs": [
    {
     "data": {
      "text/html": [
       "<div>\n",
       "<style scoped>\n",
       "    .dataframe tbody tr th:only-of-type {\n",
       "        vertical-align: middle;\n",
       "    }\n",
       "\n",
       "    .dataframe tbody tr th {\n",
       "        vertical-align: top;\n",
       "    }\n",
       "\n",
       "    .dataframe thead th {\n",
       "        text-align: right;\n",
       "    }\n",
       "</style>\n",
       "<table border=\"1\" class=\"dataframe\">\n",
       "  <thead>\n",
       "    <tr style=\"text-align: right;\">\n",
       "      <th></th>\n",
       "      <th>Random Integer</th>\n",
       "      <th>Random Float</th>\n",
       "    </tr>\n",
       "  </thead>\n",
       "  <tbody>\n",
       "    <tr>\n",
       "      <th>0</th>\n",
       "      <td>77</td>\n",
       "      <td>85.740173</td>\n",
       "    </tr>\n",
       "    <tr>\n",
       "      <th>1</th>\n",
       "      <td>44</td>\n",
       "      <td>26.041472</td>\n",
       "    </tr>\n",
       "    <tr>\n",
       "      <th>2</th>\n",
       "      <td>10</td>\n",
       "      <td>63.436644</td>\n",
       "    </tr>\n",
       "    <tr>\n",
       "      <th>3</th>\n",
       "      <td>77</td>\n",
       "      <td>38.074156</td>\n",
       "    </tr>\n",
       "    <tr>\n",
       "      <th>4</th>\n",
       "      <td>13</td>\n",
       "      <td>49.252386</td>\n",
       "    </tr>\n",
       "    <tr>\n",
       "      <th>5</th>\n",
       "      <td>20</td>\n",
       "      <td>87.959916</td>\n",
       "    </tr>\n",
       "    <tr>\n",
       "      <th>6</th>\n",
       "      <td>35</td>\n",
       "      <td>63.212922</td>\n",
       "    </tr>\n",
       "    <tr>\n",
       "      <th>7</th>\n",
       "      <td>51</td>\n",
       "      <td>33.440939</td>\n",
       "    </tr>\n",
       "    <tr>\n",
       "      <th>8</th>\n",
       "      <td>39</td>\n",
       "      <td>85.392026</td>\n",
       "    </tr>\n",
       "    <tr>\n",
       "      <th>9</th>\n",
       "      <td>98</td>\n",
       "      <td>17.012184</td>\n",
       "    </tr>\n",
       "  </tbody>\n",
       "</table>\n",
       "</div>"
      ],
      "text/plain": [
       "   Random Integer  Random Float\n",
       "0              77     85.740173\n",
       "1              44     26.041472\n",
       "2              10     63.436644\n",
       "3              77     38.074156\n",
       "4              13     49.252386\n",
       "5              20     87.959916\n",
       "6              35     63.212922\n",
       "7              51     33.440939\n",
       "8              39     85.392026\n",
       "9              98     17.012184"
      ]
     },
     "execution_count": 14,
     "metadata": {},
     "output_type": "execute_result"
    }
   ],
   "source": [
    "df = pd.DataFrame(data)\n",
    "df"
   ]
  },
  {
   "cell_type": "markdown",
   "id": "16370cd9",
   "metadata": {},
   "source": [
    "In the output here we can now see the tabular structure of the dataframe"
   ]
  },
  {
   "cell_type": "code",
   "execution_count": 6,
   "id": "19301e42",
   "metadata": {},
   "outputs": [
    {
     "name": "stdout",
     "output_type": "stream",
     "text": [
      "<class 'pandas.core.frame.DataFrame'>\n",
      "RangeIndex: 10 entries, 0 to 9\n",
      "Data columns (total 2 columns):\n",
      " #   Column          Non-Null Count  Dtype  \n",
      "---  ------          --------------  -----  \n",
      " 0   Random Integer  10 non-null     int64  \n",
      " 1   Random Float    10 non-null     float64\n",
      "dtypes: float64(1), int64(1)\n",
      "memory usage: 288.0 bytes\n"
     ]
    }
   ],
   "source": [
    "df.info()"
   ]
  },
  {
   "cell_type": "code",
   "execution_count": 9,
   "id": "2d81a8a7",
   "metadata": {},
   "outputs": [
    {
     "data": {
      "text/html": [
       "<div>\n",
       "<style scoped>\n",
       "    .dataframe tbody tr th:only-of-type {\n",
       "        vertical-align: middle;\n",
       "    }\n",
       "\n",
       "    .dataframe tbody tr th {\n",
       "        vertical-align: top;\n",
       "    }\n",
       "\n",
       "    .dataframe thead th {\n",
       "        text-align: right;\n",
       "    }\n",
       "</style>\n",
       "<table border=\"1\" class=\"dataframe\">\n",
       "  <thead>\n",
       "    <tr style=\"text-align: right;\">\n",
       "      <th></th>\n",
       "      <th>Random Integer</th>\n",
       "      <th>Random Float</th>\n",
       "    </tr>\n",
       "  </thead>\n",
       "  <tbody>\n",
       "    <tr>\n",
       "      <th>Random Integer</th>\n",
       "      <td>1.000000</td>\n",
       "      <td>-0.310434</td>\n",
       "    </tr>\n",
       "    <tr>\n",
       "      <th>Random Float</th>\n",
       "      <td>-0.310434</td>\n",
       "      <td>1.000000</td>\n",
       "    </tr>\n",
       "  </tbody>\n",
       "</table>\n",
       "</div>"
      ],
      "text/plain": [
       "                Random Integer  Random Float\n",
       "Random Integer        1.000000     -0.310434\n",
       "Random Float         -0.310434      1.000000"
      ]
     },
     "execution_count": 9,
     "metadata": {},
     "output_type": "execute_result"
    }
   ],
   "source": [
    "df.corr()"
   ]
  },
  {
   "cell_type": "code",
   "execution_count": 3,
   "id": "c65688bd",
   "metadata": {},
   "outputs": [],
   "source": [
    "df.to_csv(\"data.csv\", index=False)"
   ]
  },
  {
   "cell_type": "code",
   "execution_count": 4,
   "id": "69289fef",
   "metadata": {},
   "outputs": [
    {
     "name": "stdout",
     "output_type": "stream",
     "text": [
      "   Random Integer  Random Float\n",
      "0              61     37.436837\n",
      "1              37     58.846902\n",
      "2               5     36.912791\n",
      "3              37     35.673879\n",
      "4               0     17.505789\n",
      "5              95     97.881172\n",
      "6              96     61.592589\n",
      "7              40     45.030240\n",
      "8              77     17.454122\n",
      "9              31     65.666525\n"
     ]
    }
   ],
   "source": [
    "\n",
    "# Read the CSV file into a DataFrame\n",
    "df = pd.read_csv(\"data.csv\")\n",
    "\n",
    "# Print the DataFrame\n",
    "print(df)\n"
   ]
  }
 ],
 "metadata": {
  "kernelspec": {
   "display_name": "Python 3 (ipykernel)",
   "language": "python",
   "name": "python3"
  },
  "language_info": {
   "codemirror_mode": {
    "name": "ipython",
    "version": 3
   },
   "file_extension": ".py",
   "mimetype": "text/x-python",
   "name": "python",
   "nbconvert_exporter": "python",
   "pygments_lexer": "ipython3",
   "version": "3.9.12"
  }
 },
 "nbformat": 4,
 "nbformat_minor": 5
}
