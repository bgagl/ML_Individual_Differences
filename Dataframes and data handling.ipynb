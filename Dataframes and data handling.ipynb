{
 "cells": [
  {
   "cell_type": "markdown",
   "id": "bb686375",
   "metadata": {},
   "source": [
    "# Dataframes and data handling"
   ]
  },
  {
   "cell_type": "markdown",
   "id": "ab555db7",
   "metadata": {},
   "source": [
    "Dataframes are tabular data structures with labeled axes (rows and columns; like in excel). These data structures are commonly used in data science using software libraries such as Pandas and R dataframe (a reminder for those familiar with R).\n",
    "\n",
    "Here we will use [pandas](https://pandas.pydata.org/) \n",
    "\n",
    "First we will import two libraries: `pandas` and `random`"
   ]
  },
  {
   "cell_type": "code",
   "execution_count": 15,
   "id": "094664e1",
   "metadata": {},
   "outputs": [],
   "source": [
    "import pandas as pd\n",
    "import random"
   ]
  },
  {
   "cell_type": "markdown",
   "id": "cc3efbe0",
   "metadata": {},
   "source": [
    "First lets define a simple example dataframe with ten rows and two colums with random variables. "
   ]
  },
  {
   "cell_type": "code",
   "execution_count": 16,
   "id": "ea06e087",
   "metadata": {},
   "outputs": [],
   "source": [
    "num_rows = 10\n",
    "random_data_integer = [random.randint(0, 100) for i in range(num_rows)]\n",
    "random_data_float = [random.uniform(0, 100) for i in range(num_rows)]"
   ]
  },
  {
   "cell_type": "markdown",
   "id": "6ef929db",
   "metadata": {},
   "source": [
    "Then we create a **dictionary** (datastructure that represents a collection of variables of any type) with the two lists of data."
   ]
  },
  {
   "cell_type": "code",
   "execution_count": 17,
   "id": "6d178b6a",
   "metadata": {},
   "outputs": [
    {
     "data": {
      "text/plain": [
       "{'Random Integer': [16, 81, 14, 73, 35, 60, 73, 9, 54, 59],\n",
       " 'Random Float': [44.17359097614838,\n",
       "  17.429419205459283,\n",
       "  46.245183302692006,\n",
       "  19.863547204363208,\n",
       "  74.87940457529263,\n",
       "  96.45444871184331,\n",
       "  12.831316197790176,\n",
       "  17.674797815512587,\n",
       "  30.79320136269088,\n",
       "  42.85239341643188]}"
      ]
     },
     "execution_count": 17,
     "metadata": {},
     "output_type": "execute_result"
    }
   ],
   "source": [
    "data = {'Random Integer': random_data_integer, 'Random Float': random_data_float}\n",
    "data"
   ]
  },
  {
   "cell_type": "markdown",
   "id": "2cbca946",
   "metadata": {},
   "source": [
    "In the dictionary we now have two lists of numbers. \n",
    "\n",
    "With the `DataFrame` function from pandas (here integrated with the abbriviation of `pd`) we can convert the dictionary in a dataframe"
   ]
  },
  {
   "cell_type": "code",
   "execution_count": 18,
   "id": "d2e9b1fc",
   "metadata": {},
   "outputs": [
    {
     "data": {
      "text/html": [
       "<div>\n",
       "<style scoped>\n",
       "    .dataframe tbody tr th:only-of-type {\n",
       "        vertical-align: middle;\n",
       "    }\n",
       "\n",
       "    .dataframe tbody tr th {\n",
       "        vertical-align: top;\n",
       "    }\n",
       "\n",
       "    .dataframe thead th {\n",
       "        text-align: right;\n",
       "    }\n",
       "</style>\n",
       "<table border=\"1\" class=\"dataframe\">\n",
       "  <thead>\n",
       "    <tr style=\"text-align: right;\">\n",
       "      <th></th>\n",
       "      <th>Random Integer</th>\n",
       "      <th>Random Float</th>\n",
       "    </tr>\n",
       "  </thead>\n",
       "  <tbody>\n",
       "    <tr>\n",
       "      <th>0</th>\n",
       "      <td>16</td>\n",
       "      <td>44.173591</td>\n",
       "    </tr>\n",
       "    <tr>\n",
       "      <th>1</th>\n",
       "      <td>81</td>\n",
       "      <td>17.429419</td>\n",
       "    </tr>\n",
       "    <tr>\n",
       "      <th>2</th>\n",
       "      <td>14</td>\n",
       "      <td>46.245183</td>\n",
       "    </tr>\n",
       "    <tr>\n",
       "      <th>3</th>\n",
       "      <td>73</td>\n",
       "      <td>19.863547</td>\n",
       "    </tr>\n",
       "    <tr>\n",
       "      <th>4</th>\n",
       "      <td>35</td>\n",
       "      <td>74.879405</td>\n",
       "    </tr>\n",
       "    <tr>\n",
       "      <th>5</th>\n",
       "      <td>60</td>\n",
       "      <td>96.454449</td>\n",
       "    </tr>\n",
       "    <tr>\n",
       "      <th>6</th>\n",
       "      <td>73</td>\n",
       "      <td>12.831316</td>\n",
       "    </tr>\n",
       "    <tr>\n",
       "      <th>7</th>\n",
       "      <td>9</td>\n",
       "      <td>17.674798</td>\n",
       "    </tr>\n",
       "    <tr>\n",
       "      <th>8</th>\n",
       "      <td>54</td>\n",
       "      <td>30.793201</td>\n",
       "    </tr>\n",
       "    <tr>\n",
       "      <th>9</th>\n",
       "      <td>59</td>\n",
       "      <td>42.852393</td>\n",
       "    </tr>\n",
       "  </tbody>\n",
       "</table>\n",
       "</div>"
      ],
      "text/plain": [
       "   Random Integer  Random Float\n",
       "0              16     44.173591\n",
       "1              81     17.429419\n",
       "2              14     46.245183\n",
       "3              73     19.863547\n",
       "4              35     74.879405\n",
       "5              60     96.454449\n",
       "6              73     12.831316\n",
       "7               9     17.674798\n",
       "8              54     30.793201\n",
       "9              59     42.852393"
      ]
     },
     "execution_count": 18,
     "metadata": {},
     "output_type": "execute_result"
    }
   ],
   "source": [
    "df = pd.DataFrame(data)\n",
    "df"
   ]
  },
  {
   "cell_type": "markdown",
   "id": "63eaefe9",
   "metadata": {},
   "source": [
    "In the output here we can now see the tabular structure of the dataframe. \n",
    "\n",
    "In addition, pandas includes multiple functions that can be directly applyed to a dataframe:\n",
    "\n",
    "`info()` returns a quick summary of the values with basic informations that are included in the dataframe. \n",
    "\n",
    "`corr()` returns a correlation matrix that informs about the similarities between variables (i.e., a high correlation r > .8 would indicate that two variables would be highly similar; an r arround zero would indicate low similarity). "
   ]
  },
  {
   "cell_type": "code",
   "execution_count": 23,
   "id": "fe30ecde",
   "metadata": {},
   "outputs": [
    {
     "name": "stdout",
     "output_type": "stream",
     "text": [
      "<class 'pandas.core.frame.DataFrame'>\n",
      "RangeIndex: 10 entries, 0 to 9\n",
      "Data columns (total 2 columns):\n",
      " #   Column          Non-Null Count  Dtype  \n",
      "---  ------          --------------  -----  \n",
      " 0   Random Integer  10 non-null     int64  \n",
      " 1   Random Float    10 non-null     float64\n",
      "dtypes: float64(1), int64(1)\n",
      "memory usage: 288.0 bytes\n"
     ]
    }
   ],
   "source": [
    "df.info()"
   ]
  },
  {
   "cell_type": "code",
   "execution_count": 24,
   "id": "bc40ec69",
   "metadata": {},
   "outputs": [
    {
     "data": {
      "text/html": [
       "<div>\n",
       "<style scoped>\n",
       "    .dataframe tbody tr th:only-of-type {\n",
       "        vertical-align: middle;\n",
       "    }\n",
       "\n",
       "    .dataframe tbody tr th {\n",
       "        vertical-align: top;\n",
       "    }\n",
       "\n",
       "    .dataframe thead th {\n",
       "        text-align: right;\n",
       "    }\n",
       "</style>\n",
       "<table border=\"1\" class=\"dataframe\">\n",
       "  <thead>\n",
       "    <tr style=\"text-align: right;\">\n",
       "      <th></th>\n",
       "      <th>Random Integer</th>\n",
       "      <th>Random Float</th>\n",
       "    </tr>\n",
       "  </thead>\n",
       "  <tbody>\n",
       "    <tr>\n",
       "      <th>Random Integer</th>\n",
       "      <td>1.000000</td>\n",
       "      <td>-0.181792</td>\n",
       "    </tr>\n",
       "    <tr>\n",
       "      <th>Random Float</th>\n",
       "      <td>-0.181792</td>\n",
       "      <td>1.000000</td>\n",
       "    </tr>\n",
       "  </tbody>\n",
       "</table>\n",
       "</div>"
      ],
      "text/plain": [
       "                Random Integer  Random Float\n",
       "Random Integer        1.000000     -0.181792\n",
       "Random Float         -0.181792      1.000000"
      ]
     },
     "execution_count": 24,
     "metadata": {},
     "output_type": "execute_result"
    }
   ],
   "source": [
    "df.corr()"
   ]
  },
  {
   "cell_type": "markdown",
   "id": "82166ac2",
   "metadata": {},
   "source": [
    "**Exercise**: Create a dataframe with at least 3 columns. "
   ]
  },
  {
   "cell_type": "code",
   "execution_count": null,
   "id": "f79967ec",
   "metadata": {},
   "outputs": [],
   "source": []
  },
  {
   "cell_type": "markdown",
   "id": "d9aff58e",
   "metadata": {},
   "source": [
    "**Data handling**\n",
    "\n",
    "Typically, a dataset is stored in a file. For example, one can export and store a excel sheet in a `.csv` file (CSV: comma seperated file). Similarly, we can store our dataframe `df` in a `.csv` file with the `to_csv` function. "
   ]
  },
  {
   "cell_type": "code",
   "execution_count": 26,
   "id": "54ac4ff2",
   "metadata": {},
   "outputs": [],
   "source": [
    "df.to_csv(\"./datasets/data.csv\", index=False)"
   ]
  },
  {
   "cell_type": "markdown",
   "id": "960f8bd6",
   "metadata": {},
   "source": [
    "Now a new file (`data.csv`) is stored in the `./dataset/` folder that includes all values from the dataframe. \n",
    "\n",
    "With the `read_csv()` function one can read the file again and store it directly in a dataframe again. "
   ]
  },
  {
   "cell_type": "code",
   "execution_count": 27,
   "id": "db788e2c",
   "metadata": {},
   "outputs": [
    {
     "data": {
      "text/html": [
       "<div>\n",
       "<style scoped>\n",
       "    .dataframe tbody tr th:only-of-type {\n",
       "        vertical-align: middle;\n",
       "    }\n",
       "\n",
       "    .dataframe tbody tr th {\n",
       "        vertical-align: top;\n",
       "    }\n",
       "\n",
       "    .dataframe thead th {\n",
       "        text-align: right;\n",
       "    }\n",
       "</style>\n",
       "<table border=\"1\" class=\"dataframe\">\n",
       "  <thead>\n",
       "    <tr style=\"text-align: right;\">\n",
       "      <th></th>\n",
       "      <th>Random Integer</th>\n",
       "      <th>Random Float</th>\n",
       "    </tr>\n",
       "  </thead>\n",
       "  <tbody>\n",
       "    <tr>\n",
       "      <th>0</th>\n",
       "      <td>16</td>\n",
       "      <td>44.173591</td>\n",
       "    </tr>\n",
       "    <tr>\n",
       "      <th>1</th>\n",
       "      <td>81</td>\n",
       "      <td>17.429419</td>\n",
       "    </tr>\n",
       "    <tr>\n",
       "      <th>2</th>\n",
       "      <td>14</td>\n",
       "      <td>46.245183</td>\n",
       "    </tr>\n",
       "    <tr>\n",
       "      <th>3</th>\n",
       "      <td>73</td>\n",
       "      <td>19.863547</td>\n",
       "    </tr>\n",
       "    <tr>\n",
       "      <th>4</th>\n",
       "      <td>35</td>\n",
       "      <td>74.879405</td>\n",
       "    </tr>\n",
       "    <tr>\n",
       "      <th>5</th>\n",
       "      <td>60</td>\n",
       "      <td>96.454449</td>\n",
       "    </tr>\n",
       "    <tr>\n",
       "      <th>6</th>\n",
       "      <td>73</td>\n",
       "      <td>12.831316</td>\n",
       "    </tr>\n",
       "    <tr>\n",
       "      <th>7</th>\n",
       "      <td>9</td>\n",
       "      <td>17.674798</td>\n",
       "    </tr>\n",
       "    <tr>\n",
       "      <th>8</th>\n",
       "      <td>54</td>\n",
       "      <td>30.793201</td>\n",
       "    </tr>\n",
       "    <tr>\n",
       "      <th>9</th>\n",
       "      <td>59</td>\n",
       "      <td>42.852393</td>\n",
       "    </tr>\n",
       "  </tbody>\n",
       "</table>\n",
       "</div>"
      ],
      "text/plain": [
       "   Random Integer  Random Float\n",
       "0              16     44.173591\n",
       "1              81     17.429419\n",
       "2              14     46.245183\n",
       "3              73     19.863547\n",
       "4              35     74.879405\n",
       "5              60     96.454449\n",
       "6              73     12.831316\n",
       "7               9     17.674798\n",
       "8              54     30.793201\n",
       "9              59     42.852393"
      ]
     },
     "execution_count": 27,
     "metadata": {},
     "output_type": "execute_result"
    }
   ],
   "source": [
    "df_read_from_file = pd.read_csv(\"./datasets/data.csv\")\n",
    "df_read_from_file"
   ]
  },
  {
   "cell_type": "markdown",
   "id": "f00d6056",
   "metadata": {},
   "source": [
    "**Exercise**: Store your new dataframe in the file `new_random_data.csv` and load it again."
   ]
  },
  {
   "cell_type": "code",
   "execution_count": null,
   "id": "0eaa0666",
   "metadata": {},
   "outputs": [],
   "source": []
  }
 ],
 "metadata": {
  "kernelspec": {
   "display_name": "Python 3 (ipykernel)",
   "language": "python",
   "name": "python3"
  },
  "language_info": {
   "codemirror_mode": {
    "name": "ipython",
    "version": 3
   },
   "file_extension": ".py",
   "mimetype": "text/x-python",
   "name": "python",
   "nbconvert_exporter": "python",
   "pygments_lexer": "ipython3",
   "version": "3.9.12"
  }
 },
 "nbformat": 4,
 "nbformat_minor": 5
}
