{
 "cells": [
  {
   "cell_type": "markdown",
   "id": "68e98c5e",
   "metadata": {},
   "source": [
    "# Using categorization methods for predicting individual categories"
   ]
  },
  {
   "cell_type": "markdown",
   "id": "bccf8bb2",
   "metadata": {},
   "source": [
    "To simulate how to use machine learning to estimate individual differences in human performance, we can apply the Leave One Out Cross-validation (LOOCV) technique. Here, we implement model training using all but one available data point. Model evaluation is then performed based on one single left-out data point. This process is repeated for each data point. Thus, each point in the dataset is used once as the test set.\n",
    "\n",
    "We collect all iterations' scores and estimate the arithmetic mean score. Overall, the LOOCV can be computationally expensive, as model training is implemented numerous times (i.e., for each data point). \n",
    "\n",
    "![alt text](./images/loocv.jpg \"Title\")\n",
    "\n",
    "To implement the cross validation, we implement the `LeaveOneOut` function from `sklearn`. "
   ]
  },
  {
   "cell_type": "code",
   "execution_count": 35,
   "id": "ffb88dbd",
   "metadata": {},
   "outputs": [],
   "source": [
    "from sklearn.model_selection import LeaveOneOut\n",
    "from sklearn.linear_model import LogisticRegression\n",
    "from pandas import read_csv, melt, DataFrame"
   ]
  },
  {
   "cell_type": "markdown",
   "id": "9a49e9db",
   "metadata": {},
   "source": [
    "The dataset we use here in the example is the same as for the categorization example. Here we load and preprocess the dataset again. "
   ]
  },
  {
   "cell_type": "code",
   "execution_count": 26,
   "id": "1a814898",
   "metadata": {},
   "outputs": [],
   "source": [
    "df = read_csv(\"./datasets/Group_A_B.csv\")\n",
    "df_long = melt(df, id_vars=None, value_vars=['NoProblem', 'Problem'], var_name='Group', value_name='Measure')\n",
    "\n",
    "X = df_long[\"Measure\"].values.reshape(-1, 1)\n",
    "y = df_long[\"Group\"]"
   ]
  },
  {
   "cell_type": "markdown",
   "id": "8d5843c1",
   "metadata": {},
   "source": [
    "In the next step, we define the cross-validation procedure (i.e., LOOCV: `LeaveOneOut`) and, again, the logistic regression as our categorization model.  "
   ]
  },
  {
   "cell_type": "code",
   "execution_count": 27,
   "id": "b6154669",
   "metadata": {},
   "outputs": [],
   "source": [
    "loo = LeaveOneOut()\n",
    "model = LogisticRegression()"
   ]
  },
  {
   "cell_type": "markdown",
   "id": "03740662",
   "metadata": {},
   "source": [
    "Then we first define an empty list. Later within the `for` loop, we will add the predictions from each fold to the list. We must define the list in advance. Otherwise, we will generate an error message.  "
   ]
  },
  {
   "cell_type": "code",
   "execution_count": 28,
   "id": "42f8a1ad",
   "metadata": {},
   "outputs": [],
   "source": [
    "scores = []"
   ]
  },
  {
   "cell_type": "markdown",
   "id": "0abd2bc3",
   "metadata": {},
   "source": [
    "In the next cell, we fun the for loop over all iterations of the LOOCV. For inspection, we present the index of the training data points and the test data point for the first two iterations. Next, we fit a model to the training dataset for each iteration and score the left-out data point with the fitted model. With `append`, we add the current score to our score list. In the end, we have one score for each participant. "
   ]
  },
  {
   "cell_type": "code",
   "execution_count": 29,
   "id": "12133a85",
   "metadata": {},
   "outputs": [
    {
     "name": "stdout",
     "output_type": "stream",
     "text": [
      "Test set index:  [0]\n",
      "Training set indices:  [  1   2   3   4   5   6   7   8   9  10  11  12  13  14  15  16  17  18\n",
      "  19  20  21  22  23  24  25  26  27  28  29  30  31  32  33  34  35  36\n",
      "  37  38  39  40  41  42  43  44  45  46  47  48  49  50  51  52  53  54\n",
      "  55  56  57  58  59  60  61  62  63  64  65  66  67  68  69  70  71  72\n",
      "  73  74  75  76  77  78  79  80  81  82  83  84  85  86  87  88  89  90\n",
      "  91  92  93  94  95  96  97  98  99 100 101 102 103 104 105 106 107 108\n",
      " 109 110 111 112 113 114 115 116 117 118 119 120 121 122 123 124 125 126\n",
      " 127 128 129 130 131 132 133 134 135 136 137 138 139 140 141 142 143 144\n",
      " 145 146 147 148 149 150 151 152 153 154 155 156 157 158 159 160 161 162\n",
      " 163 164 165 166 167 168 169 170 171 172 173 174 175 176 177 178 179 180\n",
      " 181 182 183 184 185 186 187 188 189 190 191 192 193 194 195 196 197 198\n",
      " 199]\n",
      "Test set index:  [1]\n",
      "Training set indices:  [  0   2   3   4   5   6   7   8   9  10  11  12  13  14  15  16  17  18\n",
      "  19  20  21  22  23  24  25  26  27  28  29  30  31  32  33  34  35  36\n",
      "  37  38  39  40  41  42  43  44  45  46  47  48  49  50  51  52  53  54\n",
      "  55  56  57  58  59  60  61  62  63  64  65  66  67  68  69  70  71  72\n",
      "  73  74  75  76  77  78  79  80  81  82  83  84  85  86  87  88  89  90\n",
      "  91  92  93  94  95  96  97  98  99 100 101 102 103 104 105 106 107 108\n",
      " 109 110 111 112 113 114 115 116 117 118 119 120 121 122 123 124 125 126\n",
      " 127 128 129 130 131 132 133 134 135 136 137 138 139 140 141 142 143 144\n",
      " 145 146 147 148 149 150 151 152 153 154 155 156 157 158 159 160 161 162\n",
      " 163 164 165 166 167 168 169 170 171 172 173 174 175 176 177 178 179 180\n",
      " 181 182 183 184 185 186 187 188 189 190 191 192 193 194 195 196 197 198\n",
      " 199]\n"
     ]
    }
   ],
   "source": [
    "for train_index, test_index in loo.split(X):\n",
    "    if test_index < 2:\n",
    "        print(\"Test set index: \",test_index)\n",
    "        print(\"Training set indices: \",train_index)\n",
    "        \n",
    "    X_train, X_test = X[train_index], X[test_index]\n",
    "    y_train, y_test = y[train_index], y[test_index]\n",
    "    model.fit(X_train, y_train)\n",
    "    scores.append(model.score(X_test, y_test))"
   ]
  },
  {
   "cell_type": "markdown",
   "id": "917d1411",
   "metadata": {},
   "source": [
    "To get an overall estimation of the model performance, we estimate the arithmetic mean over all scores. "
   ]
  },
  {
   "cell_type": "code",
   "execution_count": 30,
   "id": "41cd8a08",
   "metadata": {},
   "outputs": [
    {
     "name": "stdout",
     "output_type": "stream",
     "text": [
      "Mean score:  0.855\n"
     ]
    }
   ],
   "source": [
    "print(\"Mean score: \", sum(scores) / len(scores))"
   ]
  },
  {
   "cell_type": "markdown",
   "id": "6c2e7b49",
   "metadata": {},
   "source": [
    "But we can also inspect the scores individually. Here, we can assume that in a real-world situation, one might have a dataset to train a model for categorizing individuals. Then one can use the fitted model to score new data points individually as they come. E.g., for a selection process to attend a specific school type or study admission."
   ]
  },
  {
   "cell_type": "code",
   "execution_count": 31,
   "id": "c6b69a3e",
   "metadata": {},
   "outputs": [
    {
     "name": "stdout",
     "output_type": "stream",
     "text": [
      "Scores:  [0.0, 0.0, 1.0, 1.0, 1.0, 1.0, 1.0, 1.0, 1.0, 1.0, 1.0, 0.0, 1.0, 1.0, 1.0, 1.0, 1.0, 1.0, 1.0, 1.0, 1.0, 1.0, 0.0, 1.0, 1.0, 1.0, 1.0, 1.0, 0.0, 1.0, 1.0, 1.0, 1.0, 1.0, 0.0, 1.0, 1.0, 1.0, 1.0, 1.0, 1.0, 1.0, 1.0, 1.0, 0.0, 1.0, 0.0, 1.0, 1.0, 0.0, 1.0, 1.0, 1.0, 1.0, 1.0, 1.0, 1.0, 1.0, 1.0, 1.0, 1.0, 1.0, 1.0, 1.0, 1.0, 0.0, 1.0, 1.0, 1.0, 1.0, 1.0, 1.0, 1.0, 1.0, 1.0, 1.0, 0.0, 1.0, 1.0, 1.0, 1.0, 1.0, 0.0, 1.0, 1.0, 1.0, 1.0, 1.0, 1.0, 1.0, 1.0, 1.0, 1.0, 1.0, 0.0, 1.0, 1.0, 0.0, 0.0, 1.0, 1.0, 1.0, 1.0, 1.0, 1.0, 0.0, 1.0, 1.0, 1.0, 1.0, 1.0, 1.0, 0.0, 1.0, 1.0, 1.0, 1.0, 1.0, 1.0, 1.0, 1.0, 1.0, 1.0, 1.0, 1.0, 1.0, 1.0, 1.0, 0.0, 1.0, 1.0, 1.0, 1.0, 1.0, 1.0, 1.0, 1.0, 1.0, 1.0, 1.0, 1.0, 1.0, 1.0, 0.0, 0.0, 0.0, 1.0, 1.0, 1.0, 1.0, 1.0, 1.0, 1.0, 1.0, 1.0, 1.0, 1.0, 1.0, 1.0, 1.0, 1.0, 1.0, 1.0, 1.0, 1.0, 1.0, 0.0, 1.0, 1.0, 1.0, 0.0, 1.0, 1.0, 1.0, 1.0, 1.0, 1.0, 1.0, 0.0, 1.0, 0.0, 1.0, 1.0, 0.0, 1.0, 1.0, 1.0, 1.0, 1.0, 1.0, 0.0, 1.0, 1.0, 0.0, 1.0, 1.0, 1.0, 1.0, 1.0, 0.0]\n"
     ]
    }
   ],
   "source": [
    "print(\"Scores: \", scores)"
   ]
  },
  {
   "cell_type": "markdown",
   "id": "c9393e2a",
   "metadata": {},
   "source": [
    "Note the numeric values (0 or 1) indicate if the prediction was correct. To identify the prediction one needs to go back to the lables used in training. "
   ]
  },
  {
   "cell_type": "code",
   "execution_count": 38,
   "id": "dd957faf",
   "metadata": {},
   "outputs": [
    {
     "data": {
      "text/html": [
       "<div>\n",
       "<style scoped>\n",
       "    .dataframe tbody tr th:only-of-type {\n",
       "        vertical-align: middle;\n",
       "    }\n",
       "\n",
       "    .dataframe tbody tr th {\n",
       "        vertical-align: top;\n",
       "    }\n",
       "\n",
       "    .dataframe thead th {\n",
       "        text-align: right;\n",
       "    }\n",
       "</style>\n",
       "<table border=\"1\" class=\"dataframe\">\n",
       "  <thead>\n",
       "    <tr style=\"text-align: right;\">\n",
       "      <th></th>\n",
       "      <th>Labels</th>\n",
       "      <th>Scores</th>\n",
       "    </tr>\n",
       "  </thead>\n",
       "  <tbody>\n",
       "    <tr>\n",
       "      <th>0</th>\n",
       "      <td>NoProblem</td>\n",
       "      <td>0.0</td>\n",
       "    </tr>\n",
       "    <tr>\n",
       "      <th>1</th>\n",
       "      <td>NoProblem</td>\n",
       "      <td>0.0</td>\n",
       "    </tr>\n",
       "    <tr>\n",
       "      <th>2</th>\n",
       "      <td>NoProblem</td>\n",
       "      <td>1.0</td>\n",
       "    </tr>\n",
       "    <tr>\n",
       "      <th>3</th>\n",
       "      <td>NoProblem</td>\n",
       "      <td>1.0</td>\n",
       "    </tr>\n",
       "    <tr>\n",
       "      <th>4</th>\n",
       "      <td>NoProblem</td>\n",
       "      <td>1.0</td>\n",
       "    </tr>\n",
       "    <tr>\n",
       "      <th>...</th>\n",
       "      <td>...</td>\n",
       "      <td>...</td>\n",
       "    </tr>\n",
       "    <tr>\n",
       "      <th>195</th>\n",
       "      <td>Problem</td>\n",
       "      <td>1.0</td>\n",
       "    </tr>\n",
       "    <tr>\n",
       "      <th>196</th>\n",
       "      <td>Problem</td>\n",
       "      <td>1.0</td>\n",
       "    </tr>\n",
       "    <tr>\n",
       "      <th>197</th>\n",
       "      <td>Problem</td>\n",
       "      <td>1.0</td>\n",
       "    </tr>\n",
       "    <tr>\n",
       "      <th>198</th>\n",
       "      <td>Problem</td>\n",
       "      <td>1.0</td>\n",
       "    </tr>\n",
       "    <tr>\n",
       "      <th>199</th>\n",
       "      <td>Problem</td>\n",
       "      <td>0.0</td>\n",
       "    </tr>\n",
       "  </tbody>\n",
       "</table>\n",
       "<p>200 rows × 2 columns</p>\n",
       "</div>"
      ],
      "text/plain": [
       "        Labels  Scores\n",
       "0    NoProblem     0.0\n",
       "1    NoProblem     0.0\n",
       "2    NoProblem     1.0\n",
       "3    NoProblem     1.0\n",
       "4    NoProblem     1.0\n",
       "..         ...     ...\n",
       "195    Problem     1.0\n",
       "196    Problem     1.0\n",
       "197    Problem     1.0\n",
       "198    Problem     1.0\n",
       "199    Problem     0.0\n",
       "\n",
       "[200 rows x 2 columns]"
      ]
     },
     "execution_count": 38,
     "metadata": {},
     "output_type": "execute_result"
    }
   ],
   "source": [
    "scores_lables = {\"Labels\": y, \"Scores\": scores}\n",
    "\n",
    "DataFrame(scores_lables)"
   ]
  },
  {
   "cell_type": "markdown",
   "id": "c85e8f94",
   "metadata": {},
   "source": [
    "**Exercise** Do the Cross-Validation for the same three methods from the previous 5-fold cross validation and present the scores in a box-plot side by side. So we can compare the 5-fold and the LOOCV. "
   ]
  },
  {
   "cell_type": "code",
   "execution_count": null,
   "id": "5c22719d",
   "metadata": {},
   "outputs": [],
   "source": []
  }
 ],
 "metadata": {
  "kernelspec": {
   "display_name": "Python 3 (ipykernel)",
   "language": "python",
   "name": "python3"
  },
  "language_info": {
   "codemirror_mode": {
    "name": "ipython",
    "version": 3
   },
   "file_extension": ".py",
   "mimetype": "text/x-python",
   "name": "python",
   "nbconvert_exporter": "python",
   "pygments_lexer": "ipython3",
   "version": "3.9.12"
  }
 },
 "nbformat": 4,
 "nbformat_minor": 5
}
