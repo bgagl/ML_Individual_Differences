{
 "cells": [
  {
   "cell_type": "markdown",
   "id": "4b4cbe7d",
   "metadata": {},
   "source": [
    "# Machine learning basics"
   ]
  },
  {
   "cell_type": "markdown",
   "id": "1c4da3b8",
   "metadata": {},
   "source": [
    "**Prediction** \n",
    "\n",
    "- Categorical\n",
    "- Point estimate\n",
    "\n",
    "\n",
    "**Categorical**\n",
    "\n",
    "Categorical prediction is a type of supervised machine learning task where the goal is to predict a categorical label (or class) for a given input. The categorical labels are discrete and unordered, such as \"red,\" \"green,\" \"blue,\" etc. Categorical prediction is also known as classification.\n",
    "\n",
    "Before training any model, it is important to preprocess and clean the data, split the data into training and testing sets, and then evaluate the performance of the model using metrics such as accuracy, precision, recall, and F1-score.\n",
    "\n",
    "Once the model is trained, it can be used to make predictions on new data. The basic process of categorical prediction is that the model is given a set of input features and it returns a predicted class label. The model can be fine-tuned by adjusting the parameters, or by using more advanced techniques such as cross-validation or ensemble methods.\n",
    "\n",
    "\n",
    "![alt text](./images/binary_decision_problem.jpg \"Title\")\n",
    "![alt text](./images/4_fields.jpg \"Title\")\n",
    "\n",
    "There are many different algorithms and techniques that can be used for categorical prediction, including:\n",
    "\n",
    "-    Logistic regression: A statistical method that can be used for binary classification (predicting one of two classes). Logistic regression models the probability of an input belonging to a particular class.\n",
    "\n",
    "-    Decision trees: A tree-based model that can be used for both binary and multi-class classification. Decision trees use a set of if-then-else rules to make predictions.\n",
    "\n",
    "-    Random forests: An ensemble method that combines multiple decision trees to improve the accuracy of the predictions.\n",
    "\n",
    "-    Support Vector Machines (SVMs): A linear model that can be used for both binary and multi-class classification. SVMs find the best boundary (or \"hyperplane\") that separates the classes.\n",
    "\n",
    "-    Neural networks: A type of model that is inspired by the structure of the human brain and can be used for both binary and multi-class classification. Neural networks are particularly useful for problems with a large number of input features or a complex decision boundary.\n"
   ]
  },
  {
   "cell_type": "code",
   "execution_count": 78,
   "id": "16cb64f3",
   "metadata": {},
   "outputs": [],
   "source": [
    "import matplotlib.pyplot as plt\n",
    "import pandas as pd\n",
    "import numpy as np\n",
    "\n",
    "from sklearn.linear_model import LogisticRegression"
   ]
  },
  {
   "cell_type": "code",
   "execution_count": 79,
   "id": "8a4f619b",
   "metadata": {},
   "outputs": [
    {
     "data": {
      "image/png": "[encoded data removed]",
      "text/plain": [
       "<Figure size 640x480 with 1 Axes>"
      ]
     },
     "metadata": {},
     "output_type": "display_data"
    }
   ],
   "source": [
    "df = pd.read_csv(\"./datasets/Group_A_B.csv\")\n",
    "\n",
    "plt.hist([df[\"NoProblem\"], df[\"Problem\"]], bins=20, histtype='bar', color=['b','r'], label=['No Problem', 'Problem'])\n",
    "plt.legend()\n",
    "plt.xlabel('Measure')\n",
    "plt.ylabel('Frequency')\n",
    "plt.show()"
   ]
  },
  {
   "cell_type": "markdown",
   "id": "cf9ecd79",
   "metadata": {},
   "source": [
    "**Exercise** Find the optimal threshold value that divides No Problem and Problem"
   ]
  },
  {
   "cell_type": "code",
   "execution_count": null,
   "id": "1336f287",
   "metadata": {},
   "outputs": [],
   "source": []
  },
  {
   "cell_type": "markdown",
   "id": "a2aae385",
   "metadata": {},
   "source": [
    "**Metrics**\n",
    "\n",
    "- Accuracy\n",
    "![alt text](./images/accuracy.jpg \"Title\")\n",
    "\n",
    "- Specificity\n",
    "![alt text](./images/specificity.jpg \"Title\")\n",
    "\n",
    "- Precision\n",
    "![alt text](./images/precision.jpg \"Title\")\n",
    "\n",
    "- True positive rate\n",
    "![alt text](./images/true-positive-rate.jpg \"Title\")\n",
    "\n",
    "- False positive rate\n",
    "![alt text](./images/false-positive-rate.jpg \"Title\")\n",
    "\n",
    "- F1 Score\n",
    "![alt text](./images/f1-score.jpg \"Title\")\n",
    "\n",
    "Let's apply a decision boundary (i.e., cutoff value) and calculate the accuracy. Here we calculte an example for a boundary of `Measure == 0` based on a so-called Rule. Note rule based systems are the simplest prediciton models with the advantage that the models are highly transparent and have a high explainability. \n",
    "\n",
    "1. We need to convert our dataframe from wide to a long-format. This is a central preprocessing step, as all machine learning models we use here work only with long-format data."
   ]
  },
  {
   "cell_type": "code",
   "execution_count": 80,
   "id": "0625e939",
   "metadata": {},
   "outputs": [
    {
     "data": {
      "text/html": [
       "<div>\n",
       "<style scoped>\n",
       "    .dataframe tbody tr th:only-of-type {\n",
       "        vertical-align: middle;\n",
       "    }\n",
       "\n",
       "    .dataframe tbody tr th {\n",
       "        vertical-align: top;\n",
       "    }\n",
       "\n",
       "    .dataframe thead th {\n",
       "        text-align: right;\n",
       "    }\n",
       "</style>\n",
       "<table border=\"1\" class=\"dataframe\">\n",
       "  <thead>\n",
       "    <tr style=\"text-align: right;\">\n",
       "      <th></th>\n",
       "      <th>Group</th>\n",
       "      <th>Measure</th>\n",
       "    </tr>\n",
       "  </thead>\n",
       "  <tbody>\n",
       "    <tr>\n",
       "      <th>0</th>\n",
       "      <td>NoProblem</td>\n",
       "      <td>1.352766</td>\n",
       "    </tr>\n",
       "    <tr>\n",
       "      <th>1</th>\n",
       "      <td>NoProblem</td>\n",
       "      <td>0.932859</td>\n",
       "    </tr>\n",
       "    <tr>\n",
       "      <th>2</th>\n",
       "      <td>NoProblem</td>\n",
       "      <td>-1.940350</td>\n",
       "    </tr>\n",
       "    <tr>\n",
       "      <th>3</th>\n",
       "      <td>NoProblem</td>\n",
       "      <td>-1.816722</td>\n",
       "    </tr>\n",
       "    <tr>\n",
       "      <th>4</th>\n",
       "      <td>NoProblem</td>\n",
       "      <td>-1.491337</td>\n",
       "    </tr>\n",
       "    <tr>\n",
       "      <th>...</th>\n",
       "      <td>...</td>\n",
       "      <td>...</td>\n",
       "    </tr>\n",
       "    <tr>\n",
       "      <th>195</th>\n",
       "      <td>Problem</td>\n",
       "      <td>0.983390</td>\n",
       "    </tr>\n",
       "    <tr>\n",
       "      <th>196</th>\n",
       "      <td>Problem</td>\n",
       "      <td>4.285581</td>\n",
       "    </tr>\n",
       "    <tr>\n",
       "      <th>197</th>\n",
       "      <td>Problem</td>\n",
       "      <td>2.494387</td>\n",
       "    </tr>\n",
       "    <tr>\n",
       "      <th>198</th>\n",
       "      <td>Problem</td>\n",
       "      <td>3.725537</td>\n",
       "    </tr>\n",
       "    <tr>\n",
       "      <th>199</th>\n",
       "      <td>Problem</td>\n",
       "      <td>0.637094</td>\n",
       "    </tr>\n",
       "  </tbody>\n",
       "</table>\n",
       "<p>200 rows × 2 columns</p>\n",
       "</div>"
      ],
      "text/plain": [
       "         Group   Measure\n",
       "0    NoProblem  1.352766\n",
       "1    NoProblem  0.932859\n",
       "2    NoProblem -1.940350\n",
       "3    NoProblem -1.816722\n",
       "4    NoProblem -1.491337\n",
       "..         ...       ...\n",
       "195    Problem  0.983390\n",
       "196    Problem  4.285581\n",
       "197    Problem  2.494387\n",
       "198    Problem  3.725537\n",
       "199    Problem  0.637094\n",
       "\n",
       "[200 rows x 2 columns]"
      ]
     },
     "execution_count": 80,
     "metadata": {},
     "output_type": "execute_result"
    }
   ],
   "source": [
    "df_long = pd.melt(df, id_vars=None, value_vars=['NoProblem', 'Problem'], var_name='Group', value_name='Measure')\n",
    "df_long"
   ]
  },
  {
   "cell_type": "markdown",
   "id": "7fef8822",
   "metadata": {},
   "source": [
    "2. Then we apply the rule to our data and create a prediction of which group a person is given a specific measure."
   ]
  },
  {
   "cell_type": "code",
   "execution_count": 81,
   "id": "4c4bb09c",
   "metadata": {},
   "outputs": [
    {
     "name": "stderr",
     "output_type": "stream",
     "text": [
      "/var/folders/cc/b555j_gn0bx_xc5xhwwyznxc0000gn/T/ipykernel_70067/401138262.py:2: SettingWithCopyWarning: \n",
      "A value is trying to be set on a copy of a slice from a DataFrame\n",
      "\n",
      "See the caveats in the documentation: https://pandas.pydata.org/pandas-docs/stable/user_guide/indexing.html#returning-a-view-versus-a-copy\n",
      "  df_long[\"Predicted Group\"][df_long[\"Measure\"] > 0] = \"Problem\"\n"
     ]
    },
    {
     "data": {
      "text/html": [
       "<div>\n",
       "<style scoped>\n",
       "    .dataframe tbody tr th:only-of-type {\n",
       "        vertical-align: middle;\n",
       "    }\n",
       "\n",
       "    .dataframe tbody tr th {\n",
       "        vertical-align: top;\n",
       "    }\n",
       "\n",
       "    .dataframe thead th {\n",
       "        text-align: right;\n",
       "    }\n",
       "</style>\n",
       "<table border=\"1\" class=\"dataframe\">\n",
       "  <thead>\n",
       "    <tr style=\"text-align: right;\">\n",
       "      <th></th>\n",
       "      <th>Group</th>\n",
       "      <th>Measure</th>\n",
       "      <th>Predicted Group</th>\n",
       "    </tr>\n",
       "  </thead>\n",
       "  <tbody>\n",
       "    <tr>\n",
       "      <th>0</th>\n",
       "      <td>NoProblem</td>\n",
       "      <td>1.352766</td>\n",
       "      <td>Problem</td>\n",
       "    </tr>\n",
       "    <tr>\n",
       "      <th>1</th>\n",
       "      <td>NoProblem</td>\n",
       "      <td>0.932859</td>\n",
       "      <td>Problem</td>\n",
       "    </tr>\n",
       "    <tr>\n",
       "      <th>2</th>\n",
       "      <td>NoProblem</td>\n",
       "      <td>-1.940350</td>\n",
       "      <td>NoProblem</td>\n",
       "    </tr>\n",
       "    <tr>\n",
       "      <th>3</th>\n",
       "      <td>NoProblem</td>\n",
       "      <td>-1.816722</td>\n",
       "      <td>NoProblem</td>\n",
       "    </tr>\n",
       "    <tr>\n",
       "      <th>4</th>\n",
       "      <td>NoProblem</td>\n",
       "      <td>-1.491337</td>\n",
       "      <td>NoProblem</td>\n",
       "    </tr>\n",
       "    <tr>\n",
       "      <th>...</th>\n",
       "      <td>...</td>\n",
       "      <td>...</td>\n",
       "      <td>...</td>\n",
       "    </tr>\n",
       "    <tr>\n",
       "      <th>195</th>\n",
       "      <td>Problem</td>\n",
       "      <td>0.983390</td>\n",
       "      <td>Problem</td>\n",
       "    </tr>\n",
       "    <tr>\n",
       "      <th>196</th>\n",
       "      <td>Problem</td>\n",
       "      <td>4.285581</td>\n",
       "      <td>Problem</td>\n",
       "    </tr>\n",
       "    <tr>\n",
       "      <th>197</th>\n",
       "      <td>Problem</td>\n",
       "      <td>2.494387</td>\n",
       "      <td>Problem</td>\n",
       "    </tr>\n",
       "    <tr>\n",
       "      <th>198</th>\n",
       "      <td>Problem</td>\n",
       "      <td>3.725537</td>\n",
       "      <td>Problem</td>\n",
       "    </tr>\n",
       "    <tr>\n",
       "      <th>199</th>\n",
       "      <td>Problem</td>\n",
       "      <td>0.637094</td>\n",
       "      <td>Problem</td>\n",
       "    </tr>\n",
       "  </tbody>\n",
       "</table>\n",
       "<p>200 rows × 3 columns</p>\n",
       "</div>"
      ],
      "text/plain": [
       "         Group   Measure Predicted Group\n",
       "0    NoProblem  1.352766         Problem\n",
       "1    NoProblem  0.932859         Problem\n",
       "2    NoProblem -1.940350       NoProblem\n",
       "3    NoProblem -1.816722       NoProblem\n",
       "4    NoProblem -1.491337       NoProblem\n",
       "..         ...       ...             ...\n",
       "195    Problem  0.983390         Problem\n",
       "196    Problem  4.285581         Problem\n",
       "197    Problem  2.494387         Problem\n",
       "198    Problem  3.725537         Problem\n",
       "199    Problem  0.637094         Problem\n",
       "\n",
       "[200 rows x 3 columns]"
      ]
     },
     "execution_count": 81,
     "metadata": {},
     "output_type": "execute_result"
    }
   ],
   "source": [
    "df_long[\"Predicted Group\"] = \"NoProblem\"\n",
    "df_long[\"Predicted Group\"][df_long[\"Measure\"] > 0] = \"Problem\"\n",
    "df_long"
   ]
  },
  {
   "cell_type": "markdown",
   "id": "b8c0c85d",
   "metadata": {},
   "source": [
    "3. We compare the predicted group with the actual group on the accuracy metric"
   ]
  },
  {
   "cell_type": "code",
   "execution_count": 82,
   "id": "42998715",
   "metadata": {},
   "outputs": [
    {
     "name": "stderr",
     "output_type": "stream",
     "text": [
      "/var/folders/cc/b555j_gn0bx_xc5xhwwyznxc0000gn/T/ipykernel_70067/1923330692.py:1: UserWarning: Boolean Series key will be reindexed to match DataFrame index.\n",
      "  true_positive = len(df_long[df_long[\"Group\"]==df_long[\"Predicted Group\"]][df_long[\"Predicted Group\"] == \"Problem\"])\n"
     ]
    },
    {
     "data": {
      "text/plain": [
       "96"
      ]
     },
     "execution_count": 82,
     "metadata": {},
     "output_type": "execute_result"
    }
   ],
   "source": [
    "true_positive = len(df_long[df_long[\"Group\"]==df_long[\"Predicted Group\"]][df_long[\"Predicted Group\"] == \"Problem\"])\n",
    "true_positive"
   ]
  },
  {
   "cell_type": "code",
   "execution_count": 83,
   "id": "8eb35d87",
   "metadata": {},
   "outputs": [
    {
     "name": "stderr",
     "output_type": "stream",
     "text": [
      "/var/folders/cc/b555j_gn0bx_xc5xhwwyznxc0000gn/T/ipykernel_70067/3376604202.py:1: UserWarning: Boolean Series key will be reindexed to match DataFrame index.\n",
      "  true_negative = len(df_long[df_long[\"Group\"]==df_long[\"Predicted Group\"]][df_long[\"Predicted Group\"] == \"NoProblem\"])\n"
     ]
    },
    {
     "data": {
      "text/plain": [
       "51"
      ]
     },
     "execution_count": 83,
     "metadata": {},
     "output_type": "execute_result"
    }
   ],
   "source": [
    "true_negative = len(df_long[df_long[\"Group\"]==df_long[\"Predicted Group\"]][df_long[\"Predicted Group\"] == \"NoProblem\"])\n",
    "true_negative"
   ]
  },
  {
   "cell_type": "code",
   "execution_count": 84,
   "id": "4f676385",
   "metadata": {},
   "outputs": [
    {
     "name": "stderr",
     "output_type": "stream",
     "text": [
      "/var/folders/cc/b555j_gn0bx_xc5xhwwyznxc0000gn/T/ipykernel_70067/285954077.py:1: UserWarning: Boolean Series key will be reindexed to match DataFrame index.\n",
      "  false_positive = len(df_long[df_long[\"Group\"]!=df_long[\"Predicted Group\"]][df_long[\"Predicted Group\"] == \"Problem\"])\n"
     ]
    },
    {
     "data": {
      "text/plain": [
       "49"
      ]
     },
     "execution_count": 84,
     "metadata": {},
     "output_type": "execute_result"
    }
   ],
   "source": [
    "false_positive = len(df_long[df_long[\"Group\"]!=df_long[\"Predicted Group\"]][df_long[\"Predicted Group\"] == \"Problem\"])\n",
    "false_positive"
   ]
  },
  {
   "cell_type": "code",
   "execution_count": 85,
   "id": "c91f513e",
   "metadata": {},
   "outputs": [
    {
     "name": "stderr",
     "output_type": "stream",
     "text": [
      "/var/folders/cc/b555j_gn0bx_xc5xhwwyznxc0000gn/T/ipykernel_70067/1528940798.py:1: UserWarning: Boolean Series key will be reindexed to match DataFrame index.\n",
      "  false_negative = len(df_long[df_long[\"Group\"]!=df_long[\"Predicted Group\"]][df_long[\"Predicted Group\"] == \"NoProblem\"])\n"
     ]
    },
    {
     "data": {
      "text/plain": [
       "4"
      ]
     },
     "execution_count": 85,
     "metadata": {},
     "output_type": "execute_result"
    }
   ],
   "source": [
    "false_negative = len(df_long[df_long[\"Group\"]!=df_long[\"Predicted Group\"]][df_long[\"Predicted Group\"] == \"NoProblem\"])\n",
    "false_negative"
   ]
  },
  {
   "cell_type": "code",
   "execution_count": 86,
   "id": "befd31d0",
   "metadata": {},
   "outputs": [
    {
     "data": {
      "text/html": [
       "<div>\n",
       "<style scoped>\n",
       "    .dataframe tbody tr th:only-of-type {\n",
       "        vertical-align: middle;\n",
       "    }\n",
       "\n",
       "    .dataframe tbody tr th {\n",
       "        vertical-align: top;\n",
       "    }\n",
       "\n",
       "    .dataframe thead th {\n",
       "        text-align: right;\n",
       "    }\n",
       "</style>\n",
       "<table border=\"1\" class=\"dataframe\">\n",
       "  <thead>\n",
       "    <tr style=\"text-align: right;\">\n",
       "      <th></th>\n",
       "      <th>Group: Problem</th>\n",
       "      <th>Group: No Problem</th>\n",
       "      <th>Predicted</th>\n",
       "    </tr>\n",
       "  </thead>\n",
       "  <tbody>\n",
       "    <tr>\n",
       "      <th>0</th>\n",
       "      <td>96</td>\n",
       "      <td>49</td>\n",
       "      <td>Problem</td>\n",
       "    </tr>\n",
       "    <tr>\n",
       "      <th>1</th>\n",
       "      <td>4</td>\n",
       "      <td>51</td>\n",
       "      <td>No Problem</td>\n",
       "    </tr>\n",
       "  </tbody>\n",
       "</table>\n",
       "</div>"
      ],
      "text/plain": [
       "   Group: Problem  Group: No Problem   Predicted\n",
       "0              96                 49     Problem\n",
       "1               4                 51  No Problem"
      ]
     },
     "execution_count": 86,
     "metadata": {},
     "output_type": "execute_result"
    }
   ],
   "source": [
    "pd.DataFrame({\"Group: Problem\": [true_positive, false_negative],\n",
    "              \"Group: No Problem\": [false_positive, true_negative],\n",
    "              \"Predicted\": [\"Problem\", \"No Problem\"]\n",
    "             }\n",
    "            )"
   ]
  },
  {
   "cell_type": "markdown",
   "id": "13ba6466",
   "metadata": {},
   "source": [
    "**Accuracy**\n",
    "![alt text](./images/accuracy.jpg \"Title\")"
   ]
  },
  {
   "cell_type": "code",
   "execution_count": 87,
   "id": "774cf1a7",
   "metadata": {},
   "outputs": [
    {
     "data": {
      "text/plain": [
       "0.735"
      ]
     },
     "execution_count": 87,
     "metadata": {},
     "output_type": "execute_result"
    }
   ],
   "source": [
    "(true_positive+true_negative) / (true_positive+true_negative+false_negative+false_positive)"
   ]
  },
  {
   "cell_type": "markdown",
   "id": "9553b608",
   "metadata": {},
   "source": [
    "**False positive rate**\n",
    "![alt text](./images/false-positive-rate.jpg \"Title\")\n"
   ]
  },
  {
   "cell_type": "code",
   "execution_count": 88,
   "id": "fcd570ae",
   "metadata": {},
   "outputs": [
    {
     "data": {
      "text/plain": [
       "0.49"
      ]
     },
     "execution_count": 88,
     "metadata": {},
     "output_type": "execute_result"
    }
   ],
   "source": [
    "false_positive / (true_negative+false_positive)"
   ]
  },
  {
   "cell_type": "markdown",
   "id": "ead7bfa8",
   "metadata": {},
   "source": [
    "**Exercise** Apply your best guess decision boundary to the dataset and estimate the Accuracy and the Specificity metric"
   ]
  },
  {
   "cell_type": "code",
   "execution_count": null,
   "id": "92a24aed",
   "metadata": {},
   "outputs": [],
   "source": []
  },
  {
   "cell_type": "code",
   "execution_count": 89,
   "id": "9612f970",
   "metadata": {
    "scrolled": false
   },
   "outputs": [
    {
     "data": {
      "text/html": [
       "<div>\n",
       "<style scoped>\n",
       "    .dataframe tbody tr th:only-of-type {\n",
       "        vertical-align: middle;\n",
       "    }\n",
       "\n",
       "    .dataframe tbody tr th {\n",
       "        vertical-align: top;\n",
       "    }\n",
       "\n",
       "    .dataframe thead th {\n",
       "        text-align: right;\n",
       "    }\n",
       "</style>\n",
       "<table border=\"1\" class=\"dataframe\">\n",
       "  <thead>\n",
       "    <tr style=\"text-align: right;\">\n",
       "      <th></th>\n",
       "      <th>Group</th>\n",
       "      <th>Measure</th>\n",
       "      <th>Predicted Group</th>\n",
       "      <th>Predicted Group: Model</th>\n",
       "    </tr>\n",
       "  </thead>\n",
       "  <tbody>\n",
       "    <tr>\n",
       "      <th>0</th>\n",
       "      <td>NoProblem</td>\n",
       "      <td>1.352766</td>\n",
       "      <td>Problem</td>\n",
       "      <td>Problem</td>\n",
       "    </tr>\n",
       "    <tr>\n",
       "      <th>1</th>\n",
       "      <td>NoProblem</td>\n",
       "      <td>0.932859</td>\n",
       "      <td>Problem</td>\n",
       "      <td>Problem</td>\n",
       "    </tr>\n",
       "    <tr>\n",
       "      <th>2</th>\n",
       "      <td>NoProblem</td>\n",
       "      <td>-1.940350</td>\n",
       "      <td>NoProblem</td>\n",
       "      <td>NoProblem</td>\n",
       "    </tr>\n",
       "    <tr>\n",
       "      <th>3</th>\n",
       "      <td>NoProblem</td>\n",
       "      <td>-1.816722</td>\n",
       "      <td>NoProblem</td>\n",
       "      <td>NoProblem</td>\n",
       "    </tr>\n",
       "    <tr>\n",
       "      <th>4</th>\n",
       "      <td>NoProblem</td>\n",
       "      <td>-1.491337</td>\n",
       "      <td>NoProblem</td>\n",
       "      <td>NoProblem</td>\n",
       "    </tr>\n",
       "    <tr>\n",
       "      <th>...</th>\n",
       "      <td>...</td>\n",
       "      <td>...</td>\n",
       "      <td>...</td>\n",
       "      <td>...</td>\n",
       "    </tr>\n",
       "    <tr>\n",
       "      <th>195</th>\n",
       "      <td>Problem</td>\n",
       "      <td>0.983390</td>\n",
       "      <td>Problem</td>\n",
       "      <td>Problem</td>\n",
       "    </tr>\n",
       "    <tr>\n",
       "      <th>196</th>\n",
       "      <td>Problem</td>\n",
       "      <td>4.285581</td>\n",
       "      <td>Problem</td>\n",
       "      <td>Problem</td>\n",
       "    </tr>\n",
       "    <tr>\n",
       "      <th>197</th>\n",
       "      <td>Problem</td>\n",
       "      <td>2.494387</td>\n",
       "      <td>Problem</td>\n",
       "      <td>Problem</td>\n",
       "    </tr>\n",
       "    <tr>\n",
       "      <th>198</th>\n",
       "      <td>Problem</td>\n",
       "      <td>3.725537</td>\n",
       "      <td>Problem</td>\n",
       "      <td>Problem</td>\n",
       "    </tr>\n",
       "    <tr>\n",
       "      <th>199</th>\n",
       "      <td>Problem</td>\n",
       "      <td>0.637094</td>\n",
       "      <td>Problem</td>\n",
       "      <td>NoProblem</td>\n",
       "    </tr>\n",
       "  </tbody>\n",
       "</table>\n",
       "<p>200 rows × 4 columns</p>\n",
       "</div>"
      ],
      "text/plain": [
       "         Group   Measure Predicted Group Predicted Group: Model\n",
       "0    NoProblem  1.352766         Problem                Problem\n",
       "1    NoProblem  0.932859         Problem                Problem\n",
       "2    NoProblem -1.940350       NoProblem              NoProblem\n",
       "3    NoProblem -1.816722       NoProblem              NoProblem\n",
       "4    NoProblem -1.491337       NoProblem              NoProblem\n",
       "..         ...       ...             ...                    ...\n",
       "195    Problem  0.983390         Problem                Problem\n",
       "196    Problem  4.285581         Problem                Problem\n",
       "197    Problem  2.494387         Problem                Problem\n",
       "198    Problem  3.725537         Problem                Problem\n",
       "199    Problem  0.637094         Problem              NoProblem\n",
       "\n",
       "[200 rows x 4 columns]"
      ]
     },
     "execution_count": 89,
     "metadata": {},
     "output_type": "execute_result"
    }
   ],
   "source": [
    "X = df_long[\"Measure\"].values.reshape(-1, 1)\n",
    "y = df_long[\"Group\"]\n",
    "\n",
    "clf = LogisticRegression()\n",
    "clf.fit(X, y)\n",
    "df_long[\"Predicted Group: Model\"] = clf.predict(X)\n",
    "df_long\n"
   ]
  },
  {
   "cell_type": "code",
   "execution_count": 91,
   "id": "31842989",
   "metadata": {},
   "outputs": [
    {
     "name": "stderr",
     "output_type": "stream",
     "text": [
      "/var/folders/cc/b555j_gn0bx_xc5xhwwyznxc0000gn/T/ipykernel_70067/1657540672.py:1: UserWarning: Boolean Series key will be reindexed to match DataFrame index.\n",
      "  true_positive = len(df_long[df_long[\"Group\"]==df_long[\"Predicted Group: Model\"]][df_long[\"Predicted Group: Model\"] == \"Problem\"])\n",
      "/var/folders/cc/b555j_gn0bx_xc5xhwwyznxc0000gn/T/ipykernel_70067/1657540672.py:2: UserWarning: Boolean Series key will be reindexed to match DataFrame index.\n",
      "  false_positive = len(df_long[df_long[\"Group\"]!=df_long[\"Predicted Group: Model\"]][df_long[\"Predicted Group: Model\"] == \"Problem\"])\n",
      "/var/folders/cc/b555j_gn0bx_xc5xhwwyznxc0000gn/T/ipykernel_70067/1657540672.py:3: UserWarning: Boolean Series key will be reindexed to match DataFrame index.\n",
      "  true_negative = len(df_long[df_long[\"Group\"]==df_long[\"Predicted Group: Model\"]][df_long[\"Predicted Group: Model\"] == \"NoProblem\"])\n",
      "/var/folders/cc/b555j_gn0bx_xc5xhwwyznxc0000gn/T/ipykernel_70067/1657540672.py:4: UserWarning: Boolean Series key will be reindexed to match DataFrame index.\n",
      "  false_negative = len(df_long[df_long[\"Group\"]!=df_long[\"Predicted Group: Model\"]][df_long[\"Predicted Group: Model\"] == \"NoProblem\"])\n"
     ]
    },
    {
     "data": {
      "text/plain": [
       "0.855"
      ]
     },
     "execution_count": 91,
     "metadata": {},
     "output_type": "execute_result"
    }
   ],
   "source": [
    "true_positive = len(df_long[df_long[\"Group\"]==df_long[\"Predicted Group: Model\"]][df_long[\"Predicted Group: Model\"] == \"Problem\"])\n",
    "false_positive = len(df_long[df_long[\"Group\"]!=df_long[\"Predicted Group: Model\"]][df_long[\"Predicted Group: Model\"] == \"Problem\"])\n",
    "true_negative = len(df_long[df_long[\"Group\"]==df_long[\"Predicted Group: Model\"]][df_long[\"Predicted Group: Model\"] == \"NoProblem\"])\n",
    "false_negative = len(df_long[df_long[\"Group\"]!=df_long[\"Predicted Group: Model\"]][df_long[\"Predicted Group: Model\"] == \"NoProblem\"])\n",
    "(true_positive+true_negative) / (true_positive+true_negative+false_negative+false_positive)"
   ]
  },
  {
   "cell_type": "code",
   "execution_count": 90,
   "id": "3a4a099e",
   "metadata": {},
   "outputs": [
    {
     "data": {
      "text/plain": [
       "0.855"
      ]
     },
     "execution_count": 90,
     "metadata": {},
     "output_type": "execute_result"
    }
   ],
   "source": [
    "clf.score(X, y)"
   ]
  },
  {
   "cell_type": "code",
   "execution_count": 92,
   "id": "a9d718ad",
   "metadata": {},
   "outputs": [
    {
     "name": "stdout",
     "output_type": "stream",
     "text": [
      "Coefficients:  [[1.99475054]]\n",
      "Intercept:  [-1.72446356]\n"
     ]
    }
   ],
   "source": [
    "print(\"Coefficients: \", clf.coef_)\n",
    "print(\"Intercept: \", clf.intercept_)"
   ]
  },
  {
   "cell_type": "code",
   "execution_count": 93,
   "id": "08a36aac",
   "metadata": {},
   "outputs": [
    {
     "ename": "ValueError",
     "evalue": "The 'color' keyword argument must have one color per dataset, but 1 datasets and 2 colors were provided",
     "output_type": "error",
     "traceback": [
      "\u001b[0;31m---------------------------------------------------------------------------\u001b[0m",
      "\u001b[0;31mValueError\u001b[0m                                Traceback (most recent call last)",
      "Cell \u001b[0;32mIn[93], line 1\u001b[0m\n\u001b[0;32m----> 1\u001b[0m \u001b[43mplt\u001b[49m\u001b[38;5;241;43m.\u001b[39;49m\u001b[43mhist\u001b[49m\u001b[43m(\u001b[49m\u001b[43mdf_long\u001b[49m\u001b[43m[\u001b[49m\u001b[38;5;124;43m\"\u001b[39;49m\u001b[38;5;124;43mMeasure\u001b[39;49m\u001b[38;5;124;43m\"\u001b[39;49m\u001b[43m]\u001b[49m\u001b[43m,\u001b[49m\u001b[43m \u001b[49m\u001b[43mbins\u001b[49m\u001b[38;5;241;43m=\u001b[39;49m\u001b[38;5;241;43m20\u001b[39;49m\u001b[43m,\u001b[49m\u001b[43m \u001b[49m\u001b[43mhisttype\u001b[49m\u001b[38;5;241;43m=\u001b[39;49m\u001b[38;5;124;43m'\u001b[39;49m\u001b[38;5;124;43mbar\u001b[39;49m\u001b[38;5;124;43m'\u001b[39;49m\u001b[43m,\u001b[49m\u001b[43m \u001b[49m\u001b[43mcolor\u001b[49m\u001b[38;5;241;43m=\u001b[39;49m\u001b[43m[\u001b[49m\u001b[38;5;124;43m'\u001b[39;49m\u001b[38;5;124;43mb\u001b[39;49m\u001b[38;5;124;43m'\u001b[39;49m\u001b[43m,\u001b[49m\u001b[38;5;124;43m'\u001b[39;49m\u001b[38;5;124;43mr\u001b[39;49m\u001b[38;5;124;43m'\u001b[39;49m\u001b[43m]\u001b[49m\u001b[43m,\u001b[49m\u001b[43m \u001b[49m\u001b[43mby\u001b[49m\u001b[38;5;241;43m=\u001b[39;49m\u001b[43mdf_long\u001b[49m\u001b[43m[\u001b[49m\u001b[38;5;124;43m\"\u001b[39;49m\u001b[38;5;124;43mPredicted Group: Model\u001b[39;49m\u001b[38;5;124;43m\"\u001b[39;49m\u001b[43m]\u001b[49m\u001b[43m)\u001b[49m\n\u001b[1;32m      2\u001b[0m plt\u001b[38;5;241m.\u001b[39mlegend()\n\u001b[1;32m      3\u001b[0m plt\u001b[38;5;241m.\u001b[39mxlabel(\u001b[38;5;124m'\u001b[39m\u001b[38;5;124mMeasure\u001b[39m\u001b[38;5;124m'\u001b[39m)\n",
      "File \u001b[0;32m~/opt/miniconda3/lib/python3.9/site-packages/matplotlib/pyplot.py:2573\u001b[0m, in \u001b[0;36mhist\u001b[0;34m(x, bins, range, density, weights, cumulative, bottom, histtype, align, orientation, rwidth, log, color, label, stacked, data, **kwargs)\u001b[0m\n\u001b[1;32m   2567\u001b[0m \u001b[38;5;129m@_copy_docstring_and_deprecators\u001b[39m(Axes\u001b[38;5;241m.\u001b[39mhist)\n\u001b[1;32m   2568\u001b[0m \u001b[38;5;28;01mdef\u001b[39;00m \u001b[38;5;21mhist\u001b[39m(\n\u001b[1;32m   2569\u001b[0m         x, bins\u001b[38;5;241m=\u001b[39m\u001b[38;5;28;01mNone\u001b[39;00m, \u001b[38;5;28mrange\u001b[39m\u001b[38;5;241m=\u001b[39m\u001b[38;5;28;01mNone\u001b[39;00m, density\u001b[38;5;241m=\u001b[39m\u001b[38;5;28;01mFalse\u001b[39;00m, weights\u001b[38;5;241m=\u001b[39m\u001b[38;5;28;01mNone\u001b[39;00m,\n\u001b[1;32m   2570\u001b[0m         cumulative\u001b[38;5;241m=\u001b[39m\u001b[38;5;28;01mFalse\u001b[39;00m, bottom\u001b[38;5;241m=\u001b[39m\u001b[38;5;28;01mNone\u001b[39;00m, histtype\u001b[38;5;241m=\u001b[39m\u001b[38;5;124m'\u001b[39m\u001b[38;5;124mbar\u001b[39m\u001b[38;5;124m'\u001b[39m, align\u001b[38;5;241m=\u001b[39m\u001b[38;5;124m'\u001b[39m\u001b[38;5;124mmid\u001b[39m\u001b[38;5;124m'\u001b[39m,\n\u001b[1;32m   2571\u001b[0m         orientation\u001b[38;5;241m=\u001b[39m\u001b[38;5;124m'\u001b[39m\u001b[38;5;124mvertical\u001b[39m\u001b[38;5;124m'\u001b[39m, rwidth\u001b[38;5;241m=\u001b[39m\u001b[38;5;28;01mNone\u001b[39;00m, log\u001b[38;5;241m=\u001b[39m\u001b[38;5;28;01mFalse\u001b[39;00m, color\u001b[38;5;241m=\u001b[39m\u001b[38;5;28;01mNone\u001b[39;00m,\n\u001b[1;32m   2572\u001b[0m         label\u001b[38;5;241m=\u001b[39m\u001b[38;5;28;01mNone\u001b[39;00m, stacked\u001b[38;5;241m=\u001b[39m\u001b[38;5;28;01mFalse\u001b[39;00m, \u001b[38;5;241m*\u001b[39m, data\u001b[38;5;241m=\u001b[39m\u001b[38;5;28;01mNone\u001b[39;00m, \u001b[38;5;241m*\u001b[39m\u001b[38;5;241m*\u001b[39mkwargs):\n\u001b[0;32m-> 2573\u001b[0m     \u001b[38;5;28;01mreturn\u001b[39;00m \u001b[43mgca\u001b[49m\u001b[43m(\u001b[49m\u001b[43m)\u001b[49m\u001b[38;5;241;43m.\u001b[39;49m\u001b[43mhist\u001b[49m\u001b[43m(\u001b[49m\n\u001b[1;32m   2574\u001b[0m \u001b[43m        \u001b[49m\u001b[43mx\u001b[49m\u001b[43m,\u001b[49m\u001b[43m \u001b[49m\u001b[43mbins\u001b[49m\u001b[38;5;241;43m=\u001b[39;49m\u001b[43mbins\u001b[49m\u001b[43m,\u001b[49m\u001b[43m \u001b[49m\u001b[38;5;28;43mrange\u001b[39;49m\u001b[38;5;241;43m=\u001b[39;49m\u001b[38;5;28;43mrange\u001b[39;49m\u001b[43m,\u001b[49m\u001b[43m \u001b[49m\u001b[43mdensity\u001b[49m\u001b[38;5;241;43m=\u001b[39;49m\u001b[43mdensity\u001b[49m\u001b[43m,\u001b[49m\u001b[43m \u001b[49m\u001b[43mweights\u001b[49m\u001b[38;5;241;43m=\u001b[39;49m\u001b[43mweights\u001b[49m\u001b[43m,\u001b[49m\n\u001b[1;32m   2575\u001b[0m \u001b[43m        \u001b[49m\u001b[43mcumulative\u001b[49m\u001b[38;5;241;43m=\u001b[39;49m\u001b[43mcumulative\u001b[49m\u001b[43m,\u001b[49m\u001b[43m \u001b[49m\u001b[43mbottom\u001b[49m\u001b[38;5;241;43m=\u001b[39;49m\u001b[43mbottom\u001b[49m\u001b[43m,\u001b[49m\u001b[43m \u001b[49m\u001b[43mhisttype\u001b[49m\u001b[38;5;241;43m=\u001b[39;49m\u001b[43mhisttype\u001b[49m\u001b[43m,\u001b[49m\n\u001b[1;32m   2576\u001b[0m \u001b[43m        \u001b[49m\u001b[43malign\u001b[49m\u001b[38;5;241;43m=\u001b[39;49m\u001b[43malign\u001b[49m\u001b[43m,\u001b[49m\u001b[43m \u001b[49m\u001b[43morientation\u001b[49m\u001b[38;5;241;43m=\u001b[39;49m\u001b[43morientation\u001b[49m\u001b[43m,\u001b[49m\u001b[43m \u001b[49m\u001b[43mrwidth\u001b[49m\u001b[38;5;241;43m=\u001b[39;49m\u001b[43mrwidth\u001b[49m\u001b[43m,\u001b[49m\u001b[43m \u001b[49m\u001b[43mlog\u001b[49m\u001b[38;5;241;43m=\u001b[39;49m\u001b[43mlog\u001b[49m\u001b[43m,\u001b[49m\n\u001b[1;32m   2577\u001b[0m \u001b[43m        \u001b[49m\u001b[43mcolor\u001b[49m\u001b[38;5;241;43m=\u001b[39;49m\u001b[43mcolor\u001b[49m\u001b[43m,\u001b[49m\u001b[43m \u001b[49m\u001b[43mlabel\u001b[49m\u001b[38;5;241;43m=\u001b[39;49m\u001b[43mlabel\u001b[49m\u001b[43m,\u001b[49m\u001b[43m \u001b[49m\u001b[43mstacked\u001b[49m\u001b[38;5;241;43m=\u001b[39;49m\u001b[43mstacked\u001b[49m\u001b[43m,\u001b[49m\n\u001b[1;32m   2578\u001b[0m \u001b[43m        \u001b[49m\u001b[38;5;241;43m*\u001b[39;49m\u001b[38;5;241;43m*\u001b[39;49m\u001b[43m(\u001b[49m\u001b[43m{\u001b[49m\u001b[38;5;124;43m\"\u001b[39;49m\u001b[38;5;124;43mdata\u001b[39;49m\u001b[38;5;124;43m\"\u001b[39;49m\u001b[43m:\u001b[49m\u001b[43m \u001b[49m\u001b[43mdata\u001b[49m\u001b[43m}\u001b[49m\u001b[43m \u001b[49m\u001b[38;5;28;43;01mif\u001b[39;49;00m\u001b[43m \u001b[49m\u001b[43mdata\u001b[49m\u001b[43m \u001b[49m\u001b[38;5;129;43;01mis\u001b[39;49;00m\u001b[43m \u001b[49m\u001b[38;5;129;43;01mnot\u001b[39;49;00m\u001b[43m \u001b[49m\u001b[38;5;28;43;01mNone\u001b[39;49;00m\u001b[43m \u001b[49m\u001b[38;5;28;43;01melse\u001b[39;49;00m\u001b[43m \u001b[49m\u001b[43m{\u001b[49m\u001b[43m}\u001b[49m\u001b[43m)\u001b[49m\u001b[43m,\u001b[49m\u001b[43m \u001b[49m\u001b[38;5;241;43m*\u001b[39;49m\u001b[38;5;241;43m*\u001b[39;49m\u001b[43mkwargs\u001b[49m\u001b[43m)\u001b[49m\n",
      "File \u001b[0;32m~/opt/miniconda3/lib/python3.9/site-packages/matplotlib/__init__.py:1423\u001b[0m, in \u001b[0;36m_preprocess_data.<locals>.inner\u001b[0;34m(ax, data, *args, **kwargs)\u001b[0m\n\u001b[1;32m   1420\u001b[0m \u001b[38;5;129m@functools\u001b[39m\u001b[38;5;241m.\u001b[39mwraps(func)\n\u001b[1;32m   1421\u001b[0m \u001b[38;5;28;01mdef\u001b[39;00m \u001b[38;5;21minner\u001b[39m(ax, \u001b[38;5;241m*\u001b[39margs, data\u001b[38;5;241m=\u001b[39m\u001b[38;5;28;01mNone\u001b[39;00m, \u001b[38;5;241m*\u001b[39m\u001b[38;5;241m*\u001b[39mkwargs):\n\u001b[1;32m   1422\u001b[0m     \u001b[38;5;28;01mif\u001b[39;00m data \u001b[38;5;129;01mis\u001b[39;00m \u001b[38;5;28;01mNone\u001b[39;00m:\n\u001b[0;32m-> 1423\u001b[0m         \u001b[38;5;28;01mreturn\u001b[39;00m \u001b[43mfunc\u001b[49m\u001b[43m(\u001b[49m\u001b[43max\u001b[49m\u001b[43m,\u001b[49m\u001b[43m \u001b[49m\u001b[38;5;241;43m*\u001b[39;49m\u001b[38;5;28;43mmap\u001b[39;49m\u001b[43m(\u001b[49m\u001b[43msanitize_sequence\u001b[49m\u001b[43m,\u001b[49m\u001b[43m \u001b[49m\u001b[43margs\u001b[49m\u001b[43m)\u001b[49m\u001b[43m,\u001b[49m\u001b[43m \u001b[49m\u001b[38;5;241;43m*\u001b[39;49m\u001b[38;5;241;43m*\u001b[39;49m\u001b[43mkwargs\u001b[49m\u001b[43m)\u001b[49m\n\u001b[1;32m   1425\u001b[0m     bound \u001b[38;5;241m=\u001b[39m new_sig\u001b[38;5;241m.\u001b[39mbind(ax, \u001b[38;5;241m*\u001b[39margs, \u001b[38;5;241m*\u001b[39m\u001b[38;5;241m*\u001b[39mkwargs)\n\u001b[1;32m   1426\u001b[0m     auto_label \u001b[38;5;241m=\u001b[39m (bound\u001b[38;5;241m.\u001b[39marguments\u001b[38;5;241m.\u001b[39mget(label_namer)\n\u001b[1;32m   1427\u001b[0m                   \u001b[38;5;129;01mor\u001b[39;00m bound\u001b[38;5;241m.\u001b[39mkwargs\u001b[38;5;241m.\u001b[39mget(label_namer))\n",
      "File \u001b[0;32m~/opt/miniconda3/lib/python3.9/site-packages/matplotlib/axes/_axes.py:6693\u001b[0m, in \u001b[0;36mAxes.hist\u001b[0;34m(self, x, bins, range, density, weights, cumulative, bottom, histtype, align, orientation, rwidth, log, color, label, stacked, **kwargs)\u001b[0m\n\u001b[1;32m   6691\u001b[0m     color \u001b[38;5;241m=\u001b[39m mcolors\u001b[38;5;241m.\u001b[39mto_rgba_array(color)\n\u001b[1;32m   6692\u001b[0m     \u001b[38;5;28;01mif\u001b[39;00m \u001b[38;5;28mlen\u001b[39m(color) \u001b[38;5;241m!=\u001b[39m nx:\n\u001b[0;32m-> 6693\u001b[0m         \u001b[38;5;28;01mraise\u001b[39;00m \u001b[38;5;167;01mValueError\u001b[39;00m(\u001b[38;5;124mf\u001b[39m\u001b[38;5;124m\"\u001b[39m\u001b[38;5;124mThe \u001b[39m\u001b[38;5;124m'\u001b[39m\u001b[38;5;124mcolor\u001b[39m\u001b[38;5;124m'\u001b[39m\u001b[38;5;124m keyword argument must have one \u001b[39m\u001b[38;5;124m\"\u001b[39m\n\u001b[1;32m   6694\u001b[0m                          \u001b[38;5;124mf\u001b[39m\u001b[38;5;124m\"\u001b[39m\u001b[38;5;124mcolor per dataset, but \u001b[39m\u001b[38;5;132;01m{\u001b[39;00mnx\u001b[38;5;132;01m}\u001b[39;00m\u001b[38;5;124m datasets and \u001b[39m\u001b[38;5;124m\"\u001b[39m\n\u001b[1;32m   6695\u001b[0m                          \u001b[38;5;124mf\u001b[39m\u001b[38;5;124m\"\u001b[39m\u001b[38;5;132;01m{\u001b[39;00m\u001b[38;5;28mlen\u001b[39m(color)\u001b[38;5;132;01m}\u001b[39;00m\u001b[38;5;124m colors were provided\u001b[39m\u001b[38;5;124m\"\u001b[39m)\n\u001b[1;32m   6697\u001b[0m hist_kwargs \u001b[38;5;241m=\u001b[39m \u001b[38;5;28mdict\u001b[39m()\n\u001b[1;32m   6699\u001b[0m \u001b[38;5;66;03m# if the bin_range is not given, compute without nan numpy\u001b[39;00m\n\u001b[1;32m   6700\u001b[0m \u001b[38;5;66;03m# does not do this for us when guessing the range (but will\u001b[39;00m\n\u001b[1;32m   6701\u001b[0m \u001b[38;5;66;03m# happily ignore nans when computing the histogram).\u001b[39;00m\n",
      "\u001b[0;31mValueError\u001b[0m: The 'color' keyword argument must have one color per dataset, but 1 datasets and 2 colors were provided"
     ]
    },
    {
     "data": {
      "image/png": "[encoded data removed]",
      "text/plain": [
       "<Figure size 640x480 with 1 Axes>"
      ]
     },
     "metadata": {},
     "output_type": "display_data"
    }
   ],
   "source": [
    "plt.hist(df_long[\"Measure\"], bins=20, histtype='bar', color=['b','r'], by=df_long[\"Predicted Group: Model\"])\n",
    "plt.legend()\n",
    "plt.xlabel('Measure')\n",
    "plt.ylabel('Frequency')\n",
    "plt.show()"
   ]
  }
 ],
 "metadata": {
  "kernelspec": {
   "display_name": "Python 3 (ipykernel)",
   "language": "python",
   "name": "python3"
  },
  "language_info": {
   "codemirror_mode": {
    "name": "ipython",
    "version": 3
   },
   "file_extension": ".py",
   "mimetype": "text/x-python",
   "name": "python",
   "nbconvert_exporter": "python",
   "pygments_lexer": "ipython3",
   "version": "3.9.12"
  }
 },
 "nbformat": 4,
 "nbformat_minor": 5
}
