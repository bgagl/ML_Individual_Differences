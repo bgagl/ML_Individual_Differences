{
 "cells": [
  {
   "cell_type": "markdown",
   "id": "e1c63205",
   "metadata": {},
   "source": [
    "# Dataframes and data handling"
   ]
  },
  {
   "cell_type": "markdown",
   "id": "1593b693",
   "metadata": {},
   "source": [
    "Dataframes are tabular data structures with labeled axes (rows and columns, like in excel). These data structures are commonly used in data science using software libraries such as Pandas and R data frames (a reminder for those familiar with R).\n",
    "\n",
    "Here we will use [pandas](https://pandas.pydata.org/docs/). Find a cheat sheet [here](http://datacamp-community-prod.s3.amazonaws.com/dbed353d-2757-4617-8206-8767ab379ab3) \n",
    "\n",
    "First, we will import two libraries: `pandas` and `random`"
   ]
  },
  {
   "cell_type": "code",
   "execution_count": 44,
   "id": "5731983e",
   "metadata": {},
   "outputs": [],
   "source": [
    "import pandas as pd\n",
    "import random\n",
    "import numpy as np"
   ]
  },
  {
   "cell_type": "markdown",
   "id": "e890f120",
   "metadata": {},
   "source": [
    "First, let's define a simple example data frame with 100 rows and two columns with random variables. "
   ]
  },
  {
   "cell_type": "code",
   "execution_count": 45,
   "id": "7536ce4d",
   "metadata": {},
   "outputs": [],
   "source": [
    "num_rows = 100\n",
    "random_data_integer = [random.randint(0, 100) for i in range(num_rows)]\n",
    "random_data_float = np.random.normal(loc=0, scale=1, size=100)"
   ]
  },
  {
   "cell_type": "markdown",
   "id": "efd6f5e6",
   "metadata": {},
   "source": [
    "Then we create a **dictionary** (data structure representing a collection of variables of any type) with the two data lists."
   ]
  },
  {
   "cell_type": "code",
   "execution_count": 46,
   "id": "1ecb1da4",
   "metadata": {},
   "outputs": [
    {
     "data": {
      "text/plain": [
       "{'Random Integer': [90,\n",
       "  5,\n",
       "  66,\n",
       "  8,\n",
       "  22,\n",
       "  90,\n",
       "  18,\n",
       "  72,\n",
       "  50,\n",
       "  31,\n",
       "  79,\n",
       "  63,\n",
       "  26,\n",
       "  51,\n",
       "  67,\n",
       "  43,\n",
       "  60,\n",
       "  48,\n",
       "  33,\n",
       "  72,\n",
       "  76,\n",
       "  97,\n",
       "  18,\n",
       "  53,\n",
       "  31,\n",
       "  39,\n",
       "  95,\n",
       "  56,\n",
       "  51,\n",
       "  43,\n",
       "  92,\n",
       "  97,\n",
       "  76,\n",
       "  40,\n",
       "  62,\n",
       "  27,\n",
       "  26,\n",
       "  83,\n",
       "  84,\n",
       "  44,\n",
       "  93,\n",
       "  93,\n",
       "  39,\n",
       "  17,\n",
       "  99,\n",
       "  89,\n",
       "  18,\n",
       "  59,\n",
       "  47,\n",
       "  25,\n",
       "  22,\n",
       "  99,\n",
       "  8,\n",
       "  21,\n",
       "  30,\n",
       "  100,\n",
       "  74,\n",
       "  49,\n",
       "  96,\n",
       "  17,\n",
       "  73,\n",
       "  34,\n",
       "  31,\n",
       "  87,\n",
       "  63,\n",
       "  62,\n",
       "  74,\n",
       "  64,\n",
       "  81,\n",
       "  67,\n",
       "  79,\n",
       "  71,\n",
       "  99,\n",
       "  3,\n",
       "  27,\n",
       "  85,\n",
       "  0,\n",
       "  9,\n",
       "  1,\n",
       "  19,\n",
       "  23,\n",
       "  19,\n",
       "  23,\n",
       "  63,\n",
       "  39,\n",
       "  6,\n",
       "  42,\n",
       "  50,\n",
       "  79,\n",
       "  51,\n",
       "  35,\n",
       "  29,\n",
       "  65,\n",
       "  25,\n",
       "  78,\n",
       "  75,\n",
       "  50,\n",
       "  33,\n",
       "  17,\n",
       "  78],\n",
       " 'Random Float': array([-0.38583693,  1.1461526 ,  1.09659196, -1.38254705,  0.62956462,\n",
       "         0.84407904,  1.50625559, -0.55132015, -1.52648934,  2.02323748,\n",
       "         0.61256809,  0.50883438, -0.9497414 ,  1.33577742,  0.93359298,\n",
       "        -1.36556855,  0.73874532,  0.33358013,  0.49032932,  0.78373047,\n",
       "        -0.14443964,  0.22238854,  0.25919312, -0.72568249, -0.64898114,\n",
       "         0.7805571 , -0.13769131,  2.81547438,  0.78270248,  0.82657453,\n",
       "        -0.00633611, -1.63159451,  0.81741205, -0.27107765,  0.60237417,\n",
       "         2.07735177, -0.30517634, -1.17336353, -0.55470246,  1.18032987,\n",
       "        -0.00824273,  2.53059635, -0.90915787, -0.8174802 ,  2.94093791,\n",
       "         0.43713525,  0.66909246, -0.58264056,  0.53961467, -0.83783755,\n",
       "        -0.09858969, -0.97193169,  0.50009987, -0.05102574,  1.66271297,\n",
       "        -0.53192074,  2.3789434 ,  2.21739104,  0.28797237,  1.13777171,\n",
       "        -0.38389026,  0.20966882,  0.84566019,  1.1209038 , -1.2454084 ,\n",
       "         0.35106474, -0.93649234, -1.06706228,  1.062604  ,  1.03510629,\n",
       "         0.35339009, -1.30826561, -1.70139477,  0.85293828,  1.29076431,\n",
       "        -0.13061859, -0.77660898, -0.27700714, -1.03408102,  0.61926397,\n",
       "        -0.48151719,  0.99862722, -0.36219073, -0.88436753,  0.20077029,\n",
       "         1.63814099, -0.68671672,  0.2952539 ,  0.30025955, -0.27347104,\n",
       "        -0.38520462, -0.89068656,  0.31211113, -0.09370211,  1.75408351,\n",
       "        -1.18613457, -0.77680962, -0.75914733,  0.76586202, -1.1411583 ])}"
      ]
     },
     "execution_count": 46,
     "metadata": {},
     "output_type": "execute_result"
    }
   ],
   "source": [
    "data = {'Random Integer': random_data_integer, 'Random Float': random_data_float}\n",
    "data"
   ]
  },
  {
   "cell_type": "markdown",
   "id": "706c62ba",
   "metadata": {},
   "source": [
    "In the dictionary, we now have two lists of numbers. \n",
    "\n",
    "With the `DataFrame` function from pandas (here integrated with the abbreviation `pd`), we can convert the dictionary into a data frame."
   ]
  },
  {
   "cell_type": "code",
   "execution_count": 47,
   "id": "c457c5a9",
   "metadata": {},
   "outputs": [
    {
     "data": {
      "text/html": [
       "<div>\n",
       "<style scoped>\n",
       "    .dataframe tbody tr th:only-of-type {\n",
       "        vertical-align: middle;\n",
       "    }\n",
       "\n",
       "    .dataframe tbody tr th {\n",
       "        vertical-align: top;\n",
       "    }\n",
       "\n",
       "    .dataframe thead th {\n",
       "        text-align: right;\n",
       "    }\n",
       "</style>\n",
       "<table border=\"1\" class=\"dataframe\">\n",
       "  <thead>\n",
       "    <tr style=\"text-align: right;\">\n",
       "      <th></th>\n",
       "      <th>Random Integer</th>\n",
       "      <th>Random Float</th>\n",
       "    </tr>\n",
       "  </thead>\n",
       "  <tbody>\n",
       "    <tr>\n",
       "      <th>0</th>\n",
       "      <td>90</td>\n",
       "      <td>-0.385837</td>\n",
       "    </tr>\n",
       "    <tr>\n",
       "      <th>1</th>\n",
       "      <td>5</td>\n",
       "      <td>1.146153</td>\n",
       "    </tr>\n",
       "    <tr>\n",
       "      <th>2</th>\n",
       "      <td>66</td>\n",
       "      <td>1.096592</td>\n",
       "    </tr>\n",
       "    <tr>\n",
       "      <th>3</th>\n",
       "      <td>8</td>\n",
       "      <td>-1.382547</td>\n",
       "    </tr>\n",
       "    <tr>\n",
       "      <th>4</th>\n",
       "      <td>22</td>\n",
       "      <td>0.629565</td>\n",
       "    </tr>\n",
       "    <tr>\n",
       "      <th>...</th>\n",
       "      <td>...</td>\n",
       "      <td>...</td>\n",
       "    </tr>\n",
       "    <tr>\n",
       "      <th>95</th>\n",
       "      <td>75</td>\n",
       "      <td>-1.186135</td>\n",
       "    </tr>\n",
       "    <tr>\n",
       "      <th>96</th>\n",
       "      <td>50</td>\n",
       "      <td>-0.776810</td>\n",
       "    </tr>\n",
       "    <tr>\n",
       "      <th>97</th>\n",
       "      <td>33</td>\n",
       "      <td>-0.759147</td>\n",
       "    </tr>\n",
       "    <tr>\n",
       "      <th>98</th>\n",
       "      <td>17</td>\n",
       "      <td>0.765862</td>\n",
       "    </tr>\n",
       "    <tr>\n",
       "      <th>99</th>\n",
       "      <td>78</td>\n",
       "      <td>-1.141158</td>\n",
       "    </tr>\n",
       "  </tbody>\n",
       "</table>\n",
       "<p>100 rows × 2 columns</p>\n",
       "</div>"
      ],
      "text/plain": [
       "    Random Integer  Random Float\n",
       "0               90     -0.385837\n",
       "1                5      1.146153\n",
       "2               66      1.096592\n",
       "3                8     -1.382547\n",
       "4               22      0.629565\n",
       "..             ...           ...\n",
       "95              75     -1.186135\n",
       "96              50     -0.776810\n",
       "97              33     -0.759147\n",
       "98              17      0.765862\n",
       "99              78     -1.141158\n",
       "\n",
       "[100 rows x 2 columns]"
      ]
     },
     "execution_count": 47,
     "metadata": {},
     "output_type": "execute_result"
    }
   ],
   "source": [
    "df = pd.DataFrame(data)\n",
    "df"
   ]
  },
  {
   "cell_type": "markdown",
   "id": "1fdf85fd",
   "metadata": {},
   "source": [
    "In the output here, we can now see the tabular structure of the data frame. \n",
    "\n",
    "In addition, pandas include multiple functions that can be directly applied to a data frame:\n",
    "\n",
    "`info()` returns a quick summary of the values with essential information that is included in the data frame. \n",
    "\n",
    "`corr()` returns a correlation matrix that informs about the similarities between variables (i.e., a high correlation r > .8 would indicate that two variables would be highly similar; an r around zero would indicate low similarity). "
   ]
  },
  {
   "cell_type": "code",
   "execution_count": 48,
   "id": "e31199ad",
   "metadata": {},
   "outputs": [
    {
     "name": "stdout",
     "output_type": "stream",
     "text": [
      "<class 'pandas.core.frame.DataFrame'>\n",
      "RangeIndex: 100 entries, 0 to 99\n",
      "Data columns (total 2 columns):\n",
      " #   Column          Non-Null Count  Dtype  \n",
      "---  ------          --------------  -----  \n",
      " 0   Random Integer  100 non-null    int64  \n",
      " 1   Random Float    100 non-null    float64\n",
      "dtypes: float64(1), int64(1)\n",
      "memory usage: 1.7 KB\n"
     ]
    }
   ],
   "source": [
    "df.info()"
   ]
  },
  {
   "cell_type": "code",
   "execution_count": 49,
   "id": "0f638d3f",
   "metadata": {},
   "outputs": [
    {
     "data": {
      "text/html": [
       "<div>\n",
       "<style scoped>\n",
       "    .dataframe tbody tr th:only-of-type {\n",
       "        vertical-align: middle;\n",
       "    }\n",
       "\n",
       "    .dataframe tbody tr th {\n",
       "        vertical-align: top;\n",
       "    }\n",
       "\n",
       "    .dataframe thead th {\n",
       "        text-align: right;\n",
       "    }\n",
       "</style>\n",
       "<table border=\"1\" class=\"dataframe\">\n",
       "  <thead>\n",
       "    <tr style=\"text-align: right;\">\n",
       "      <th></th>\n",
       "      <th>Random Integer</th>\n",
       "      <th>Random Float</th>\n",
       "    </tr>\n",
       "  </thead>\n",
       "  <tbody>\n",
       "    <tr>\n",
       "      <th>Random Integer</th>\n",
       "      <td>1.000000</td>\n",
       "      <td>-0.038313</td>\n",
       "    </tr>\n",
       "    <tr>\n",
       "      <th>Random Float</th>\n",
       "      <td>-0.038313</td>\n",
       "      <td>1.000000</td>\n",
       "    </tr>\n",
       "  </tbody>\n",
       "</table>\n",
       "</div>"
      ],
      "text/plain": [
       "                Random Integer  Random Float\n",
       "Random Integer        1.000000     -0.038313\n",
       "Random Float         -0.038313      1.000000"
      ]
     },
     "execution_count": 49,
     "metadata": {},
     "output_type": "execute_result"
    }
   ],
   "source": [
    "df.corr()"
   ]
  },
  {
   "cell_type": "markdown",
   "id": "f4f50b75",
   "metadata": {},
   "source": [
    "**Exercise**: Create a data frame with at least three columns. "
   ]
  },
  {
   "cell_type": "code",
   "execution_count": null,
   "id": "bcb579e7",
   "metadata": {},
   "outputs": [],
   "source": []
  },
  {
   "cell_type": "markdown",
   "id": "1f67b2b7",
   "metadata": {},
   "source": [
    "**Data handling**\n",
    "\n",
    "Typically, a dataset is stored in a file. For example, one can export and store an excel sheet in a `.csv` file (CSV: comma-separated file). Similarly, we can store our data frame `df` in a `.csv` file with the `to_csv` function. "
   ]
  },
  {
   "cell_type": "code",
   "execution_count": 50,
   "id": "73b886e1",
   "metadata": {},
   "outputs": [],
   "source": [
    "df.to_csv(\"./datasets/data.csv\", index=False)"
   ]
  },
  {
   "cell_type": "markdown",
   "id": "c97a47cf",
   "metadata": {},
   "source": [
    "Now a new file (`data.csv`) is stored in the `./dataset/` folder that includes all values from the data frame. \n",
    "\n",
    "With the `read_csv()` function, one can load the file again and store it directly in a data frame. "
   ]
  },
  {
   "cell_type": "code",
   "execution_count": 51,
   "id": "082c40be",
   "metadata": {},
   "outputs": [
    {
     "data": {
      "text/html": [
       "<div>\n",
       "<style scoped>\n",
       "    .dataframe tbody tr th:only-of-type {\n",
       "        vertical-align: middle;\n",
       "    }\n",
       "\n",
       "    .dataframe tbody tr th {\n",
       "        vertical-align: top;\n",
       "    }\n",
       "\n",
       "    .dataframe thead th {\n",
       "        text-align: right;\n",
       "    }\n",
       "</style>\n",
       "<table border=\"1\" class=\"dataframe\">\n",
       "  <thead>\n",
       "    <tr style=\"text-align: right;\">\n",
       "      <th></th>\n",
       "      <th>Random Integer</th>\n",
       "      <th>Random Float</th>\n",
       "    </tr>\n",
       "  </thead>\n",
       "  <tbody>\n",
       "    <tr>\n",
       "      <th>0</th>\n",
       "      <td>90</td>\n",
       "      <td>-0.385837</td>\n",
       "    </tr>\n",
       "    <tr>\n",
       "      <th>1</th>\n",
       "      <td>5</td>\n",
       "      <td>1.146153</td>\n",
       "    </tr>\n",
       "    <tr>\n",
       "      <th>2</th>\n",
       "      <td>66</td>\n",
       "      <td>1.096592</td>\n",
       "    </tr>\n",
       "    <tr>\n",
       "      <th>3</th>\n",
       "      <td>8</td>\n",
       "      <td>-1.382547</td>\n",
       "    </tr>\n",
       "    <tr>\n",
       "      <th>4</th>\n",
       "      <td>22</td>\n",
       "      <td>0.629565</td>\n",
       "    </tr>\n",
       "    <tr>\n",
       "      <th>...</th>\n",
       "      <td>...</td>\n",
       "      <td>...</td>\n",
       "    </tr>\n",
       "    <tr>\n",
       "      <th>95</th>\n",
       "      <td>75</td>\n",
       "      <td>-1.186135</td>\n",
       "    </tr>\n",
       "    <tr>\n",
       "      <th>96</th>\n",
       "      <td>50</td>\n",
       "      <td>-0.776810</td>\n",
       "    </tr>\n",
       "    <tr>\n",
       "      <th>97</th>\n",
       "      <td>33</td>\n",
       "      <td>-0.759147</td>\n",
       "    </tr>\n",
       "    <tr>\n",
       "      <th>98</th>\n",
       "      <td>17</td>\n",
       "      <td>0.765862</td>\n",
       "    </tr>\n",
       "    <tr>\n",
       "      <th>99</th>\n",
       "      <td>78</td>\n",
       "      <td>-1.141158</td>\n",
       "    </tr>\n",
       "  </tbody>\n",
       "</table>\n",
       "<p>100 rows × 2 columns</p>\n",
       "</div>"
      ],
      "text/plain": [
       "    Random Integer  Random Float\n",
       "0               90     -0.385837\n",
       "1                5      1.146153\n",
       "2               66      1.096592\n",
       "3                8     -1.382547\n",
       "4               22      0.629565\n",
       "..             ...           ...\n",
       "95              75     -1.186135\n",
       "96              50     -0.776810\n",
       "97              33     -0.759147\n",
       "98              17      0.765862\n",
       "99              78     -1.141158\n",
       "\n",
       "[100 rows x 2 columns]"
      ]
     },
     "execution_count": 51,
     "metadata": {},
     "output_type": "execute_result"
    }
   ],
   "source": [
    "df_read_from_file = pd.read_csv(\"./datasets/data.csv\")\n",
    "df_read_from_file"
   ]
  },
  {
   "cell_type": "markdown",
   "id": "9c01228f",
   "metadata": {},
   "source": [
    "**Exercise**: Store your new dataframe in the file `new_random_data.csv` and load it again."
   ]
  },
  {
   "cell_type": "code",
   "execution_count": null,
   "id": "1928c628",
   "metadata": {},
   "outputs": [],
   "source": []
  }
 ],
 "metadata": {
  "kernelspec": {
   "display_name": "Python 3 (ipykernel)",
   "language": "python",
   "name": "python3"
  },
  "language_info": {
   "codemirror_mode": {
    "name": "ipython",
    "version": 3
   },
   "file_extension": ".py",
   "mimetype": "text/x-python",
   "name": "python",
   "nbconvert_exporter": "python",
   "pygments_lexer": "ipython3",
   "version": "3.9.12"
  }
 },
 "nbformat": 4,
 "nbformat_minor": 5
}
