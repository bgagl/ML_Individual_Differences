{
 "cells": [
  {
   "cell_type": "markdown",
   "id": "e4070659",
   "metadata": {},
   "source": [
    "# Machine learning to measure individual differences"
   ]
  },
  {
   "cell_type": "markdown",
   "id": "b387ce53",
   "metadata": {},
   "source": [
    "`Benjamin Gagl`\n",
    "Assistant Professor for Self Learning Systems in Special Education and Rehabilitation\n",
    "\n",
    "Research interests: Neuro-cognitive processes in reading, research methodology\n",
    "\n",
    "Methods: Computational models, data science, statistics\n",
    "\n",
    "Find all papers [here](https://scholar.google.com/citations?user=BPOtkHgAAAAJ&hl=en)\n",
    "\n",
    "News, views, etc.: [@bg@scolar.social (Mastodon)](https://scholar.social/@bg), [@GaglBenjamin (Twitter)](https://twitter.com/GaglBenjamin) & [LinkedIn](https://www.linkedin.com/in/benjamin-gagl-11502a173/) \n",
    "\n",
    "[Homepage UNDER CONSTRUCTION](https://www.hf.uni-koeln.de/42130)\n"
   ]
  },
  {
   "cell_type": "markdown",
   "id": "44bbebc9",
   "metadata": {},
   "source": [
    "**Block 1: 13/14.1.2022 (14:00-19:00/9:00-12:00) @ 213 PC-Pool 0.M01**\n",
    "\n",
    "**Block 2: 20/21.1.2022 (14:00-19:00/9:00-12:00) @ 213 PC-Pool 0.M01**\n",
    "\n",
    "Topics\n",
    "\n",
    "- Introduction into python\n",
    " - Basic operations\n",
    " - Pandas Dataframes\n",
    "- Simple visualizations in python\n",
    "- Machine learning basics\n",
    " \n",
    " - Prediction\n",
    " \n",
    " - Bias-Variance Tradeoff\n",
    " - Metrics\n",
    " - Cross Validation\n",
    " \n",
    " - Categorization\n",
    " - Regressions\n",
    " - Clustering\n",
    " - Dimentionality reduction\n",
    " \n",
    " \n",
    " [MURAL Board](https://app.mural.co/invitation/mural/departmentfurheilpadagogikun3155/1673347845627?sender=u05d01777b6ede08cfcf85088&key=ed51c707-aca0-4157-9273-e10e98709665)"
   ]
  }
 ],
 "metadata": {
  "kernelspec": {
   "display_name": "Python 3 (ipykernel)",
   "language": "python",
   "name": "python3"
  },
  "language_info": {
   "codemirror_mode": {
    "name": "ipython",
    "version": 3
   },
   "file_extension": ".py",
   "mimetype": "text/x-python",
   "name": "python",
   "nbconvert_exporter": "python",
   "pygments_lexer": "ipython3",
   "version": "3.9.12"
  }
 },
 "nbformat": 4,
 "nbformat_minor": 5
}
