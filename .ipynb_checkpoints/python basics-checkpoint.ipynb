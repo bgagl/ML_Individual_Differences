{
 "cells": [
  {
   "cell_type": "markdown",
   "id": "6dbd9087",
   "metadata": {},
   "source": [
    "# Introduction into python"
   ]
  },
  {
   "cell_type": "markdown",
   "id": "487f85a1",
   "metadata": {},
   "source": [
    "Python is a programming language that is optimal for data science and machine learning.\n",
    "For detailed information start [here](https://en.wikipedia.org/wiki/Python_(programming_language)).\n",
    "\n",
    "\n",
    "One can implement simple tasks like in a pocket calcultor but also very complex task like machine learning. Still we can use notebooks like these to run python code in a clear way. "
   ]
  },
  {
   "cell_type": "markdown",
   "id": "589d4f78",
   "metadata": {},
   "source": [
    "Let's start with some simple operations.\n",
    "\n",
    "Standards Operators like one would use in a pocket calculator\n",
    "\n",
    "* Addition: `+`\n",
    "\n",
    "* Subtraction: `-`\n",
    "\n",
    "* Multiplication: `*`\n",
    "\n",
    "* Division: `/`\n",
    "\n",
    "* Exponentiation: `**`\n"
   ]
  },
  {
   "cell_type": "code",
   "execution_count": 1,
   "id": "22e5141b",
   "metadata": {},
   "outputs": [
    {
     "data": {
      "text/plain": [
       "4"
      ]
     },
     "execution_count": 1,
     "metadata": {},
     "output_type": "execute_result"
    }
   ],
   "source": [
    "1+3"
   ]
  },
  {
   "cell_type": "code",
   "execution_count": 2,
   "id": "e27cf312",
   "metadata": {},
   "outputs": [
    {
     "data": {
      "text/plain": [
       "-1"
      ]
     },
     "execution_count": 2,
     "metadata": {},
     "output_type": "execute_result"
    }
   ],
   "source": [
    "8-9"
   ]
  },
  {
   "cell_type": "code",
   "execution_count": 3,
   "id": "13d8b655",
   "metadata": {},
   "outputs": [
    {
     "data": {
      "text/plain": [
       "72"
      ]
     },
     "execution_count": 3,
     "metadata": {},
     "output_type": "execute_result"
    }
   ],
   "source": [
    "8*9"
   ]
  },
  {
   "cell_type": "code",
   "execution_count": 5,
   "id": "68daab4a",
   "metadata": {},
   "outputs": [
    {
     "data": {
      "text/plain": [
       "36"
      ]
     },
     "execution_count": 5,
     "metadata": {},
     "output_type": "execute_result"
    }
   ],
   "source": [
    "6**2"
   ]
  },
  {
   "cell_type": "code",
   "execution_count": 7,
   "id": "238fba46",
   "metadata": {},
   "outputs": [
    {
     "data": {
      "text/plain": [
       "95"
      ]
     },
     "execution_count": 7,
     "metadata": {},
     "output_type": "execute_result"
    }
   ],
   "source": [
    "6**2+59"
   ]
  },
  {
   "cell_type": "markdown",
   "id": "b59516c9",
   "metadata": {},
   "source": [
    "Think of an calculation and write the operation in the cell below. "
   ]
  },
  {
   "cell_type": "code",
   "execution_count": null,
   "id": "9a481d5b",
   "metadata": {},
   "outputs": [],
   "source": []
  },
  {
   "cell_type": "markdown",
   "id": "a75e3c52",
   "metadata": {},
   "source": [
    "More complex operations can be implemented in so-called **functions**."
   ]
  },
  {
   "cell_type": "code",
   "execution_count": null,
   "id": "c9b443d8",
   "metadata": {},
   "outputs": [],
   "source": []
  }
 ],
 "metadata": {
  "kernelspec": {
   "display_name": "Python 3 (ipykernel)",
   "language": "python",
   "name": "python3"
  },
  "language_info": {
   "codemirror_mode": {
    "name": "ipython",
    "version": 3
   },
   "file_extension": ".py",
   "mimetype": "text/x-python",
   "name": "python",
   "nbconvert_exporter": "python",
   "pygments_lexer": "ipython3",
   "version": "3.9.12"
  }
 },
 "nbformat": 4,
 "nbformat_minor": 5
}
