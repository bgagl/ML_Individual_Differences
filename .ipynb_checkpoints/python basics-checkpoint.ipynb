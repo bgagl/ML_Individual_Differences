{
 "cells": [
  {
   "cell_type": "markdown",
   "id": "c2a2c535",
   "metadata": {},
   "source": [
    "# Introduction into python"
   ]
  },
  {
   "cell_type": "markdown",
   "id": "675b9a8b",
   "metadata": {},
   "source": [
    "Python is a programming language that is optimal for data science and machine learning.\n",
    "For detailed information start [here](https://en.wikipedia.org/wiki/Python_(programming_language)).\n",
    "\n",
    "\n",
    "One can implement simple tasks like in a pocket calcultor but also very complex task like machine learning. Still we can use notebooks like these to run python code in a clear way. "
   ]
  },
  {
   "cell_type": "markdown",
   "id": "85ed48b9",
   "metadata": {},
   "source": [
    "Let's start with some simple operations.\n",
    "\n",
    "**Standards Operators** like one would use in a pocket calculator\n",
    "\n",
    "* Addition: `+`\n",
    "\n",
    "* Subtraction: `-`\n",
    "\n",
    "* Multiplication: `*`\n",
    "\n",
    "* Division: `/`\n",
    "\n",
    "* Exponentiation: `**`\n"
   ]
  },
  {
   "cell_type": "code",
   "execution_count": 69,
   "id": "bf8b2336",
   "metadata": {},
   "outputs": [
    {
     "data": {
      "text/plain": [
       "4"
      ]
     },
     "execution_count": 69,
     "metadata": {},
     "output_type": "execute_result"
    }
   ],
   "source": [
    "1+3"
   ]
  },
  {
   "cell_type": "code",
   "execution_count": 70,
   "id": "94489930",
   "metadata": {},
   "outputs": [
    {
     "data": {
      "text/plain": [
       "-1"
      ]
     },
     "execution_count": 70,
     "metadata": {},
     "output_type": "execute_result"
    }
   ],
   "source": [
    "8-9"
   ]
  },
  {
   "cell_type": "code",
   "execution_count": 71,
   "id": "7cb57979",
   "metadata": {},
   "outputs": [
    {
     "data": {
      "text/plain": [
       "72"
      ]
     },
     "execution_count": 71,
     "metadata": {},
     "output_type": "execute_result"
    }
   ],
   "source": [
    "8*9"
   ]
  },
  {
   "cell_type": "code",
   "execution_count": 72,
   "id": "22f8a57d",
   "metadata": {},
   "outputs": [
    {
     "data": {
      "text/plain": [
       "36"
      ]
     },
     "execution_count": 72,
     "metadata": {},
     "output_type": "execute_result"
    }
   ],
   "source": [
    "6**2"
   ]
  },
  {
   "cell_type": "code",
   "execution_count": 73,
   "id": "5d709a3c",
   "metadata": {},
   "outputs": [
    {
     "data": {
      "text/plain": [
       "95"
      ]
     },
     "execution_count": 73,
     "metadata": {},
     "output_type": "execute_result"
    }
   ],
   "source": [
    "6**2+59"
   ]
  },
  {
   "cell_type": "markdown",
   "id": "77f08962",
   "metadata": {},
   "source": [
    "**Exercise**: Think of an calculation and write the operation in the cell below. "
   ]
  },
  {
   "cell_type": "code",
   "execution_count": null,
   "id": "58312476",
   "metadata": {},
   "outputs": [],
   "source": []
  },
  {
   "cell_type": "markdown",
   "id": "03c2250f",
   "metadata": {},
   "source": [
    "**Functions**\n",
    "\n",
    "Functions allow to combine multiple operations so that more complex processes can be implemented in a clear way. Often functions are part of a library. In the following example, we use the `log` function from the `numpy` library. \n",
    "\n",
    "Later we will define functions ourselfes, where we customize the integrated processes. \n"
   ]
  },
  {
   "cell_type": "code",
   "execution_count": 74,
   "id": "4f8d58d7",
   "metadata": {},
   "outputs": [
    {
     "data": {
      "text/plain": [
       "1.3862943611198906"
      ]
     },
     "execution_count": 74,
     "metadata": {},
     "output_type": "execute_result"
    }
   ],
   "source": [
    "from numpy import log\n",
    "\n",
    "log(4)"
   ]
  },
  {
   "cell_type": "markdown",
   "id": "1d3ebe28",
   "metadata": {},
   "source": [
    "**Variables**\n",
    "\n",
    "Variables can store, numbers, text or more complex structures. Here are two examples. `x` stores a number and `y` stores a text. The `=` sign allows to assign the variable with a piece of information. The print function allows to present the stored information of a variable. "
   ]
  },
  {
   "cell_type": "code",
   "execution_count": 75,
   "id": "22a749c7",
   "metadata": {},
   "outputs": [
    {
     "name": "stdout",
     "output_type": "stream",
     "text": [
      "40\n",
      "Hi!\n",
      "True\n"
     ]
    }
   ],
   "source": [
    "numeric = 40\n",
    "character = \"Hi!\"\n",
    "logical = True\n",
    "\n",
    "print(numeric)\n",
    "print(character)\n",
    "print(logical)"
   ]
  },
  {
   "cell_type": "markdown",
   "id": "9d4bff84",
   "metadata": {},
   "source": [
    "This is powerfull as we also can use the variables to manipulate the values associated."
   ]
  },
  {
   "cell_type": "code",
   "execution_count": 76,
   "id": "03af151a",
   "metadata": {},
   "outputs": [
    {
     "data": {
      "text/plain": [
       "45"
      ]
     },
     "execution_count": 76,
     "metadata": {},
     "output_type": "execute_result"
    }
   ],
   "source": [
    "x = numeric\n",
    "x+5"
   ]
  },
  {
   "cell_type": "code",
   "execution_count": 77,
   "id": "9c3aafe5",
   "metadata": {},
   "outputs": [
    {
     "data": {
      "text/plain": [
       "50"
      ]
     },
     "execution_count": 77,
     "metadata": {},
     "output_type": "execute_result"
    }
   ],
   "source": [
    "z = 10\n",
    "x+z"
   ]
  },
  {
   "cell_type": "markdown",
   "id": "627979f1",
   "metadata": {},
   "source": [
    "Critical here is to remember which type of information is stored in the variable. E.g., for obvious reasions `x+y` will lead to an error message. But `'x'+y` will actually work. Critical difference here is that with the hiphan indicators we do not use the varible named `x` but the character x and extend the information stored in `y` with this additional character.  "
   ]
  },
  {
   "cell_type": "code",
   "execution_count": 78,
   "id": "84ee8c24",
   "metadata": {},
   "outputs": [
    {
     "data": {
      "text/plain": [
       "'xHi!'"
      ]
     },
     "execution_count": 78,
     "metadata": {},
     "output_type": "execute_result"
    }
   ],
   "source": [
    "'x'+character"
   ]
  },
  {
   "cell_type": "markdown",
   "id": "3cd26397",
   "metadata": {},
   "source": [
    "With the `type()` function one can identify the type of the information stored in the variable."
   ]
  },
  {
   "cell_type": "code",
   "execution_count": 79,
   "id": "f298d9f5",
   "metadata": {},
   "outputs": [
    {
     "data": {
      "text/plain": [
       "int"
      ]
     },
     "execution_count": 79,
     "metadata": {},
     "output_type": "execute_result"
    }
   ],
   "source": [
    "type(x)"
   ]
  },
  {
   "cell_type": "markdown",
   "id": "957c871c",
   "metadata": {},
   "source": [
    "`int` indicates that in `x` an integer is stored (i.e., number without decimals). "
   ]
  },
  {
   "cell_type": "code",
   "execution_count": 80,
   "id": "3cd7cd5c",
   "metadata": {},
   "outputs": [
    {
     "data": {
      "text/plain": [
       "float"
      ]
     },
     "execution_count": 80,
     "metadata": {},
     "output_type": "execute_result"
    }
   ],
   "source": [
    "type(x+0.1)"
   ]
  },
  {
   "cell_type": "markdown",
   "id": "771e75da",
   "metadata": {},
   "source": [
    "`float` indicates that stored information is a number with decimals. "
   ]
  },
  {
   "cell_type": "code",
   "execution_count": 81,
   "id": "92e62555",
   "metadata": {},
   "outputs": [
    {
     "data": {
      "text/plain": [
       "str"
      ]
     },
     "execution_count": 81,
     "metadata": {},
     "output_type": "execute_result"
    }
   ],
   "source": [
    "type(character)"
   ]
  },
  {
   "cell_type": "code",
   "execution_count": 82,
   "id": "30f5b329",
   "metadata": {},
   "outputs": [
    {
     "data": {
      "text/plain": [
       "bool"
      ]
     },
     "execution_count": 82,
     "metadata": {},
     "output_type": "execute_result"
    }
   ],
   "source": [
    "type(logical)"
   ]
  },
  {
   "cell_type": "markdown",
   "id": "1eb8f087",
   "metadata": {},
   "source": [
    "**Exercise**: Define two variables and manipulate them. "
   ]
  },
  {
   "cell_type": "code",
   "execution_count": null,
   "id": "4a9b1070",
   "metadata": {},
   "outputs": [],
   "source": []
  },
  {
   "cell_type": "markdown",
   "id": "742416d8",
   "metadata": {},
   "source": [
    "**Comparison operators**:\n",
    "\n",
    "* `<`  for less than\n",
    "\n",
    "* `>`  for greater than\n",
    "\n",
    "* `<=` for less than or equal to\n",
    "\n",
    "* `>=` for greater than or equal to\n",
    "\n",
    "* `==` for equal to each other\n",
    "\n",
    "* `!=` not equal to each other"
   ]
  },
  {
   "cell_type": "code",
   "execution_count": 83,
   "id": "ff3bc9c0",
   "metadata": {},
   "outputs": [
    {
     "name": "stdout",
     "output_type": "stream",
     "text": [
      "False\n",
      "True\n"
     ]
    }
   ],
   "source": [
    "print(x==y)\n",
    "print(x>z)"
   ]
  },
  {
   "cell_type": "markdown",
   "id": "7d3f96ab",
   "metadata": {},
   "source": [
    "The result of a comparison is always a logical value (`True` or `False`)"
   ]
  },
  {
   "cell_type": "markdown",
   "id": "bd8178ae",
   "metadata": {},
   "source": [
    "**`if`, `else` statements** \n",
    "\n",
    "These statements are used to differentiate between values on the basis of comparison operators. \n",
    "\n",
    "`if` indicates that if some statement is `True` then do something.  \n"
   ]
  },
  {
   "cell_type": "code",
   "execution_count": 84,
   "id": "78a9a613",
   "metadata": {},
   "outputs": [
    {
     "name": "stdout",
     "output_type": "stream",
     "text": [
      "x is greater than z\n"
     ]
    }
   ],
   "source": [
    "if x > z:\n",
    "    print (\"x is greater than z\")"
   ]
  },
  {
   "cell_type": "markdown",
   "id": "00b9d1bf",
   "metadata": {},
   "source": [
    "With the `else` statement all possible alternatives are covered. In our case all situations in which `x < z`. In the next example we have this situation. "
   ]
  },
  {
   "cell_type": "code",
   "execution_count": 85,
   "id": "5dafe523",
   "metadata": {},
   "outputs": [],
   "source": [
    "z = z+x"
   ]
  },
  {
   "cell_type": "code",
   "execution_count": 86,
   "id": "18acbd09",
   "metadata": {},
   "outputs": [
    {
     "name": "stdout",
     "output_type": "stream",
     "text": [
      "z is greater than x\n"
     ]
    }
   ],
   "source": [
    "if x > z:\n",
    "    print (\"x is greater than z\")\n",
    "else:\n",
    "    print (\"z is greater than x\")    "
   ]
  },
  {
   "cell_type": "markdown",
   "id": "1feb4ebb",
   "metadata": {},
   "source": [
    "More specific statements can be achived by `elif` which means else if that allows to specify additional cases."
   ]
  },
  {
   "cell_type": "code",
   "execution_count": 87,
   "id": "631ebff0",
   "metadata": {},
   "outputs": [
    {
     "name": "stdout",
     "output_type": "stream",
     "text": [
      "z is greater than x\n"
     ]
    }
   ],
   "source": [
    "if x > z:\n",
    "    print (\"x is greater than z\")\n",
    "elif z == x+50:\n",
    "    print (\"z is equal to x plus 50\")\n",
    "else:\n",
    "    print (\"z is greater than x\")  "
   ]
  },
  {
   "cell_type": "markdown",
   "id": "1a0432db",
   "metadata": {},
   "source": [
    "**Exercise**: Define a new variable and use a `if/else` statement to define if it is larger or smaller than z."
   ]
  },
  {
   "cell_type": "code",
   "execution_count": null,
   "id": "a6cfc872",
   "metadata": {},
   "outputs": [],
   "source": []
  },
  {
   "cell_type": "markdown",
   "id": "3c0547b3",
   "metadata": {},
   "source": [
    "**Variables that include multiple items**: \n",
    "\n",
    "One can store multiple pieces of information in one variable."
   ]
  },
  {
   "cell_type": "code",
   "execution_count": 88,
   "id": "c9693e9d",
   "metadata": {},
   "outputs": [
    {
     "data": {
      "text/plain": [
       "[40, 50]"
      ]
     },
     "execution_count": 88,
     "metadata": {},
     "output_type": "execute_result"
    }
   ],
   "source": [
    "l = [x,z]\n",
    "l"
   ]
  },
  {
   "cell_type": "code",
   "execution_count": 89,
   "id": "40ef0ed0",
   "metadata": {},
   "outputs": [
    {
     "data": {
      "text/plain": [
       "[40, 50, 50, 18]"
      ]
     },
     "execution_count": 89,
     "metadata": {},
     "output_type": "execute_result"
    }
   ],
   "source": [
    "l_2 = [x,z,50,18]\n",
    "l_2"
   ]
  },
  {
   "cell_type": "code",
   "execution_count": 90,
   "id": "0270cb7e",
   "metadata": {},
   "outputs": [
    {
     "data": {
      "text/plain": [
       "['x', 'z', 50, 78]"
      ]
     },
     "execution_count": 90,
     "metadata": {},
     "output_type": "execute_result"
    }
   ],
   "source": [
    "l_3 = [\"x\",\"z\",50,78]\n",
    "l_3"
   ]
  },
  {
   "cell_type": "code",
   "execution_count": 91,
   "id": "5c1aa181",
   "metadata": {},
   "outputs": [
    {
     "data": {
      "text/plain": [
       "['x', 'z', '50', '78']"
      ]
     },
     "execution_count": 91,
     "metadata": {},
     "output_type": "execute_result"
    }
   ],
   "source": [
    "l_4 = [\"x\",\"z\",\"50\",\"78\"]\n",
    "l_4"
   ]
  },
  {
   "cell_type": "markdown",
   "id": "21e3c953",
   "metadata": {},
   "source": [
    "The `len` function can be used to count the number of items of a list."
   ]
  },
  {
   "cell_type": "code",
   "execution_count": 92,
   "id": "ab825ec3",
   "metadata": {},
   "outputs": [
    {
     "data": {
      "text/plain": [
       "2"
      ]
     },
     "execution_count": 92,
     "metadata": {},
     "output_type": "execute_result"
    }
   ],
   "source": [
    "len(l)"
   ]
  },
  {
   "cell_type": "code",
   "execution_count": 93,
   "id": "6f2ca620",
   "metadata": {},
   "outputs": [
    {
     "data": {
      "text/plain": [
       "4"
      ]
     },
     "execution_count": 93,
     "metadata": {},
     "output_type": "execute_result"
    }
   ],
   "source": [
    "len(l_3)"
   ]
  },
  {
   "cell_type": "markdown",
   "id": "0e10af0f",
   "metadata": {},
   "source": [
    "When one wants to select one element out of a list one can use a numeric index."
   ]
  },
  {
   "cell_type": "code",
   "execution_count": 94,
   "id": "db373ce6",
   "metadata": {},
   "outputs": [
    {
     "data": {
      "text/plain": [
       "40"
      ]
     },
     "execution_count": 94,
     "metadata": {},
     "output_type": "execute_result"
    }
   ],
   "source": [
    "l[0]"
   ]
  },
  {
   "cell_type": "code",
   "execution_count": 95,
   "id": "e7187466",
   "metadata": {},
   "outputs": [
    {
     "data": {
      "text/plain": [
       "50"
      ]
     },
     "execution_count": 95,
     "metadata": {},
     "output_type": "execute_result"
    }
   ],
   "source": [
    "l[1]"
   ]
  },
  {
   "cell_type": "markdown",
   "id": "c934bef8",
   "metadata": {},
   "source": [
    "Another way to select specific items of a list would be based on `if/else` statements. Here the word `in` is central.  "
   ]
  },
  {
   "cell_type": "code",
   "execution_count": 96,
   "id": "21a8a91a",
   "metadata": {},
   "outputs": [
    {
     "name": "stdout",
     "output_type": "stream",
     "text": [
      "x is in the list l_2\n"
     ]
    }
   ],
   "source": [
    "if x in l_2:\n",
    "    print (\"x is in the list l_2\")\n",
    "else: \n",
    "    print (\"x is not in the list l_2\")"
   ]
  },
  {
   "cell_type": "code",
   "execution_count": 97,
   "id": "f3ddfd30",
   "metadata": {},
   "outputs": [
    {
     "name": "stdout",
     "output_type": "stream",
     "text": [
      "x is not in the list l_3\n"
     ]
    }
   ],
   "source": [
    "if x in l_3:\n",
    "    print (\"x is in the list l_3\")\n",
    "else: \n",
    "    print (\"x is not in the list l_3\")"
   ]
  },
  {
   "cell_type": "markdown",
   "id": "2ddd7805",
   "metadata": {},
   "source": [
    "**Exercise**: Use a `if/else` statement to check if the value 78 is in `l_2` and `l_4`."
   ]
  },
  {
   "cell_type": "code",
   "execution_count": null,
   "id": "682c1557",
   "metadata": {},
   "outputs": [],
   "source": []
  },
  {
   "cell_type": "markdown",
   "id": "3e87658f",
   "metadata": {},
   "source": [
    "**`for` loop** \n",
    "\n",
    "Loops allow to repeat a process. This can be very helpful at times. In the first example, we take every item of `l_2`, add `10` to the value and print it."
   ]
  },
  {
   "cell_type": "code",
   "execution_count": 98,
   "id": "edc17cd1",
   "metadata": {},
   "outputs": [
    {
     "name": "stdout",
     "output_type": "stream",
     "text": [
      "50\n",
      "60\n",
      "60\n",
      "28\n"
     ]
    }
   ],
   "source": [
    "for value in l_2:\n",
    "    print(value + 10)"
   ]
  },
  {
   "cell_type": "markdown",
   "id": "f91e0596",
   "metadata": {},
   "source": [
    "**Exercise**: Write a loop that prints all values of `l_4` with the words `\"This is a value of l_4:\" `."
   ]
  },
  {
   "cell_type": "code",
   "execution_count": null,
   "id": "3efbe94b",
   "metadata": {},
   "outputs": [],
   "source": []
  }
 ],
 "metadata": {
  "kernelspec": {
   "display_name": "Python 3 (ipykernel)",
   "language": "python",
   "name": "python3"
  },
  "language_info": {
   "codemirror_mode": {
    "name": "ipython",
    "version": 3
   },
   "file_extension": ".py",
   "mimetype": "text/x-python",
   "name": "python",
   "nbconvert_exporter": "python",
   "pygments_lexer": "ipython3",
   "version": "3.9.12"
  }
 },
 "nbformat": 4,
 "nbformat_minor": 5
}
