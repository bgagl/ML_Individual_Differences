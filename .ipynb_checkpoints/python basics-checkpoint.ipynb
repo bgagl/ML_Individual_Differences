{
 "cells": [
  {
   "cell_type": "markdown",
   "id": "f46cbc30",
   "metadata": {},
   "source": [
    "# Introduction into python"
   ]
  },
  {
   "cell_type": "markdown",
   "id": "b88905d8",
   "metadata": {},
   "source": [
    "Python is a programming language that is optimal for data science and machine learning.\n",
    "For detailed information start [here](https://en.wikipedia.org/wiki/Python_(programming_language)).\n",
    "\n",
    "\n",
    "One can implement simple tasks like in a pocket calcultor but also very complex task like machine learning. Still we can use notebooks like these to run python code in a clear way. "
   ]
  },
  {
   "cell_type": "markdown",
   "id": "4e68f56a",
   "metadata": {},
   "source": [
    "Let's start with some simple operations.\n",
    "\n",
    "**Standards Operators** like one would use in a pocket calculator\n",
    "\n",
    "* Addition: `+`\n",
    "\n",
    "* Subtraction: `-`\n",
    "\n",
    "* Multiplication: `*`\n",
    "\n",
    "* Division: `/`\n",
    "\n",
    "* Exponentiation: `**`\n"
   ]
  },
  {
   "cell_type": "code",
   "execution_count": 1,
   "id": "9774caae",
   "metadata": {},
   "outputs": [
    {
     "data": {
      "text/plain": [
       "4"
      ]
     },
     "execution_count": 1,
     "metadata": {},
     "output_type": "execute_result"
    }
   ],
   "source": [
    "1+3"
   ]
  },
  {
   "cell_type": "code",
   "execution_count": 2,
   "id": "e7802b56",
   "metadata": {},
   "outputs": [
    {
     "data": {
      "text/plain": [
       "-1"
      ]
     },
     "execution_count": 2,
     "metadata": {},
     "output_type": "execute_result"
    }
   ],
   "source": [
    "8-9"
   ]
  },
  {
   "cell_type": "code",
   "execution_count": 3,
   "id": "2b700621",
   "metadata": {},
   "outputs": [
    {
     "data": {
      "text/plain": [
       "72"
      ]
     },
     "execution_count": 3,
     "metadata": {},
     "output_type": "execute_result"
    }
   ],
   "source": [
    "8*9"
   ]
  },
  {
   "cell_type": "code",
   "execution_count": 5,
   "id": "d3b134af",
   "metadata": {},
   "outputs": [
    {
     "data": {
      "text/plain": [
       "36"
      ]
     },
     "execution_count": 5,
     "metadata": {},
     "output_type": "execute_result"
    }
   ],
   "source": [
    "6**2"
   ]
  },
  {
   "cell_type": "code",
   "execution_count": 7,
   "id": "3e939696",
   "metadata": {},
   "outputs": [
    {
     "data": {
      "text/plain": [
       "95"
      ]
     },
     "execution_count": 7,
     "metadata": {},
     "output_type": "execute_result"
    }
   ],
   "source": [
    "6**2+59"
   ]
  },
  {
   "cell_type": "markdown",
   "id": "9d4bbeab",
   "metadata": {},
   "source": [
    "**Exercise**: Think of an calculation and write the operation in the cell below. "
   ]
  },
  {
   "cell_type": "code",
   "execution_count": null,
   "id": "6521182e",
   "metadata": {},
   "outputs": [],
   "source": []
  },
  {
   "cell_type": "markdown",
   "id": "bc869b1f",
   "metadata": {},
   "source": [
    "**Functions**\n",
    "\n",
    "Functions allow to combine multiple operations so that more complex processes can be implemented in a clear way. Often functions are part of a library. In the following example, we use the `log` function from the `numpy` library. \n",
    "\n",
    "Later we will define functions ourselfes, where we customize the integrated processes. \n"
   ]
  },
  {
   "cell_type": "code",
   "execution_count": 18,
   "id": "e6a2efb5",
   "metadata": {},
   "outputs": [
    {
     "data": {
      "text/plain": [
       "1.3862943611198906"
      ]
     },
     "execution_count": 18,
     "metadata": {},
     "output_type": "execute_result"
    }
   ],
   "source": [
    "from numpy import log\n",
    "\n",
    "log(4)"
   ]
  },
  {
   "cell_type": "markdown",
   "id": "94299160",
   "metadata": {},
   "source": [
    "**Variables**\n",
    "\n",
    "Variables can store, numbers, text or more complex structures. Here are two examples. `x` stores a number and `y` stores a text. The `=` sign allows to assign the variable with a piece of information. The print function allows to present the stored information of a variable. "
   ]
  },
  {
   "cell_type": "code",
   "execution_count": 27,
   "id": "3a5c4123",
   "metadata": {},
   "outputs": [
    {
     "name": "stdout",
     "output_type": "stream",
     "text": [
      "40\n",
      "Hi!\n",
      "True\n"
     ]
    }
   ],
   "source": [
    "numeric = 40\n",
    "character = \"Hi!\"\n",
    "logical = True\n",
    "\n",
    "print(numeric)\n",
    "print(character)\n",
    "print(logical)"
   ]
  },
  {
   "cell_type": "markdown",
   "id": "9bc8a584",
   "metadata": {},
   "source": [
    "This is powerfull as we also can use the variables to manipulate the values associated."
   ]
  },
  {
   "cell_type": "code",
   "execution_count": 28,
   "id": "fdc8487f",
   "metadata": {},
   "outputs": [
    {
     "data": {
      "text/plain": [
       "45"
      ]
     },
     "execution_count": 28,
     "metadata": {},
     "output_type": "execute_result"
    }
   ],
   "source": [
    "x = numeric\n",
    "x+5"
   ]
  },
  {
   "cell_type": "code",
   "execution_count": 29,
   "id": "88d04d88",
   "metadata": {},
   "outputs": [
    {
     "data": {
      "text/plain": [
       "50"
      ]
     },
     "execution_count": 29,
     "metadata": {},
     "output_type": "execute_result"
    }
   ],
   "source": [
    "z = 10\n",
    "x+z"
   ]
  },
  {
   "cell_type": "markdown",
   "id": "28031642",
   "metadata": {},
   "source": [
    "Critical here is to remember which type of information is stored in the variable. E.g., for obvious reasions `x+y` will lead to an error message. But `'x'+y` will actually work. Critical difference here is that with the hiphan indicators we do not use the varible named `x` but the character x and extend the information stored in `y` with this additional character.  "
   ]
  },
  {
   "cell_type": "code",
   "execution_count": 30,
   "id": "bd3e9a54",
   "metadata": {},
   "outputs": [
    {
     "data": {
      "text/plain": [
       "'xHi!'"
      ]
     },
     "execution_count": 30,
     "metadata": {},
     "output_type": "execute_result"
    }
   ],
   "source": [
    "'x'+character"
   ]
  },
  {
   "cell_type": "markdown",
   "id": "49657e0d",
   "metadata": {},
   "source": [
    "**Exercise**: Define two variables and manipulate them. "
   ]
  },
  {
   "cell_type": "code",
   "execution_count": null,
   "id": "66d3eeda",
   "metadata": {},
   "outputs": [],
   "source": []
  },
  {
   "cell_type": "code",
   "execution_count": 26,
   "id": "a69a3c89",
   "metadata": {},
   "outputs": [
    {
     "data": {
      "text/plain": [
       "False"
      ]
     },
     "execution_count": 26,
     "metadata": {},
     "output_type": "execute_result"
    }
   ],
   "source": [
    "x==y\n"
   ]
  }
 ],
 "metadata": {
  "kernelspec": {
   "display_name": "Python 3 (ipykernel)",
   "language": "python",
   "name": "python3"
  },
  "language_info": {
   "codemirror_mode": {
    "name": "ipython",
    "version": 3
   },
   "file_extension": ".py",
   "mimetype": "text/x-python",
   "name": "python",
   "nbconvert_exporter": "python",
   "pygments_lexer": "ipython3",
   "version": "3.9.12"
  }
 },
 "nbformat": 4,
 "nbformat_minor": 5
}
