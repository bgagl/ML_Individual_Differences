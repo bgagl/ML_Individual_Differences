{
 "cells": [
  {
   "cell_type": "markdown",
   "id": "d970d9f5",
   "metadata": {},
   "source": [
    "# Introduction into python"
   ]
  },
  {
   "cell_type": "markdown",
   "id": "88daf0d2",
   "metadata": {},
   "source": [
    "Python is an optimal programming language for data science and machine learning.\n",
    "For detailed information, start [here](https://en.wikipedia.org/wiki/Python_(programming_language)).\n",
    "\n",
    "\n",
    "One can implement simple tasks like in a pocket calculator but also very complex tasks like machine learning. Still, we can use notebooks like these to run python code transparently. \n",
    "\n",
    "Let's start with some simple operations.\n",
    "\n",
    "**Standards Operators** as one would use in a pocket calculator\n",
    "\n",
    "* Addition: `+`\n",
    "\n",
    "* Subtraction: `-`\n",
    "\n",
    "* Multiplication: `*`\n",
    "\n",
    "* Division: `/`\n",
    "\n",
    "* Exponentiation: `**`\n"
   ]
  },
  {
   "cell_type": "code",
   "execution_count": 99,
   "id": "3fef33b1",
   "metadata": {},
   "outputs": [
    {
     "data": {
      "text/plain": [
       "4"
      ]
     },
     "execution_count": 99,
     "metadata": {},
     "output_type": "execute_result"
    }
   ],
   "source": [
    "1+3"
   ]
  },
  {
   "cell_type": "code",
   "execution_count": 100,
   "id": "1dba6f65",
   "metadata": {},
   "outputs": [
    {
     "data": {
      "text/plain": [
       "-1"
      ]
     },
     "execution_count": 100,
     "metadata": {},
     "output_type": "execute_result"
    }
   ],
   "source": [
    "8-9"
   ]
  },
  {
   "cell_type": "code",
   "execution_count": 101,
   "id": "621a0ea9",
   "metadata": {},
   "outputs": [
    {
     "data": {
      "text/plain": [
       "72"
      ]
     },
     "execution_count": 101,
     "metadata": {},
     "output_type": "execute_result"
    }
   ],
   "source": [
    "8*9"
   ]
  },
  {
   "cell_type": "code",
   "execution_count": 102,
   "id": "d8aa2f23",
   "metadata": {},
   "outputs": [
    {
     "data": {
      "text/plain": [
       "36"
      ]
     },
     "execution_count": 102,
     "metadata": {},
     "output_type": "execute_result"
    }
   ],
   "source": [
    "6**2"
   ]
  },
  {
   "cell_type": "code",
   "execution_count": 103,
   "id": "7fdcdd22",
   "metadata": {},
   "outputs": [
    {
     "data": {
      "text/plain": [
       "95"
      ]
     },
     "execution_count": 103,
     "metadata": {},
     "output_type": "execute_result"
    }
   ],
   "source": [
    "6**2+59"
   ]
  },
  {
   "cell_type": "markdown",
   "id": "4a514a77",
   "metadata": {},
   "source": [
    "**Exercise**: Think of a calculation and write the operation in the cell below. "
   ]
  },
  {
   "cell_type": "code",
   "execution_count": null,
   "id": "ffe7d6ba",
   "metadata": {},
   "outputs": [],
   "source": []
  },
  {
   "cell_type": "markdown",
   "id": "840cd91a",
   "metadata": {},
   "source": [
    "**Functions**\n",
    "\n",
    "Functions allow combining multiple operations so that more complex processes can be implemented clearly. Often functions are part of a library. In the following example, we use the `log` function from the `NumPy` library. \n",
    "\n",
    "Later we will define functions ourselves, where we customize the integrated processes. "
   ]
  },
  {
   "cell_type": "code",
   "execution_count": 104,
   "id": "f9466940",
   "metadata": {},
   "outputs": [
    {
     "data": {
      "text/plain": [
       "1.3862943611198906"
      ]
     },
     "execution_count": 104,
     "metadata": {},
     "output_type": "execute_result"
    }
   ],
   "source": [
    "from numpy import log\n",
    "\n",
    "log(4)"
   ]
  },
  {
   "cell_type": "markdown",
   "id": "1440b5a9",
   "metadata": {},
   "source": [
    "**Variables**\n",
    "\n",
    "Variables can store numbers, text, or more complex structures. Here are two examples. `x` holds a number, and `y` stores a text. The `=` sign allows to assign the variable with a piece of information. The print function allows to present the stored information of a variable. "
   ]
  },
  {
   "cell_type": "code",
   "execution_count": 105,
   "id": "1388c534",
   "metadata": {},
   "outputs": [
    {
     "name": "stdout",
     "output_type": "stream",
     "text": [
      "40\n",
      "Hi!\n",
      "True\n"
     ]
    }
   ],
   "source": [
    "numeric = 40\n",
    "character = \"Hi!\"\n",
    "logical = True\n",
    "\n",
    "print(numeric)\n",
    "print(character)\n",
    "print(logical)"
   ]
  },
  {
   "cell_type": "markdown",
   "id": "6d0162ad",
   "metadata": {},
   "source": [
    "This is powerful as we also can use the variables to manipulate the associated values."
   ]
  },
  {
   "cell_type": "code",
   "execution_count": 106,
   "id": "43010217",
   "metadata": {},
   "outputs": [
    {
     "data": {
      "text/plain": [
       "45"
      ]
     },
     "execution_count": 106,
     "metadata": {},
     "output_type": "execute_result"
    }
   ],
   "source": [
    "x = numeric\n",
    "x+5"
   ]
  },
  {
   "cell_type": "code",
   "execution_count": 107,
   "id": "cf373e00",
   "metadata": {},
   "outputs": [
    {
     "data": {
      "text/plain": [
       "50"
      ]
     },
     "execution_count": 107,
     "metadata": {},
     "output_type": "execute_result"
    }
   ],
   "source": [
    "z = 10\n",
    "x+z"
   ]
  },
  {
   "cell_type": "markdown",
   "id": "151112b8",
   "metadata": {},
   "source": [
    "Critical here is to remember which type of information is stored in the variable. E.g., for apparent reasons, `x+y` will lead to an error message. But `'x'+y` will work. The critical difference here is that with hyphen indicators, we do not use the variable named `x`, but the character x and extend the information stored in `y` with this additional character.  "
   ]
  },
  {
   "cell_type": "code",
   "execution_count": 108,
   "id": "cda36e84",
   "metadata": {},
   "outputs": [
    {
     "data": {
      "text/plain": [
       "'xHi!'"
      ]
     },
     "execution_count": 108,
     "metadata": {},
     "output_type": "execute_result"
    }
   ],
   "source": [
    "'x'+character"
   ]
  },
  {
   "cell_type": "markdown",
   "id": "be9a4491",
   "metadata": {},
   "source": [
    "With the `type()` function, one can identify the type of information stored in the variable."
   ]
  },
  {
   "cell_type": "code",
   "execution_count": 109,
   "id": "6dfb1b5c",
   "metadata": {},
   "outputs": [
    {
     "data": {
      "text/plain": [
       "int"
      ]
     },
     "execution_count": 109,
     "metadata": {},
     "output_type": "execute_result"
    }
   ],
   "source": [
    "type(x)"
   ]
  },
  {
   "cell_type": "markdown",
   "id": "a0b55e80",
   "metadata": {},
   "source": [
    "`int` indicates that in `x` an integer is stored (i.e., the number without decimals). "
   ]
  },
  {
   "cell_type": "code",
   "execution_count": 110,
   "id": "d91cce56",
   "metadata": {},
   "outputs": [
    {
     "data": {
      "text/plain": [
       "float"
      ]
     },
     "execution_count": 110,
     "metadata": {},
     "output_type": "execute_result"
    }
   ],
   "source": [
    "type(x+0.1)"
   ]
  },
  {
   "cell_type": "markdown",
   "id": "5af9e1fd",
   "metadata": {},
   "source": [
    "`float` indicates that stored information is a number with decimals. "
   ]
  },
  {
   "cell_type": "code",
   "execution_count": 111,
   "id": "69a5b50a",
   "metadata": {},
   "outputs": [
    {
     "data": {
      "text/plain": [
       "str"
      ]
     },
     "execution_count": 111,
     "metadata": {},
     "output_type": "execute_result"
    }
   ],
   "source": [
    "type(character)"
   ]
  },
  {
   "cell_type": "code",
   "execution_count": 112,
   "id": "39fd24e7",
   "metadata": {},
   "outputs": [
    {
     "data": {
      "text/plain": [
       "bool"
      ]
     },
     "execution_count": 112,
     "metadata": {},
     "output_type": "execute_result"
    }
   ],
   "source": [
    "type(logical)"
   ]
  },
  {
   "cell_type": "markdown",
   "id": "3ee95494",
   "metadata": {},
   "source": [
    "**Exercise**: Define two variables and manipulate them. "
   ]
  },
  {
   "cell_type": "code",
   "execution_count": null,
   "id": "d41ea187",
   "metadata": {},
   "outputs": [],
   "source": []
  },
  {
   "cell_type": "markdown",
   "id": "7b6e6d12",
   "metadata": {},
   "source": [
    "**Comparison operators**:\n",
    "\n",
    "* `<`  for less than\n",
    "\n",
    "* `>`  for greater than\n",
    "\n",
    "* `<=` for less than or equal to\n",
    "\n",
    "* `>=` for greater than or equal to\n",
    "\n",
    "* `==` for equal to each other\n",
    "\n",
    "* `!=` not equal to each other"
   ]
  },
  {
   "cell_type": "code",
   "execution_count": 113,
   "id": "551797fa",
   "metadata": {},
   "outputs": [
    {
     "name": "stdout",
     "output_type": "stream",
     "text": [
      "False\n",
      "True\n"
     ]
    }
   ],
   "source": [
    "print(x==y)\n",
    "print(x>z)"
   ]
  },
  {
   "cell_type": "markdown",
   "id": "63b641a7",
   "metadata": {},
   "source": [
    "The result of a comparison is always a logical value (`True` or `False`)"
   ]
  },
  {
   "cell_type": "markdown",
   "id": "622d13df",
   "metadata": {},
   "source": [
    "**`if`, `else` statements** \n",
    "\n",
    "These statements are used to differentiate between values based on comparison operators. \n",
    "\n",
    "`if` indicates that if some statement is `True`, then do something.  \n"
   ]
  },
  {
   "cell_type": "code",
   "execution_count": 114,
   "id": "fa422b1f",
   "metadata": {},
   "outputs": [
    {
     "name": "stdout",
     "output_type": "stream",
     "text": [
      "x is greater than z\n"
     ]
    }
   ],
   "source": [
    "if x > z:\n",
    "    print (\"x is greater than z\")"
   ]
  },
  {
   "cell_type": "markdown",
   "id": "b1f82498",
   "metadata": {},
   "source": [
    "With the `else` statement, all possible alternatives are covered. In our case, all situations in which `x < z`. In the following example, we have this situation. "
   ]
  },
  {
   "cell_type": "code",
   "execution_count": 115,
   "id": "52b0de8e",
   "metadata": {},
   "outputs": [],
   "source": [
    "z = z+x"
   ]
  },
  {
   "cell_type": "code",
   "execution_count": 116,
   "id": "7e14f067",
   "metadata": {},
   "outputs": [
    {
     "name": "stdout",
     "output_type": "stream",
     "text": [
      "z is greater than x\n"
     ]
    }
   ],
   "source": [
    "if x > z:\n",
    "    print (\"x is greater than z\")\n",
    "else:\n",
    "    print (\"z is greater than x\")    "
   ]
  },
  {
   "cell_type": "markdown",
   "id": "190fb738",
   "metadata": {},
   "source": [
    "More specific statements can be achieved by `elif`, which means else if that allows specifying additional cases."
   ]
  },
  {
   "cell_type": "code",
   "execution_count": 117,
   "id": "59c5606a",
   "metadata": {},
   "outputs": [
    {
     "name": "stdout",
     "output_type": "stream",
     "text": [
      "z is greater than x\n"
     ]
    }
   ],
   "source": [
    "if x > z:\n",
    "    print (\"x is greater than z\")\n",
    "elif z == x+50:\n",
    "    print (\"z is equal to x plus 50\")\n",
    "else:\n",
    "    print (\"z is greater than x\")  "
   ]
  },
  {
   "cell_type": "markdown",
   "id": "f4c116dd",
   "metadata": {},
   "source": [
    "**Exercise**: Define a new variable and use an `if/else` statement to define if it is larger or smaller than z."
   ]
  },
  {
   "cell_type": "code",
   "execution_count": null,
   "id": "c5a8c2b2",
   "metadata": {},
   "outputs": [],
   "source": []
  },
  {
   "cell_type": "markdown",
   "id": "d9776b1a",
   "metadata": {},
   "source": [
    "**Variables that include multiple items**: \n",
    "\n",
    "One can store multiple pieces of information in one variable."
   ]
  },
  {
   "cell_type": "code",
   "execution_count": 118,
   "id": "1189c9e8",
   "metadata": {},
   "outputs": [
    {
     "data": {
      "text/plain": [
       "[40, 50]"
      ]
     },
     "execution_count": 118,
     "metadata": {},
     "output_type": "execute_result"
    }
   ],
   "source": [
    "l = [x,z]\n",
    "l"
   ]
  },
  {
   "cell_type": "code",
   "execution_count": 119,
   "id": "b4630ee2",
   "metadata": {},
   "outputs": [
    {
     "data": {
      "text/plain": [
       "[40, 50, 50, 18]"
      ]
     },
     "execution_count": 119,
     "metadata": {},
     "output_type": "execute_result"
    }
   ],
   "source": [
    "l_2 = [x,z,50,18]\n",
    "l_2"
   ]
  },
  {
   "cell_type": "code",
   "execution_count": 120,
   "id": "9c12fc89",
   "metadata": {},
   "outputs": [
    {
     "data": {
      "text/plain": [
       "['x', 'z', 50, 78]"
      ]
     },
     "execution_count": 120,
     "metadata": {},
     "output_type": "execute_result"
    }
   ],
   "source": [
    "l_3 = [\"x\",\"z\",50,78]\n",
    "l_3"
   ]
  },
  {
   "cell_type": "code",
   "execution_count": 121,
   "id": "b7e8a47e",
   "metadata": {},
   "outputs": [
    {
     "data": {
      "text/plain": [
       "['x', 'z', '50', '78']"
      ]
     },
     "execution_count": 121,
     "metadata": {},
     "output_type": "execute_result"
    }
   ],
   "source": [
    "l_4 = [\"x\",\"z\",\"50\",\"78\"]\n",
    "l_4"
   ]
  },
  {
   "cell_type": "markdown",
   "id": "16e8ba80",
   "metadata": {},
   "source": [
    "The `len` function can be used to count the number of items of a list."
   ]
  },
  {
   "cell_type": "code",
   "execution_count": 122,
   "id": "2c12a770",
   "metadata": {},
   "outputs": [
    {
     "data": {
      "text/plain": [
       "2"
      ]
     },
     "execution_count": 122,
     "metadata": {},
     "output_type": "execute_result"
    }
   ],
   "source": [
    "len(l)"
   ]
  },
  {
   "cell_type": "code",
   "execution_count": 123,
   "id": "5446d7d1",
   "metadata": {},
   "outputs": [
    {
     "data": {
      "text/plain": [
       "4"
      ]
     },
     "execution_count": 123,
     "metadata": {},
     "output_type": "execute_result"
    }
   ],
   "source": [
    "len(l_3)"
   ]
  },
  {
   "cell_type": "markdown",
   "id": "c7c129e1",
   "metadata": {},
   "source": [
    "When one wants to select one element out of a list, one can use a numeric index."
   ]
  },
  {
   "cell_type": "code",
   "execution_count": 124,
   "id": "420304cd",
   "metadata": {},
   "outputs": [
    {
     "data": {
      "text/plain": [
       "40"
      ]
     },
     "execution_count": 124,
     "metadata": {},
     "output_type": "execute_result"
    }
   ],
   "source": [
    "l[0]"
   ]
  },
  {
   "cell_type": "code",
   "execution_count": 125,
   "id": "f5022644",
   "metadata": {},
   "outputs": [
    {
     "data": {
      "text/plain": [
       "50"
      ]
     },
     "execution_count": 125,
     "metadata": {},
     "output_type": "execute_result"
    }
   ],
   "source": [
    "l[1]"
   ]
  },
  {
   "cell_type": "markdown",
   "id": "c751f985",
   "metadata": {},
   "source": [
    "Another way to select specific items of a list would be based on `if/else` statements. Here the word `in` is central.  "
   ]
  },
  {
   "cell_type": "code",
   "execution_count": 126,
   "id": "496e3125",
   "metadata": {},
   "outputs": [
    {
     "name": "stdout",
     "output_type": "stream",
     "text": [
      "x is in the list l_2\n"
     ]
    }
   ],
   "source": [
    "if x in l_2:\n",
    "    print (\"x is in the list l_2\")\n",
    "else: \n",
    "    print (\"x is not in the list l_2\")"
   ]
  },
  {
   "cell_type": "code",
   "execution_count": 127,
   "id": "69ea7052",
   "metadata": {},
   "outputs": [
    {
     "name": "stdout",
     "output_type": "stream",
     "text": [
      "x is not in the list l_3\n"
     ]
    }
   ],
   "source": [
    "if x in l_3:\n",
    "    print (\"x is in the list l_3\")\n",
    "else: \n",
    "    print (\"x is not in the list l_3\")"
   ]
  },
  {
   "cell_type": "markdown",
   "id": "c3708d8c",
   "metadata": {},
   "source": [
    "**Exercise**: Use a `if/else` statement to check if the value 78 is in `l_2` and `l_4`."
   ]
  },
  {
   "cell_type": "code",
   "execution_count": null,
   "id": "aacce144",
   "metadata": {},
   "outputs": [],
   "source": []
  },
  {
   "cell_type": "markdown",
   "id": "c64ee24a",
   "metadata": {},
   "source": [
    "**`for` loop** \n",
    "\n",
    "Loops allow repeating a process. This can be very helpful at times. In the first example, we take every item of `l_2`, add `10` to the value and print it."
   ]
  },
  {
   "cell_type": "code",
   "execution_count": 128,
   "id": "9b9b2570",
   "metadata": {},
   "outputs": [
    {
     "name": "stdout",
     "output_type": "stream",
     "text": [
      "50\n",
      "60\n",
      "60\n",
      "28\n"
     ]
    }
   ],
   "source": [
    "for value in l_2:\n",
    "    print(value + 10)"
   ]
  },
  {
   "cell_type": "markdown",
   "id": "895ef3cb",
   "metadata": {},
   "source": [
    "**Exercise**: Write a loop that prints all values of `l_4` with the words `\"This is a value of l_4:\" `."
   ]
  },
  {
   "cell_type": "code",
   "execution_count": null,
   "id": "7fea8cc9",
   "metadata": {},
   "outputs": [],
   "source": []
  }
 ],
 "metadata": {
  "kernelspec": {
   "display_name": "Python 3 (ipykernel)",
   "language": "python",
   "name": "python3"
  },
  "language_info": {
   "codemirror_mode": {
    "name": "ipython",
    "version": 3
   },
   "file_extension": ".py",
   "mimetype": "text/x-python",
   "name": "python",
   "nbconvert_exporter": "python",
   "pygments_lexer": "ipython3",
   "version": "3.9.12"
  }
 },
 "nbformat": 4,
 "nbformat_minor": 5
}
