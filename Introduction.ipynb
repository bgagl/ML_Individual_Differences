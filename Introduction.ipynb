{
 "cells": [
  {
   "cell_type": "markdown",
   "id": "e4070659",
   "metadata": {},
   "source": [
    "# Machine learning to measure individual differences"
   ]
  },
  {
   "cell_type": "markdown",
   "id": "b387ce53",
   "metadata": {},
   "source": [
    "`Benjamin Gagl`\n",
    "Assistant Professor for Self Learning Systems in Special Education and Rehabilitation\n",
    "\n",
    "Research interests: Neuro-cognitive processes in reading, research methodology\n",
    "\n",
    "Methods: Computational models, data science, statistics\n",
    "\n",
    "Find all papers [here](https://scholar.google.com/citations?user=BPOtkHgAAAAJ&hl=en)\n",
    "\n",
    "News, views, etc.: [@bg@scolar.social (Mastodon)](https://scholar.social/@bg), [@GaglBenjamin (Twitter)](https://twitter.com/GaglBenjamin) & [LinkedIn](https://www.linkedin.com/in/benjamin-gagl-11502a173/) \n",
    "\n",
    "[Homepage UNDER CONSTRUCTION](https://www.hf.uni-koeln.de/42130)\n"
   ]
  },
  {
   "cell_type": "markdown",
   "id": "44bbebc9",
   "metadata": {},
   "source": [
    "**Block 1: 13/14.1.2022 (14:00-19:00/9:00-12:00) @ 213 PC-Pool 0.M01**\n",
    "\n",
    "**Block 2: 20/21.1.2022 (14:00-19:00/9:00-12:00) @ 213 PC-Pool 0.M01**\n",
    "\n",
    "Topics\n",
    "\n",
    "- Introduction to python\n",
    " - Basic operations\n",
    " - Pandas Dataframes\n",
    " - Visualization in python\n",
    "- Machine learning basics\n",
    " \n",
    " - Prediction\n",
    " \n",
    " - Bias-Variance Tradeoff\n",
    " - Metrics\n",
    " - Cross Validation\n",
    " \n",
    " - Categorization\n",
    " - Regressions\n",
    " - Clustering\n",
    " - Dimensionality reduction\n",
    " \n",
    " \n",
    " [MURAL Board](https://app.mural.co/invitation/mural/departmentfurheilpadagogikun3155/1673347845627?sender=u05d01777b6ede08cfcf85088&key=ed51c707-aca0-4157-9273-e10e98709665)"
   ]
  },
  {
   "cell_type": "markdown",
   "id": "a33c85c9",
   "metadata": {},
   "source": [
    "#### What is machine learning?\n",
    "\n",
    "In machine learning, we develop algorithms and models that enable computers to learn from data without explicitly programming the relation between the model outcome (i.e., a prediction) and the underlying structure of the data. Machine learning models rely on three factors, the number of parameters adapted in training, the amount of training data, and the architecture of the machine learning model. Overall, the main goal of machine learning is to develop models that generalize well to new, unseen data, i.e., the model should be able to make accurate predictions on the training data it was trained on **and new, unseen data**.\n",
    "\n",
    "![alt text](./images/ml_basics.jpg \"Title\")"
   ]
  },
  {
   "cell_type": "markdown",
   "id": "77ffd438",
   "metadata": {},
   "source": [
    "1.    Collect or find a dataset representative of the problem we want to solve. This dataset contains examples of input and output, called \"features\" and \"labels\" respectively.\n",
    "\n",
    "2.    Then, we choose a model architecture appropriate for the problem we are trying to solve.\n",
    "\n",
    "3.    Next, we train the model on the dataset. This is the process of adjusting the model's parameters so that it can accurately predict the output (label) given the input (feature)\n",
    "\n",
    "4.    After the model training, we evaluate its performance on a separate dataset called \"test data\"\n",
    "\n",
    "5.    Once we are satisfied with the model's performance on training and test data, we can use it to make predictions on new unseen data."
   ]
  },
  {
   "cell_type": "markdown",
   "id": "2ee9e96e",
   "metadata": {},
   "source": [
    "There are several aspects to machine learning architecture, like the characteristics of the learning procedure, i.e., supervised, unsupervised, and reinforcement learning.\n",
    "- Supervised learning is training a model using labeled data (e.g., datapoint x has the label \"good student\"; datapoint y has the label \"average student\"), where the comparison to the labels in the data can determine the correct model outcome. The model is then used to make predictions on new, unseen data.\n",
    "- Unsupervised learning is training a model using unlabeled data, where the model is required to find patterns and relationships in the data without the guidance of labeled outcomes.\n",
    "- Reinforcement learning (a term borrowed from animal research) is a type of learning where an agent (i.e., the machine learning model) learns to make decisions by performing actions in an environment and receiving rewards or penalties in return."
   ]
  },
  {
   "cell_type": "markdown",
   "id": "f3753e95",
   "metadata": {},
   "source": [
    "**Machine learning model**\n",
    "\n",
    "- Linear Regression: This is a simple model that can be used for predicting a continuous target variable based on one or more predictor variables.\n",
    "\n",
    "- Logistic Regression: This is similar to linear regression but is used for predicting a binary outcome (e.g., yes or no) based on one or more predictor variables.\n",
    "\n",
    "- Decision Trees: This model can be used for classification and regression tasks and is based on a tree-like structure where each internal node represents a feature of the data, each branch represents a decision, and each leaf node represents a prediction.\n",
    "\n",
    "- Random Forest: An ensemble model which builds multiple decision trees and averages the prediction result.\n",
    "\n",
    "- K-Nearest Neighbors: A instance-based model that can be used for classification and regression tasks. It works by finding the k training examples closest to the test example and using their class labels or target values to make a prediction.\n",
    "\n",
    "- Support Vector Machines (SVMs): A model that can be used for classification and regression tasks. It works by finding the best boundary (or hyperplane) that separates the different classes in the data."
   ]
  },
  {
   "cell_type": "markdown",
   "id": "6ce2159f",
   "metadata": {},
   "source": [
    "**Examples**\n",
    "\n",
    "![alt text](./images/classifier_comparison.jpg \"Title\")\n",
    "\n",
    "https://scikit-learn.org/stable/auto_examples/classification/plot_classifier_comparison.html"
   ]
  }
 ],
 "metadata": {
  "kernelspec": {
   "display_name": "Python 3 (ipykernel)",
   "language": "python",
   "name": "python3"
  },
  "language_info": {
   "codemirror_mode": {
    "name": "ipython",
    "version": 3
   },
   "file_extension": ".py",
   "mimetype": "text/x-python",
   "name": "python",
   "nbconvert_exporter": "python",
   "pygments_lexer": "ipython3",
   "version": "3.9.12"
  }
 },
 "nbformat": 4,
 "nbformat_minor": 5
}
