{
 "cells": [
  {
   "cell_type": "markdown",
   "id": "1a65d0b5",
   "metadata": {},
   "source": [
    "# Introduction into python"
   ]
  },
  {
   "cell_type": "markdown",
   "id": "198b782d",
   "metadata": {},
   "source": [
    "Python is a programming language that is optimal for data science and machine learning.\n",
    "For detailed information start [here](https://en.wikipedia.org/wiki/Python_(programming_language)).\n",
    "\n",
    "\n",
    "One can implement simple tasks like in a pocket calcultor but also very complex task like machine learning. Still we can use notebooks like these to run python code in a clear way. "
   ]
  },
  {
   "cell_type": "markdown",
   "id": "1aa78754",
   "metadata": {},
   "source": [
    "Let's start with some simple operations.\n",
    "\n",
    "**Standards Operators** like one would use in a pocket calculator\n",
    "\n",
    "* Addition: `+`\n",
    "\n",
    "* Subtraction: `-`\n",
    "\n",
    "* Multiplication: `*`\n",
    "\n",
    "* Division: `/`\n",
    "\n",
    "* Exponentiation: `**`\n"
   ]
  },
  {
   "cell_type": "code",
   "execution_count": 1,
   "id": "04274a5b",
   "metadata": {},
   "outputs": [
    {
     "data": {
      "text/plain": [
       "4"
      ]
     },
     "execution_count": 1,
     "metadata": {},
     "output_type": "execute_result"
    }
   ],
   "source": [
    "1+3"
   ]
  },
  {
   "cell_type": "code",
   "execution_count": 2,
   "id": "01dd9e41",
   "metadata": {},
   "outputs": [
    {
     "data": {
      "text/plain": [
       "-1"
      ]
     },
     "execution_count": 2,
     "metadata": {},
     "output_type": "execute_result"
    }
   ],
   "source": [
    "8-9"
   ]
  },
  {
   "cell_type": "code",
   "execution_count": 3,
   "id": "3ccd7a76",
   "metadata": {},
   "outputs": [
    {
     "data": {
      "text/plain": [
       "72"
      ]
     },
     "execution_count": 3,
     "metadata": {},
     "output_type": "execute_result"
    }
   ],
   "source": [
    "8*9"
   ]
  },
  {
   "cell_type": "code",
   "execution_count": 5,
   "id": "0fe252b8",
   "metadata": {},
   "outputs": [
    {
     "data": {
      "text/plain": [
       "36"
      ]
     },
     "execution_count": 5,
     "metadata": {},
     "output_type": "execute_result"
    }
   ],
   "source": [
    "6**2"
   ]
  },
  {
   "cell_type": "code",
   "execution_count": 7,
   "id": "41d58d18",
   "metadata": {},
   "outputs": [
    {
     "data": {
      "text/plain": [
       "95"
      ]
     },
     "execution_count": 7,
     "metadata": {},
     "output_type": "execute_result"
    }
   ],
   "source": [
    "6**2+59"
   ]
  },
  {
   "cell_type": "markdown",
   "id": "cfd1ed7e",
   "metadata": {},
   "source": [
    "**Exercise**: Think of an calculation and write the operation in the cell below. "
   ]
  },
  {
   "cell_type": "code",
   "execution_count": null,
   "id": "c5ca079f",
   "metadata": {},
   "outputs": [],
   "source": []
  },
  {
   "cell_type": "markdown",
   "id": "6df58f3d",
   "metadata": {},
   "source": [
    "**Functions**\n",
    "\n",
    "Functions allow to combine multiple operations so that more complex processes can be implemented in a clear way. Often functions are part of a library. In the following example, we use the `log` function from the `numpy` library. \n",
    "\n",
    "Later we will define functions ourselfes, where we customize the integrated processes. \n"
   ]
  },
  {
   "cell_type": "code",
   "execution_count": 18,
   "id": "8ca8a0fa",
   "metadata": {},
   "outputs": [
    {
     "data": {
      "text/plain": [
       "1.3862943611198906"
      ]
     },
     "execution_count": 18,
     "metadata": {},
     "output_type": "execute_result"
    }
   ],
   "source": [
    "from numpy import log\n",
    "\n",
    "log(4)"
   ]
  },
  {
   "cell_type": "markdown",
   "id": "8dd70019",
   "metadata": {},
   "source": [
    "**Variables**\n",
    "\n",
    "Variables can store, numbers, text or more complex structures. Here are two examples. `x` stores a number and `y` stores a text. The `=` sign allows to assign the variable with a piece of information. The print function allows to present the stored information of a variable. "
   ]
  },
  {
   "cell_type": "code",
   "execution_count": 27,
   "id": "22855d8f",
   "metadata": {},
   "outputs": [
    {
     "name": "stdout",
     "output_type": "stream",
     "text": [
      "40\n",
      "Hi!\n",
      "True\n"
     ]
    }
   ],
   "source": [
    "numeric = 40\n",
    "character = \"Hi!\"\n",
    "logical = True\n",
    "\n",
    "print(numeric)\n",
    "print(character)\n",
    "print(logical)"
   ]
  },
  {
   "cell_type": "markdown",
   "id": "25d2c273",
   "metadata": {},
   "source": [
    "This is powerfull as we also can use the variables to manipulate the values associated."
   ]
  },
  {
   "cell_type": "code",
   "execution_count": 28,
   "id": "d46f2b1a",
   "metadata": {},
   "outputs": [
    {
     "data": {
      "text/plain": [
       "45"
      ]
     },
     "execution_count": 28,
     "metadata": {},
     "output_type": "execute_result"
    }
   ],
   "source": [
    "x = numeric\n",
    "x+5"
   ]
  },
  {
   "cell_type": "code",
   "execution_count": 29,
   "id": "ea95079e",
   "metadata": {},
   "outputs": [
    {
     "data": {
      "text/plain": [
       "50"
      ]
     },
     "execution_count": 29,
     "metadata": {},
     "output_type": "execute_result"
    }
   ],
   "source": [
    "z = 10\n",
    "x+z"
   ]
  },
  {
   "cell_type": "markdown",
   "id": "3b2eff74",
   "metadata": {},
   "source": [
    "Critical here is to remember which type of information is stored in the variable. E.g., for obvious reasions `x+y` will lead to an error message. But `'x'+y` will actually work. Critical difference here is that with the hiphan indicators we do not use the varible named `x` but the character x and extend the information stored in `y` with this additional character.  "
   ]
  },
  {
   "cell_type": "code",
   "execution_count": 30,
   "id": "5048259e",
   "metadata": {},
   "outputs": [
    {
     "data": {
      "text/plain": [
       "'xHi!'"
      ]
     },
     "execution_count": 30,
     "metadata": {},
     "output_type": "execute_result"
    }
   ],
   "source": [
    "'x'+character"
   ]
  },
  {
   "cell_type": "markdown",
   "id": "692f71c2",
   "metadata": {},
   "source": [
    "With the `type()` function one can identify the type of the information stored in the variable."
   ]
  },
  {
   "cell_type": "code",
   "execution_count": 35,
   "id": "c8874229",
   "metadata": {},
   "outputs": [
    {
     "data": {
      "text/plain": [
       "int"
      ]
     },
     "execution_count": 35,
     "metadata": {},
     "output_type": "execute_result"
    }
   ],
   "source": [
    "type(x)"
   ]
  },
  {
   "cell_type": "markdown",
   "id": "bf8f09ac",
   "metadata": {},
   "source": [
    "`int` indicates that in `x` an integer is stored (i.e., number without decimals). "
   ]
  },
  {
   "cell_type": "code",
   "execution_count": 36,
   "id": "d1529926",
   "metadata": {},
   "outputs": [
    {
     "data": {
      "text/plain": [
       "float"
      ]
     },
     "execution_count": 36,
     "metadata": {},
     "output_type": "execute_result"
    }
   ],
   "source": [
    "type(x+0.1)"
   ]
  },
  {
   "cell_type": "markdown",
   "id": "5bde7793",
   "metadata": {},
   "source": [
    "`float` indicates that stored information is a number with decimals. "
   ]
  },
  {
   "cell_type": "code",
   "execution_count": 37,
   "id": "f6c1fd3b",
   "metadata": {},
   "outputs": [
    {
     "data": {
      "text/plain": [
       "str"
      ]
     },
     "execution_count": 37,
     "metadata": {},
     "output_type": "execute_result"
    }
   ],
   "source": [
    "type(character)"
   ]
  },
  {
   "cell_type": "code",
   "execution_count": 38,
   "id": "47fcc7c0",
   "metadata": {},
   "outputs": [
    {
     "data": {
      "text/plain": [
       "bool"
      ]
     },
     "execution_count": 38,
     "metadata": {},
     "output_type": "execute_result"
    }
   ],
   "source": [
    "type(logical)"
   ]
  },
  {
   "cell_type": "markdown",
   "id": "d727dd8e",
   "metadata": {},
   "source": [
    "**Exercise**: Define two variables and manipulate them. "
   ]
  },
  {
   "cell_type": "code",
   "execution_count": null,
   "id": "9524cbf1",
   "metadata": {},
   "outputs": [],
   "source": []
  },
  {
   "cell_type": "markdown",
   "id": "13ead736",
   "metadata": {},
   "source": [
    "**Comparison operators**:\n",
    "\n",
    "* `<`  for less than\n",
    "\n",
    "* `>`  for greater than\n",
    "\n",
    "* `<=` for less than or equal to\n",
    "\n",
    "* `>=` for greater than or equal to\n",
    "\n",
    "* `==` for equal to each other\n",
    "\n",
    "* `!=` not equal to each other"
   ]
  },
  {
   "cell_type": "code",
   "execution_count": 34,
   "id": "bdcfb41a",
   "metadata": {},
   "outputs": [
    {
     "name": "stdout",
     "output_type": "stream",
     "text": [
      "False\n",
      "True\n"
     ]
    }
   ],
   "source": [
    "print(x==y)\n",
    "print(x>z)"
   ]
  },
  {
   "cell_type": "markdown",
   "id": "9d6993cd",
   "metadata": {},
   "source": [
    "The result of a comparison is always a logical value (`True` or `False`)"
   ]
  },
  {
   "cell_type": "markdown",
   "id": "02f3bc16",
   "metadata": {},
   "source": [
    "**`if`, `else` statements** \n",
    "\n"
   ]
  },
  {
   "cell_type": "markdown",
   "id": "9fe9c7fc",
   "metadata": {},
   "source": [
    "**`for` loop** \n",
    "\n"
   ]
  },
  {
   "cell_type": "code",
   "execution_count": null,
   "id": "d1c185e9",
   "metadata": {},
   "outputs": [],
   "source": []
  }
 ],
 "metadata": {
  "kernelspec": {
   "display_name": "Python 3 (ipykernel)",
   "language": "python",
   "name": "python3"
  },
  "language_info": {
   "codemirror_mode": {
    "name": "ipython",
    "version": 3
   },
   "file_extension": ".py",
   "mimetype": "text/x-python",
   "name": "python",
   "nbconvert_exporter": "python",
   "pygments_lexer": "ipython3",
   "version": "3.9.12"
  }
 },
 "nbformat": 4,
 "nbformat_minor": 5
}
