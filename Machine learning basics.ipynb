{
 "cells": [
  {
   "cell_type": "markdown",
   "id": "4b4cbe7d",
   "metadata": {},
   "source": [
    "# Machine learning basics"
   ]
  },
  {
   "cell_type": "markdown",
   "id": "1c4da3b8",
   "metadata": {},
   "source": [
    "**Prediction** \n",
    "\n",
    "- Categorical\n",
    "- Point estimate\n",
    "\n",
    "\n",
    "**Categorical**\n",
    "\n",
    "Categorical prediction is a supervised machine learning task that aims to predict a categorical label (or class) for a given input. The categorical labels are discrete and unordered, such as \"red,\" \"green,\" \"blue,\" etc. Categorical prediction is also known as classification. After training, one can use the model to predict new data. \n",
    "\n",
    "![alt text](./images/binary_decision_problem.jpg \"Title\")\n",
    "![alt text](./images/4_fields.jpg \"Title\")\n",
    "\n",
    "Several algorithms can be used for categorical prediction, including:\n",
    "\n",
    "-    Logistic regression: Logistic regression models the probability of an input belonging to a particular class.\n",
    "\n",
    "-    Decision trees: A tree-based model that can be used for binary and multi-class classification. Decision trees use a set of if-then-else rules to make predictions.\n",
    "\n",
    "-    Random forests: A method that combines multiple decision trees to improve the accuracy of the predictions.\n",
    "\n",
    "-    Support Vector Machines (SVMs): A linear model that can be used for binary and multi-class classification. SVMs find the best boundary (or \"hyperplane\") that separates the classes. Note there is also a non-linear version of this method.\n",
    "\n",
    "-    Neural networks: A type of model inspired by the structure of the human brain and can be used for binary and multi-class classification. Neural networks are handy for problems with many input features or a complex decision boundary.\n"
   ]
  },
  {
   "cell_type": "code",
   "execution_count": 261,
   "id": "16cb64f3",
   "metadata": {},
   "outputs": [],
   "source": [
    "import matplotlib.pyplot as plt\n",
    "import pandas as pd\n",
    "import numpy as np\n",
    "\n",
    "from sklearn.linear_model import LogisticRegression\n",
    "from sklearn.ensemble import RandomForestClassifier\n",
    "from sklearn.tree import DecisionTreeClassifier\n",
    "from sklearn.model_selection import train_test_split, RepeatedStratifiedKFold, cross_val_score"
   ]
  },
  {
   "cell_type": "code",
   "execution_count": 262,
   "id": "8a4f619b",
   "metadata": {},
   "outputs": [
    {
     "data": {
      "image/png": "[encoded data removed]",
      "text/plain": [
       "<Figure size 640x480 with 1 Axes>"
      ]
     },
     "metadata": {},
     "output_type": "display_data"
    }
   ],
   "source": [
    "df = pd.read_csv(\"./datasets/Group_A_B.csv\")\n",
    "\n",
    "plt.hist([df[\"NoProblem\"], df[\"Problem\"]], bins=20, histtype='bar', color=['b','r'], label=['No Problem', 'Problem'])\n",
    "plt.legend()\n",
    "plt.xlabel('Measure')\n",
    "plt.ylabel('Frequency')\n",
    "plt.show()"
   ]
  },
  {
   "cell_type": "markdown",
   "id": "cf9ecd79",
   "metadata": {},
   "source": [
    "**Exercise** Find the optimal threshold value that divides No Problem and Problem"
   ]
  },
  {
   "cell_type": "code",
   "execution_count": null,
   "id": "1336f287",
   "metadata": {},
   "outputs": [],
   "source": []
  },
  {
   "cell_type": "markdown",
   "id": "a2aae385",
   "metadata": {},
   "source": [
    "**Metrics**\n",
    "\n",
    "- Accuracy\n",
    "![alt text](./images/accuracy.jpg \"Title\")\n",
    "\n",
    "- Specificity\n",
    "![alt text](./images/specificity.jpg \"Title\")\n",
    "\n",
    "- Precision\n",
    "![alt text](./images/precision.jpg \"Title\")\n",
    "\n",
    "- True positive rate\n",
    "![alt text](./images/true-positive-rate.jpg \"Title\")\n",
    "\n",
    "- False positive rate\n",
    "![alt text](./images/false-positive-rate.jpg \"Title\")\n",
    "\n",
    "- F1 Score\n",
    "![alt text](./images/f1-score.jpg \"Title\")\n",
    "\n",
    "Let's apply a decision boundary (i.e., cutoff value) and calculate the accuracy. Here we calculate an example for a boundary of `Measure == 0` based on a so-called Rule. Note rule-based systems are the simplest prediction models with the advantage that the models are highly transparent and have a high explainability. \n",
    "\n",
    "1. We must convert our data frame from wide to long format. This is a central preprocessing step, as all machine learning models we use here work only with long-format data."
   ]
  },
  {
   "cell_type": "code",
   "execution_count": 263,
   "id": "0625e939",
   "metadata": {},
   "outputs": [
    {
     "data": {
      "text/html": [
       "<div>\n",
       "<style scoped>\n",
       "    .dataframe tbody tr th:only-of-type {\n",
       "        vertical-align: middle;\n",
       "    }\n",
       "\n",
       "    .dataframe tbody tr th {\n",
       "        vertical-align: top;\n",
       "    }\n",
       "\n",
       "    .dataframe thead th {\n",
       "        text-align: right;\n",
       "    }\n",
       "</style>\n",
       "<table border=\"1\" class=\"dataframe\">\n",
       "  <thead>\n",
       "    <tr style=\"text-align: right;\">\n",
       "      <th></th>\n",
       "      <th>Group</th>\n",
       "      <th>Measure</th>\n",
       "    </tr>\n",
       "  </thead>\n",
       "  <tbody>\n",
       "    <tr>\n",
       "      <th>0</th>\n",
       "      <td>NoProblem</td>\n",
       "      <td>1.352766</td>\n",
       "    </tr>\n",
       "    <tr>\n",
       "      <th>1</th>\n",
       "      <td>NoProblem</td>\n",
       "      <td>0.932859</td>\n",
       "    </tr>\n",
       "    <tr>\n",
       "      <th>2</th>\n",
       "      <td>NoProblem</td>\n",
       "      <td>-1.940350</td>\n",
       "    </tr>\n",
       "    <tr>\n",
       "      <th>3</th>\n",
       "      <td>NoProblem</td>\n",
       "      <td>-1.816722</td>\n",
       "    </tr>\n",
       "    <tr>\n",
       "      <th>4</th>\n",
       "      <td>NoProblem</td>\n",
       "      <td>-1.491337</td>\n",
       "    </tr>\n",
       "    <tr>\n",
       "      <th>...</th>\n",
       "      <td>...</td>\n",
       "      <td>...</td>\n",
       "    </tr>\n",
       "    <tr>\n",
       "      <th>195</th>\n",
       "      <td>Problem</td>\n",
       "      <td>0.983390</td>\n",
       "    </tr>\n",
       "    <tr>\n",
       "      <th>196</th>\n",
       "      <td>Problem</td>\n",
       "      <td>4.285581</td>\n",
       "    </tr>\n",
       "    <tr>\n",
       "      <th>197</th>\n",
       "      <td>Problem</td>\n",
       "      <td>2.494387</td>\n",
       "    </tr>\n",
       "    <tr>\n",
       "      <th>198</th>\n",
       "      <td>Problem</td>\n",
       "      <td>3.725537</td>\n",
       "    </tr>\n",
       "    <tr>\n",
       "      <th>199</th>\n",
       "      <td>Problem</td>\n",
       "      <td>0.637094</td>\n",
       "    </tr>\n",
       "  </tbody>\n",
       "</table>\n",
       "<p>200 rows × 2 columns</p>\n",
       "</div>"
      ],
      "text/plain": [
       "         Group   Measure\n",
       "0    NoProblem  1.352766\n",
       "1    NoProblem  0.932859\n",
       "2    NoProblem -1.940350\n",
       "3    NoProblem -1.816722\n",
       "4    NoProblem -1.491337\n",
       "..         ...       ...\n",
       "195    Problem  0.983390\n",
       "196    Problem  4.285581\n",
       "197    Problem  2.494387\n",
       "198    Problem  3.725537\n",
       "199    Problem  0.637094\n",
       "\n",
       "[200 rows x 2 columns]"
      ]
     },
     "execution_count": 263,
     "metadata": {},
     "output_type": "execute_result"
    }
   ],
   "source": [
    "df_long = pd.melt(df, id_vars=None, value_vars=['NoProblem', 'Problem'], var_name='Group', value_name='Measure')\n",
    "df_long"
   ]
  },
  {
   "cell_type": "markdown",
   "id": "7fef8822",
   "metadata": {},
   "source": [
    "2. Then we apply the rule to our data and create a prediction of which group a person is given a specific measure."
   ]
  },
  {
   "cell_type": "code",
   "execution_count": 264,
   "id": "4c4bb09c",
   "metadata": {},
   "outputs": [
    {
     "name": "stderr",
     "output_type": "stream",
     "text": [
      "/var/folders/cc/b555j_gn0bx_xc5xhwwyznxc0000gn/T/ipykernel_70067/401138262.py:2: SettingWithCopyWarning: \n",
      "A value is trying to be set on a copy of a slice from a DataFrame\n",
      "\n",
      "See the caveats in the documentation: https://pandas.pydata.org/pandas-docs/stable/user_guide/indexing.html#returning-a-view-versus-a-copy\n",
      "  df_long[\"Predicted Group\"][df_long[\"Measure\"] > 0] = \"Problem\"\n"
     ]
    },
    {
     "data": {
      "text/html": [
       "<div>\n",
       "<style scoped>\n",
       "    .dataframe tbody tr th:only-of-type {\n",
       "        vertical-align: middle;\n",
       "    }\n",
       "\n",
       "    .dataframe tbody tr th {\n",
       "        vertical-align: top;\n",
       "    }\n",
       "\n",
       "    .dataframe thead th {\n",
       "        text-align: right;\n",
       "    }\n",
       "</style>\n",
       "<table border=\"1\" class=\"dataframe\">\n",
       "  <thead>\n",
       "    <tr style=\"text-align: right;\">\n",
       "      <th></th>\n",
       "      <th>Group</th>\n",
       "      <th>Measure</th>\n",
       "      <th>Predicted Group</th>\n",
       "    </tr>\n",
       "  </thead>\n",
       "  <tbody>\n",
       "    <tr>\n",
       "      <th>0</th>\n",
       "      <td>NoProblem</td>\n",
       "      <td>1.352766</td>\n",
       "      <td>Problem</td>\n",
       "    </tr>\n",
       "    <tr>\n",
       "      <th>1</th>\n",
       "      <td>NoProblem</td>\n",
       "      <td>0.932859</td>\n",
       "      <td>Problem</td>\n",
       "    </tr>\n",
       "    <tr>\n",
       "      <th>2</th>\n",
       "      <td>NoProblem</td>\n",
       "      <td>-1.940350</td>\n",
       "      <td>NoProblem</td>\n",
       "    </tr>\n",
       "    <tr>\n",
       "      <th>3</th>\n",
       "      <td>NoProblem</td>\n",
       "      <td>-1.816722</td>\n",
       "      <td>NoProblem</td>\n",
       "    </tr>\n",
       "    <tr>\n",
       "      <th>4</th>\n",
       "      <td>NoProblem</td>\n",
       "      <td>-1.491337</td>\n",
       "      <td>NoProblem</td>\n",
       "    </tr>\n",
       "    <tr>\n",
       "      <th>...</th>\n",
       "      <td>...</td>\n",
       "      <td>...</td>\n",
       "      <td>...</td>\n",
       "    </tr>\n",
       "    <tr>\n",
       "      <th>195</th>\n",
       "      <td>Problem</td>\n",
       "      <td>0.983390</td>\n",
       "      <td>Problem</td>\n",
       "    </tr>\n",
       "    <tr>\n",
       "      <th>196</th>\n",
       "      <td>Problem</td>\n",
       "      <td>4.285581</td>\n",
       "      <td>Problem</td>\n",
       "    </tr>\n",
       "    <tr>\n",
       "      <th>197</th>\n",
       "      <td>Problem</td>\n",
       "      <td>2.494387</td>\n",
       "      <td>Problem</td>\n",
       "    </tr>\n",
       "    <tr>\n",
       "      <th>198</th>\n",
       "      <td>Problem</td>\n",
       "      <td>3.725537</td>\n",
       "      <td>Problem</td>\n",
       "    </tr>\n",
       "    <tr>\n",
       "      <th>199</th>\n",
       "      <td>Problem</td>\n",
       "      <td>0.637094</td>\n",
       "      <td>Problem</td>\n",
       "    </tr>\n",
       "  </tbody>\n",
       "</table>\n",
       "<p>200 rows × 3 columns</p>\n",
       "</div>"
      ],
      "text/plain": [
       "         Group   Measure Predicted Group\n",
       "0    NoProblem  1.352766         Problem\n",
       "1    NoProblem  0.932859         Problem\n",
       "2    NoProblem -1.940350       NoProblem\n",
       "3    NoProblem -1.816722       NoProblem\n",
       "4    NoProblem -1.491337       NoProblem\n",
       "..         ...       ...             ...\n",
       "195    Problem  0.983390         Problem\n",
       "196    Problem  4.285581         Problem\n",
       "197    Problem  2.494387         Problem\n",
       "198    Problem  3.725537         Problem\n",
       "199    Problem  0.637094         Problem\n",
       "\n",
       "[200 rows x 3 columns]"
      ]
     },
     "execution_count": 264,
     "metadata": {},
     "output_type": "execute_result"
    }
   ],
   "source": [
    "df_long[\"Predicted Group\"] = \"NoProblem\"\n",
    "df_long[\"Predicted Group\"][df_long[\"Measure\"] > 0] = \"Problem\"\n",
    "df_long"
   ]
  },
  {
   "cell_type": "markdown",
   "id": "b8c0c85d",
   "metadata": {},
   "source": [
    "3. We compare the predicted group with the actual group on the accuracy metric"
   ]
  },
  {
   "cell_type": "code",
   "execution_count": 265,
   "id": "42998715",
   "metadata": {},
   "outputs": [
    {
     "name": "stderr",
     "output_type": "stream",
     "text": [
      "/var/folders/cc/b555j_gn0bx_xc5xhwwyznxc0000gn/T/ipykernel_70067/1923330692.py:1: UserWarning: Boolean Series key will be reindexed to match DataFrame index.\n",
      "  true_positive = len(df_long[df_long[\"Group\"]==df_long[\"Predicted Group\"]][df_long[\"Predicted Group\"] == \"Problem\"])\n"
     ]
    },
    {
     "data": {
      "text/plain": [
       "96"
      ]
     },
     "execution_count": 265,
     "metadata": {},
     "output_type": "execute_result"
    }
   ],
   "source": [
    "true_positive = len(df_long[df_long[\"Group\"]==df_long[\"Predicted Group\"]][df_long[\"Predicted Group\"] == \"Problem\"])\n",
    "true_positive"
   ]
  },
  {
   "cell_type": "code",
   "execution_count": 266,
   "id": "8eb35d87",
   "metadata": {},
   "outputs": [
    {
     "name": "stderr",
     "output_type": "stream",
     "text": [
      "/var/folders/cc/b555j_gn0bx_xc5xhwwyznxc0000gn/T/ipykernel_70067/3376604202.py:1: UserWarning: Boolean Series key will be reindexed to match DataFrame index.\n",
      "  true_negative = len(df_long[df_long[\"Group\"]==df_long[\"Predicted Group\"]][df_long[\"Predicted Group\"] == \"NoProblem\"])\n"
     ]
    },
    {
     "data": {
      "text/plain": [
       "51"
      ]
     },
     "execution_count": 266,
     "metadata": {},
     "output_type": "execute_result"
    }
   ],
   "source": [
    "true_negative = len(df_long[df_long[\"Group\"]==df_long[\"Predicted Group\"]][df_long[\"Predicted Group\"] == \"NoProblem\"])\n",
    "true_negative"
   ]
  },
  {
   "cell_type": "code",
   "execution_count": 267,
   "id": "4f676385",
   "metadata": {},
   "outputs": [
    {
     "name": "stderr",
     "output_type": "stream",
     "text": [
      "/var/folders/cc/b555j_gn0bx_xc5xhwwyznxc0000gn/T/ipykernel_70067/285954077.py:1: UserWarning: Boolean Series key will be reindexed to match DataFrame index.\n",
      "  false_positive = len(df_long[df_long[\"Group\"]!=df_long[\"Predicted Group\"]][df_long[\"Predicted Group\"] == \"Problem\"])\n"
     ]
    },
    {
     "data": {
      "text/plain": [
       "49"
      ]
     },
     "execution_count": 267,
     "metadata": {},
     "output_type": "execute_result"
    }
   ],
   "source": [
    "false_positive = len(df_long[df_long[\"Group\"]!=df_long[\"Predicted Group\"]][df_long[\"Predicted Group\"] == \"Problem\"])\n",
    "false_positive"
   ]
  },
  {
   "cell_type": "code",
   "execution_count": 268,
   "id": "c91f513e",
   "metadata": {},
   "outputs": [
    {
     "name": "stderr",
     "output_type": "stream",
     "text": [
      "/var/folders/cc/b555j_gn0bx_xc5xhwwyznxc0000gn/T/ipykernel_70067/1528940798.py:1: UserWarning: Boolean Series key will be reindexed to match DataFrame index.\n",
      "  false_negative = len(df_long[df_long[\"Group\"]!=df_long[\"Predicted Group\"]][df_long[\"Predicted Group\"] == \"NoProblem\"])\n"
     ]
    },
    {
     "data": {
      "text/plain": [
       "4"
      ]
     },
     "execution_count": 268,
     "metadata": {},
     "output_type": "execute_result"
    }
   ],
   "source": [
    "false_negative = len(df_long[df_long[\"Group\"]!=df_long[\"Predicted Group\"]][df_long[\"Predicted Group\"] == \"NoProblem\"])\n",
    "false_negative"
   ]
  },
  {
   "cell_type": "code",
   "execution_count": 269,
   "id": "bd0a38fa",
   "metadata": {},
   "outputs": [
    {
     "data": {
      "text/html": [
       "<div>\n",
       "<style scoped>\n",
       "    .dataframe tbody tr th:only-of-type {\n",
       "        vertical-align: middle;\n",
       "    }\n",
       "\n",
       "    .dataframe tbody tr th {\n",
       "        vertical-align: top;\n",
       "    }\n",
       "\n",
       "    .dataframe thead th {\n",
       "        text-align: right;\n",
       "    }\n",
       "</style>\n",
       "<table border=\"1\" class=\"dataframe\">\n",
       "  <thead>\n",
       "    <tr style=\"text-align: right;\">\n",
       "      <th></th>\n",
       "      <th>Group: Problem</th>\n",
       "      <th>Group: No Problem</th>\n",
       "      <th>Predicted</th>\n",
       "    </tr>\n",
       "  </thead>\n",
       "  <tbody>\n",
       "    <tr>\n",
       "      <th>0</th>\n",
       "      <td>96</td>\n",
       "      <td>49</td>\n",
       "      <td>Problem</td>\n",
       "    </tr>\n",
       "    <tr>\n",
       "      <th>1</th>\n",
       "      <td>4</td>\n",
       "      <td>51</td>\n",
       "      <td>No Problem</td>\n",
       "    </tr>\n",
       "  </tbody>\n",
       "</table>\n",
       "</div>"
      ],
      "text/plain": [
       "   Group: Problem  Group: No Problem   Predicted\n",
       "0              96                 49     Problem\n",
       "1               4                 51  No Problem"
      ]
     },
     "execution_count": 269,
     "metadata": {},
     "output_type": "execute_result"
    }
   ],
   "source": [
    "pd.DataFrame({\"Group: Problem\": [true_positive, false_negative],\n",
    "              \"Group: No Problem\": [false_positive, true_negative],\n",
    "              \"Predicted\": [\"Problem\", \"No Problem\"]\n",
    "             }\n",
    "            )"
   ]
  },
  {
   "cell_type": "markdown",
   "id": "58366dc8",
   "metadata": {},
   "source": [
    "**Accuracy**\n",
    "![alt text](./images/accuracy.jpg \"Title\")"
   ]
  },
  {
   "cell_type": "code",
   "execution_count": 270,
   "id": "82b1f576",
   "metadata": {},
   "outputs": [
    {
     "data": {
      "text/plain": [
       "0.735"
      ]
     },
     "execution_count": 270,
     "metadata": {},
     "output_type": "execute_result"
    }
   ],
   "source": [
    "(true_positive+true_negative) / (true_positive+true_negative+false_negative+false_positive)"
   ]
  },
  {
   "cell_type": "markdown",
   "id": "bbd451c7",
   "metadata": {},
   "source": [
    "**False positive rate**\n",
    "![alt text](./images/false-positive-rate.jpg \"Title\")\n"
   ]
  },
  {
   "cell_type": "code",
   "execution_count": 271,
   "id": "726516f7",
   "metadata": {},
   "outputs": [
    {
     "data": {
      "text/plain": [
       "0.49"
      ]
     },
     "execution_count": 271,
     "metadata": {},
     "output_type": "execute_result"
    }
   ],
   "source": [
    "false_positive / (true_negative+false_positive)"
   ]
  },
  {
   "cell_type": "markdown",
   "id": "be012ecf",
   "metadata": {},
   "source": [
    "**Exercise** Apply your best guess decision boundary to the dataset and estimate the Accuracy and the Specificity metric"
   ]
  },
  {
   "cell_type": "code",
   "execution_count": null,
   "id": "9cbaa6ad",
   "metadata": {},
   "outputs": [],
   "source": []
  },
  {
   "cell_type": "markdown",
   "id": "5db98f10",
   "metadata": {},
   "source": [
    "**First Machine Learning Example: Logistic Regression**\n",
    "\n",
    "Let's use a logistic regression model to learn the optimal decision boundary for our problem. \n",
    "\n",
    "![alt text](./images/log_reg.jpg \"Title\")\n",
    "\n",
    "Remember the overall framework. As a first step, we will learn and predict the existing labels. When this would not result in an accuracy > .5, one would learn that the current measure is not predictive of our labels. If the accuracy is between .5 and 1, we know there is a relation between our measure and our labels. \n",
    "\n",
    "\n",
    "![alt text](./images/ml_basics.jpg \"Title\")\n",
    "\n",
    "\n",
    "First, we need to do a data transformation."
   ]
  },
  {
   "cell_type": "code",
   "execution_count": 272,
   "id": "783a7434",
   "metadata": {
    "scrolled": false
   },
   "outputs": [],
   "source": [
    "X = df_long[\"Measure\"].values.reshape(-1, 1)\n",
    "y = df_long[\"Group\"]"
   ]
  },
  {
   "cell_type": "markdown",
   "id": "0a838bc3",
   "metadata": {},
   "source": [
    "Define the model type and fit the model on the data. "
   ]
  },
  {
   "cell_type": "code",
   "execution_count": 273,
   "id": "104bed1a",
   "metadata": {
    "scrolled": false
   },
   "outputs": [
    {
     "data": {
      "text/html": [
       "<style>#sk-container-id-6 {color: black;background-color: white;}#sk-container-id-6 pre{padding: 0;}#sk-container-id-6 div.sk-toggleable {background-color: white;}#sk-container-id-6 label.sk-toggleable__label {cursor: pointer;display: block;width: 100%;margin-bottom: 0;padding: 0.3em;box-sizing: border-box;text-align: center;}#sk-container-id-6 label.sk-toggleable__label-arrow:before {content: \"▸\";float: left;margin-right: 0.25em;color: #696969;}#sk-container-id-6 label.sk-toggleable__label-arrow:hover:before {color: black;}#sk-container-id-6 div.sk-estimator:hover label.sk-toggleable__label-arrow:before {color: black;}#sk-container-id-6 div.sk-toggleable__content {max-height: 0;max-width: 0;overflow: hidden;text-align: left;background-color: #f0f8ff;}#sk-container-id-6 div.sk-toggleable__content pre {margin: 0.2em;color: black;border-radius: 0.25em;background-color: #f0f8ff;}#sk-container-id-6 input.sk-toggleable__control:checked~div.sk-toggleable__content {max-height: 200px;max-width: 100%;overflow: auto;}#sk-container-id-6 input.sk-toggleable__control:checked~label.sk-toggleable__label-arrow:before {content: \"▾\";}#sk-container-id-6 div.sk-estimator input.sk-toggleable__control:checked~label.sk-toggleable__label {background-color: #d4ebff;}#sk-container-id-6 div.sk-label input.sk-toggleable__control:checked~label.sk-toggleable__label {background-color: #d4ebff;}#sk-container-id-6 input.sk-hidden--visually {border: 0;clip: rect(1px 1px 1px 1px);clip: rect(1px, 1px, 1px, 1px);height: 1px;margin: -1px;overflow: hidden;padding: 0;position: absolute;width: 1px;}#sk-container-id-6 div.sk-estimator {font-family: monospace;background-color: #f0f8ff;border: 1px dotted black;border-radius: 0.25em;box-sizing: border-box;margin-bottom: 0.5em;}#sk-container-id-6 div.sk-estimator:hover {background-color: #d4ebff;}#sk-container-id-6 div.sk-parallel-item::after {content: \"\";width: 100%;border-bottom: 1px solid gray;flex-grow: 1;}#sk-container-id-6 div.sk-label:hover label.sk-toggleable__label {background-color: #d4ebff;}#sk-container-id-6 div.sk-serial::before {content: \"\";position: absolute;border-left: 1px solid gray;box-sizing: border-box;top: 0;bottom: 0;left: 50%;z-index: 0;}#sk-container-id-6 div.sk-serial {display: flex;flex-direction: column;align-items: center;background-color: white;padding-right: 0.2em;padding-left: 0.2em;position: relative;}#sk-container-id-6 div.sk-item {position: relative;z-index: 1;}#sk-container-id-6 div.sk-parallel {display: flex;align-items: stretch;justify-content: center;background-color: white;position: relative;}#sk-container-id-6 div.sk-item::before, #sk-container-id-6 div.sk-parallel-item::before {content: \"\";position: absolute;border-left: 1px solid gray;box-sizing: border-box;top: 0;bottom: 0;left: 50%;z-index: -1;}#sk-container-id-6 div.sk-parallel-item {display: flex;flex-direction: column;z-index: 1;position: relative;background-color: white;}#sk-container-id-6 div.sk-parallel-item:first-child::after {align-self: flex-end;width: 50%;}#sk-container-id-6 div.sk-parallel-item:last-child::after {align-self: flex-start;width: 50%;}#sk-container-id-6 div.sk-parallel-item:only-child::after {width: 0;}#sk-container-id-6 div.sk-dashed-wrapped {border: 1px dashed gray;margin: 0 0.4em 0.5em 0.4em;box-sizing: border-box;padding-bottom: 0.4em;background-color: white;}#sk-container-id-6 div.sk-label label {font-family: monospace;font-weight: bold;display: inline-block;line-height: 1.2em;}#sk-container-id-6 div.sk-label-container {text-align: center;}#sk-container-id-6 div.sk-container {/* jupyter's `normalize.less` sets `[hidden] { display: none; }` but bootstrap.min.css set `[hidden] { display: none !important; }` so we also need the `!important` here to be able to override the default hidden behavior on the sphinx rendered scikit-learn.org. See: https://github.com/scikit-learn/scikit-learn/issues/21755 */display: inline-block !important;position: relative;}#sk-container-id-6 div.sk-text-repr-fallback {display: none;}</style><div id=\"sk-container-id-6\" class=\"sk-top-container\"><div class=\"sk-text-repr-fallback\"><pre>LogisticRegression()</pre><b>In a Jupyter environment, please rerun this cell to show the HTML representation or trust the notebook. <br />On GitHub, the HTML representation is unable to render, please try loading this page with nbviewer.org.</b></div><div class=\"sk-container\" hidden><div class=\"sk-item\"><div class=\"sk-estimator sk-toggleable\"><input class=\"sk-toggleable__control sk-hidden--visually\" id=\"sk-estimator-id-6\" type=\"checkbox\" checked><label for=\"sk-estimator-id-6\" class=\"sk-toggleable__label sk-toggleable__label-arrow\">LogisticRegression</label><div class=\"sk-toggleable__content\"><pre>LogisticRegression()</pre></div></div></div></div></div>"
      ],
      "text/plain": [
       "LogisticRegression()"
      ]
     },
     "execution_count": 273,
     "metadata": {},
     "output_type": "execute_result"
    }
   ],
   "source": [
    "clf = LogisticRegression()\n",
    "clf.fit(X, y)"
   ]
  },
  {
   "cell_type": "markdown",
   "id": "78134f53",
   "metadata": {},
   "source": [
    "After that, we predict the labels based on our measure and the fitted model. For metrics estimations, we store the prediction in our data frame."
   ]
  },
  {
   "cell_type": "code",
   "execution_count": 274,
   "id": "b77a2030",
   "metadata": {
    "scrolled": false
   },
   "outputs": [
    {
     "data": {
      "text/html": [
       "<div>\n",
       "<style scoped>\n",
       "    .dataframe tbody tr th:only-of-type {\n",
       "        vertical-align: middle;\n",
       "    }\n",
       "\n",
       "    .dataframe tbody tr th {\n",
       "        vertical-align: top;\n",
       "    }\n",
       "\n",
       "    .dataframe thead th {\n",
       "        text-align: right;\n",
       "    }\n",
       "</style>\n",
       "<table border=\"1\" class=\"dataframe\">\n",
       "  <thead>\n",
       "    <tr style=\"text-align: right;\">\n",
       "      <th></th>\n",
       "      <th>Group</th>\n",
       "      <th>Measure</th>\n",
       "      <th>Predicted Group</th>\n",
       "      <th>Predicted Group: Model</th>\n",
       "    </tr>\n",
       "  </thead>\n",
       "  <tbody>\n",
       "    <tr>\n",
       "      <th>0</th>\n",
       "      <td>NoProblem</td>\n",
       "      <td>1.352766</td>\n",
       "      <td>Problem</td>\n",
       "      <td>Problem</td>\n",
       "    </tr>\n",
       "    <tr>\n",
       "      <th>1</th>\n",
       "      <td>NoProblem</td>\n",
       "      <td>0.932859</td>\n",
       "      <td>Problem</td>\n",
       "      <td>Problem</td>\n",
       "    </tr>\n",
       "    <tr>\n",
       "      <th>2</th>\n",
       "      <td>NoProblem</td>\n",
       "      <td>-1.940350</td>\n",
       "      <td>NoProblem</td>\n",
       "      <td>NoProblem</td>\n",
       "    </tr>\n",
       "    <tr>\n",
       "      <th>3</th>\n",
       "      <td>NoProblem</td>\n",
       "      <td>-1.816722</td>\n",
       "      <td>NoProblem</td>\n",
       "      <td>NoProblem</td>\n",
       "    </tr>\n",
       "    <tr>\n",
       "      <th>4</th>\n",
       "      <td>NoProblem</td>\n",
       "      <td>-1.491337</td>\n",
       "      <td>NoProblem</td>\n",
       "      <td>NoProblem</td>\n",
       "    </tr>\n",
       "    <tr>\n",
       "      <th>...</th>\n",
       "      <td>...</td>\n",
       "      <td>...</td>\n",
       "      <td>...</td>\n",
       "      <td>...</td>\n",
       "    </tr>\n",
       "    <tr>\n",
       "      <th>195</th>\n",
       "      <td>Problem</td>\n",
       "      <td>0.983390</td>\n",
       "      <td>Problem</td>\n",
       "      <td>Problem</td>\n",
       "    </tr>\n",
       "    <tr>\n",
       "      <th>196</th>\n",
       "      <td>Problem</td>\n",
       "      <td>4.285581</td>\n",
       "      <td>Problem</td>\n",
       "      <td>Problem</td>\n",
       "    </tr>\n",
       "    <tr>\n",
       "      <th>197</th>\n",
       "      <td>Problem</td>\n",
       "      <td>2.494387</td>\n",
       "      <td>Problem</td>\n",
       "      <td>Problem</td>\n",
       "    </tr>\n",
       "    <tr>\n",
       "      <th>198</th>\n",
       "      <td>Problem</td>\n",
       "      <td>3.725537</td>\n",
       "      <td>Problem</td>\n",
       "      <td>Problem</td>\n",
       "    </tr>\n",
       "    <tr>\n",
       "      <th>199</th>\n",
       "      <td>Problem</td>\n",
       "      <td>0.637094</td>\n",
       "      <td>Problem</td>\n",
       "      <td>NoProblem</td>\n",
       "    </tr>\n",
       "  </tbody>\n",
       "</table>\n",
       "<p>200 rows × 4 columns</p>\n",
       "</div>"
      ],
      "text/plain": [
       "         Group   Measure Predicted Group Predicted Group: Model\n",
       "0    NoProblem  1.352766         Problem                Problem\n",
       "1    NoProblem  0.932859         Problem                Problem\n",
       "2    NoProblem -1.940350       NoProblem              NoProblem\n",
       "3    NoProblem -1.816722       NoProblem              NoProblem\n",
       "4    NoProblem -1.491337       NoProblem              NoProblem\n",
       "..         ...       ...             ...                    ...\n",
       "195    Problem  0.983390         Problem                Problem\n",
       "196    Problem  4.285581         Problem                Problem\n",
       "197    Problem  2.494387         Problem                Problem\n",
       "198    Problem  3.725537         Problem                Problem\n",
       "199    Problem  0.637094         Problem              NoProblem\n",
       "\n",
       "[200 rows x 4 columns]"
      ]
     },
     "execution_count": 274,
     "metadata": {},
     "output_type": "execute_result"
    }
   ],
   "source": [
    "df_long[\"Predicted Group: Model\"] = clf.predict(X)\n",
    "df_long"
   ]
  },
  {
   "cell_type": "markdown",
   "id": "f52a98c7",
   "metadata": {},
   "source": [
    "Now we estimate the accuracy of the model predictions to compare the fitted model to our models. "
   ]
  },
  {
   "cell_type": "code",
   "execution_count": 275,
   "id": "c9d4a6b4",
   "metadata": {},
   "outputs": [
    {
     "name": "stderr",
     "output_type": "stream",
     "text": [
      "/var/folders/cc/b555j_gn0bx_xc5xhwwyznxc0000gn/T/ipykernel_70067/1657540672.py:1: UserWarning: Boolean Series key will be reindexed to match DataFrame index.\n",
      "  true_positive = len(df_long[df_long[\"Group\"]==df_long[\"Predicted Group: Model\"]][df_long[\"Predicted Group: Model\"] == \"Problem\"])\n",
      "/var/folders/cc/b555j_gn0bx_xc5xhwwyznxc0000gn/T/ipykernel_70067/1657540672.py:2: UserWarning: Boolean Series key will be reindexed to match DataFrame index.\n",
      "  false_positive = len(df_long[df_long[\"Group\"]!=df_long[\"Predicted Group: Model\"]][df_long[\"Predicted Group: Model\"] == \"Problem\"])\n",
      "/var/folders/cc/b555j_gn0bx_xc5xhwwyznxc0000gn/T/ipykernel_70067/1657540672.py:3: UserWarning: Boolean Series key will be reindexed to match DataFrame index.\n",
      "  true_negative = len(df_long[df_long[\"Group\"]==df_long[\"Predicted Group: Model\"]][df_long[\"Predicted Group: Model\"] == \"NoProblem\"])\n",
      "/var/folders/cc/b555j_gn0bx_xc5xhwwyznxc0000gn/T/ipykernel_70067/1657540672.py:4: UserWarning: Boolean Series key will be reindexed to match DataFrame index.\n",
      "  false_negative = len(df_long[df_long[\"Group\"]!=df_long[\"Predicted Group: Model\"]][df_long[\"Predicted Group: Model\"] == \"NoProblem\"])\n"
     ]
    },
    {
     "data": {
      "text/plain": [
       "0.855"
      ]
     },
     "execution_count": 275,
     "metadata": {},
     "output_type": "execute_result"
    }
   ],
   "source": [
    "true_positive = len(df_long[df_long[\"Group\"]==df_long[\"Predicted Group: Model\"]][df_long[\"Predicted Group: Model\"] == \"Problem\"])\n",
    "false_positive = len(df_long[df_long[\"Group\"]!=df_long[\"Predicted Group: Model\"]][df_long[\"Predicted Group: Model\"] == \"Problem\"])\n",
    "true_negative = len(df_long[df_long[\"Group\"]==df_long[\"Predicted Group: Model\"]][df_long[\"Predicted Group: Model\"] == \"NoProblem\"])\n",
    "false_negative = len(df_long[df_long[\"Group\"]!=df_long[\"Predicted Group: Model\"]][df_long[\"Predicted Group: Model\"] == \"NoProblem\"])\n",
    "(true_positive+true_negative) / (true_positive+true_negative+false_negative+false_positive)"
   ]
  },
  {
   "cell_type": "markdown",
   "id": "3869019e",
   "metadata": {},
   "source": [
    "The `score()` function is also doing the same thing."
   ]
  },
  {
   "cell_type": "code",
   "execution_count": 276,
   "id": "d2a57643",
   "metadata": {},
   "outputs": [
    {
     "data": {
      "text/plain": [
       "0.855"
      ]
     },
     "execution_count": 276,
     "metadata": {},
     "output_type": "execute_result"
    }
   ],
   "source": [
    "clf.score(X, y)"
   ]
  },
  {
   "cell_type": "markdown",
   "id": "5c434adc",
   "metadata": {},
   "source": [
    "So in comparison to our model, the accuracy of the fitted model is higher. \n",
    "\n",
    "To get the boundary of our model, we can now look at, e.g., the minimum value of the \"Problem\" Group. "
   ]
  },
  {
   "cell_type": "code",
   "execution_count": 277,
   "id": "5f4db2c2",
   "metadata": {},
   "outputs": [
    {
     "data": {
      "text/plain": [
       "0.8717871358147095"
      ]
     },
     "execution_count": 277,
     "metadata": {},
     "output_type": "execute_result"
    }
   ],
   "source": [
    "min(df_long[\"Measure\"][df_long[\"Predicted Group: Model\"]==\"Problem\"])"
   ]
  },
  {
   "cell_type": "markdown",
   "id": "872278a5",
   "metadata": {},
   "source": [
    "To get a better picture, we can now look at the histogram again, showing the result of the model prediction. "
   ]
  },
  {
   "cell_type": "code",
   "execution_count": 278,
   "id": "4d6d7d63",
   "metadata": {},
   "outputs": [
    {
     "data": {
      "image/png": "[encoded data removed]",
      "text/plain": [
       "<Figure size 640x480 with 1 Axes>"
      ]
     },
     "metadata": {},
     "output_type": "display_data"
    }
   ],
   "source": [
    "plt.hist([df_long[\"Measure\"][df_long[\"Predicted Group: Model\"]==\"NoProblem\"], \n",
    "         df_long[\"Measure\"][df_long[\"Predicted Group: Model\"]==\"Problem\"]], \n",
    "         bins=20, histtype='bar', color=['b','r'], label=['No Problem', 'Problem'])\n",
    "plt.legend()\n",
    "plt.xlabel('Measure')\n",
    "plt.ylabel('Frequency')\n",
    "plt.show()"
   ]
  },
  {
   "cell_type": "markdown",
   "id": "5dae01f4",
   "metadata": {},
   "source": [
    "The `0.87` value is the best solution the model could find. Considering that the accuracy is the highest. \n",
    "\n",
    "**Exercise** Think about that approach and what might be problems here."
   ]
  },
  {
   "cell_type": "markdown",
   "id": "80f681f1",
   "metadata": {},
   "source": [
    "**Train-Test split**\n",
    "\n",
    "The train-test split is an essential step in the machine-learning process because it allows you to evaluate your model's performance on unseen data.\n",
    "When you train a machine learning model, you use a dataset to fit the model's parameters to the data. This process is known as training the model. However, using the same data to evaluate the model's performance may achieve high accuracy because it has seen the data before. This phenomenon is known as overfitting. Here the model learned the noise in the training data so that it may perform poorly on new, unseen data.\n",
    "To overcome this problem, you can split your data into training and test sets. The training set is used to fit the model's parameters, while the test set is used to evaluate the model's performance on unseen data. This allows you to estimate the model's performance on new data and compare different models' performance.\n",
    "\n",
    "To implement this we use the `train_test_split` function from sklearn. The `test_size` parameter allows you to define the amount of data in the test set in percent (i.e., `0.2` is 20\\%)."
   ]
  },
  {
   "cell_type": "code",
   "execution_count": 298,
   "id": "da524dbe",
   "metadata": {},
   "outputs": [],
   "source": [
    "X_train, X_test, y_train, y_test = train_test_split(X, y, test_size=0.2)"
   ]
  },
  {
   "cell_type": "markdown",
   "id": "1c6297ab",
   "metadata": {},
   "source": [
    "Then we fit the model only on the train data and score it on the test data."
   ]
  },
  {
   "cell_type": "code",
   "execution_count": 299,
   "id": "300e23ba",
   "metadata": {},
   "outputs": [
    {
     "name": "stdout",
     "output_type": "stream",
     "text": [
      "0.8875\n",
      "0.825\n"
     ]
    }
   ],
   "source": [
    "clf.fit(X_train, y_train)\n",
    "\n",
    "print(clf.score(X_train, y_train))\n",
    "print(clf.score(X_test, y_test))"
   ]
  },
  {
   "cell_type": "markdown",
   "id": "88d5eba1",
   "metadata": {},
   "source": [
    "The score on the training data indicates if we can learn something from the data and the test data indicates if the model can generalize to new data.  \n",
    "\n",
    "\n",
    "So lets do this again but with a differen classificatioin algorithm. So that one can compare models. The `RandomForestClassifier` function allows to fit a random forest model. "
   ]
  },
  {
   "cell_type": "code",
   "execution_count": 304,
   "id": "def1b445",
   "metadata": {},
   "outputs": [],
   "source": [
    "clf = RandomForestClassifier(n_estimators=100, max_depth=3, random_state=0)"
   ]
  },
  {
   "cell_type": "markdown",
   "id": "9a4f0e2e",
   "metadata": {},
   "source": [
    "And now we can look a the model performance again"
   ]
  },
  {
   "cell_type": "code",
   "execution_count": 305,
   "id": "3ab9ba18",
   "metadata": {},
   "outputs": [
    {
     "name": "stdout",
     "output_type": "stream",
     "text": [
      "0.8875\n",
      "0.85\n"
     ]
    }
   ],
   "source": [
    "X_train, X_test, y_train, y_test = train_test_split(X, y, test_size=0.2)\n",
    "clf.fit(X_train, y_train)\n",
    "\n",
    "print(clf.score(X_train, y_train))\n",
    "print(clf.score(X_test, y_test))"
   ]
  },
  {
   "cell_type": "markdown",
   "id": "7eeff33a",
   "metadata": {},
   "source": [
    "**Exercise** Define a decision tree clasifier `DecisionTreeClassifier()` and compare the performance to the other two models."
   ]
  },
  {
   "cell_type": "code",
   "execution_count": null,
   "id": "5aa5f642",
   "metadata": {},
   "outputs": [],
   "source": []
  },
  {
   "cell_type": "markdown",
   "id": "b7b2cdd5",
   "metadata": {},
   "source": [
    "**Cross Validation**\n",
    "\n",
    "Cross-validation allows you to evaluate your model's performance on multiple subsets of your data rather than just a single train-test split. Therefore it provides a more robust estimate of your model's performance and reduces the risk of overfitting.\n",
    "\n",
    "![alt text](./images/cv_figure.jpg \"Title\")"
   ]
  },
  {
   "cell_type": "code",
   "execution_count": null,
   "id": "146ea6b2",
   "metadata": {},
   "outputs": [],
   "source": []
  },
  {
   "cell_type": "code",
   "execution_count": 291,
   "id": "47ef847b",
   "metadata": {},
   "outputs": [
    {
     "name": "stdout",
     "output_type": "stream",
     "text": [
      "Mean accuracy: 0.861 +/- 0.047\n"
     ]
    }
   ],
   "source": [
    "# Define the cross-validation method\n",
    "cv = RepeatedStratifiedKFold(n_splits=5, n_repeats=10)\n",
    "\n",
    "# Compute cross-validated accuracy scores\n",
    "scores = cross_val_score(clf, X, y, cv=cv, n_jobs=-1)\n",
    "\n",
    "# Print the mean and standard deviation of the accuracy scores\n",
    "print(\"Mean accuracy: {:.3f} +/- {:.3f}\".format(np.mean(scores), np.std(scores)))\n"
   ]
  },
  {
   "cell_type": "code",
   "execution_count": null,
   "id": "1aad47b6",
   "metadata": {},
   "outputs": [],
   "source": [
    "def cv_function()"
   ]
  },
  {
   "cell_type": "code",
   "execution_count": 297,
   "id": "09eddf82",
   "metadata": {},
   "outputs": [
    {
     "data": {
      "image/png": "[encoded data removed]",
      "text/plain": [
       "<Figure size 640x480 with 1 Axes>"
      ]
     },
     "metadata": {},
     "output_type": "display_data"
    }
   ],
   "source": [
    "df = pd.DataFrame(scores)\n",
    "plt.boxplot(df)\n",
    "plt.xlabel('Datasets')\n",
    "plt.ylabel('Values')\n",
    "plt.ylim(0.5, 1)\n",
    "#plt.xticks([1, 2], df.columns.tolist())\n",
    "plt.show()"
   ]
  }
 ],
 "metadata": {
  "kernelspec": {
   "display_name": "Python 3 (ipykernel)",
   "language": "python",
   "name": "python3"
  },
  "language_info": {
   "codemirror_mode": {
    "name": "ipython",
    "version": 3
   },
   "file_extension": ".py",
   "mimetype": "text/x-python",
   "name": "python",
   "nbconvert_exporter": "python",
   "pygments_lexer": "ipython3",
   "version": "3.9.12"
  }
 },
 "nbformat": 4,
 "nbformat_minor": 5
}
